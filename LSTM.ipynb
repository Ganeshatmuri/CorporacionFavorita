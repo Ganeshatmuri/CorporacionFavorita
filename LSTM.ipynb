{
 "cells": [
  {
   "cell_type": "code",
   "execution_count": 1,
   "metadata": {
    "id": "Ndwbl6-rBj7I"
   },
   "outputs": [],
   "source": [
    "import numpy as np\n",
    "import matplotlib.pyplot as plt\n",
    "import pandas as pd\n",
    "from sklearn.metrics import mean_squared_error\n",
    "import warnings\n",
    "from sklearn.model_selection import train_test_split\n",
    "from tensorflow.keras.models import Sequential\n",
    "from tensorflow.keras.layers import Dense,Dropout,LSTM,Bidirectional\n",
    "import matplotlib.pyplot as plt\n",
    "from sklearn.preprocessing import MinMaxScaler\n",
    "\n",
    "warnings.filterwarnings(\"ignore\")"
   ]
  },
  {
   "cell_type": "code",
   "execution_count": 35,
   "metadata": {
    "id": "0KvSudpDBv-p"
   },
   "outputs": [],
   "source": [
    "df=pd.read_csv(\"kaggle_train.csv\",parse_dates=['date'])"
   ]
  },
  {
   "cell_type": "code",
   "execution_count": 36,
   "metadata": {
    "colab": {
     "base_uri": "https://localhost:8080/",
     "height": 409
    },
    "id": "SIHvQVp-B3C-",
    "outputId": "9ce2501c-c160-481a-da08-8d5fa134e17e"
   },
   "outputs": [
    {
     "data": {
      "text/html": [
       "<div>\n",
       "<style scoped>\n",
       "    .dataframe tbody tr th:only-of-type {\n",
       "        vertical-align: middle;\n",
       "    }\n",
       "\n",
       "    .dataframe tbody tr th {\n",
       "        vertical-align: top;\n",
       "    }\n",
       "\n",
       "    .dataframe thead th {\n",
       "        text-align: right;\n",
       "    }\n",
       "</style>\n",
       "<table border=\"1\" class=\"dataframe\">\n",
       "  <thead>\n",
       "    <tr style=\"text-align: right;\">\n",
       "      <th></th>\n",
       "      <th>Unnamed: 0</th>\n",
       "      <th>date</th>\n",
       "      <th>store_nbr</th>\n",
       "      <th>sales</th>\n",
       "      <th>onpromotion</th>\n",
       "      <th>cluster</th>\n",
       "      <th>WorkDay</th>\n",
       "      <th>dcoilwtico</th>\n",
       "      <th>transactions</th>\n",
       "      <th>GROCERY I</th>\n",
       "      <th>...</th>\n",
       "      <th>c_Cayambe</th>\n",
       "      <th>c_Cuenca</th>\n",
       "      <th>c_Ambato</th>\n",
       "      <th>c_Daule</th>\n",
       "      <th>c_Loja</th>\n",
       "      <th>c_Manta</th>\n",
       "      <th>c_Babahoyo</th>\n",
       "      <th>c_Libertad</th>\n",
       "      <th>c_Esmeraldas</th>\n",
       "      <th>store_type</th>\n",
       "    </tr>\n",
       "  </thead>\n",
       "  <tbody>\n",
       "    <tr>\n",
       "      <th>0</th>\n",
       "      <td>0</td>\n",
       "      <td>2013-01-01</td>\n",
       "      <td>25</td>\n",
       "      <td>0</td>\n",
       "      <td>0</td>\n",
       "      <td>1</td>\n",
       "      <td>0</td>\n",
       "      <td>93.14</td>\n",
       "      <td>770</td>\n",
       "      <td>0</td>\n",
       "      <td>...</td>\n",
       "      <td>0</td>\n",
       "      <td>0</td>\n",
       "      <td>0</td>\n",
       "      <td>0</td>\n",
       "      <td>0</td>\n",
       "      <td>0</td>\n",
       "      <td>0</td>\n",
       "      <td>0</td>\n",
       "      <td>0</td>\n",
       "      <td>3</td>\n",
       "    </tr>\n",
       "    <tr>\n",
       "      <th>1</th>\n",
       "      <td>1</td>\n",
       "      <td>2013-01-01</td>\n",
       "      <td>25</td>\n",
       "      <td>0</td>\n",
       "      <td>0</td>\n",
       "      <td>1</td>\n",
       "      <td>0</td>\n",
       "      <td>93.14</td>\n",
       "      <td>770</td>\n",
       "      <td>0</td>\n",
       "      <td>...</td>\n",
       "      <td>0</td>\n",
       "      <td>0</td>\n",
       "      <td>0</td>\n",
       "      <td>0</td>\n",
       "      <td>0</td>\n",
       "      <td>0</td>\n",
       "      <td>0</td>\n",
       "      <td>0</td>\n",
       "      <td>0</td>\n",
       "      <td>3</td>\n",
       "    </tr>\n",
       "    <tr>\n",
       "      <th>2</th>\n",
       "      <td>2</td>\n",
       "      <td>2013-01-01</td>\n",
       "      <td>25</td>\n",
       "      <td>2</td>\n",
       "      <td>0</td>\n",
       "      <td>1</td>\n",
       "      <td>0</td>\n",
       "      <td>93.14</td>\n",
       "      <td>770</td>\n",
       "      <td>0</td>\n",
       "      <td>...</td>\n",
       "      <td>0</td>\n",
       "      <td>0</td>\n",
       "      <td>0</td>\n",
       "      <td>0</td>\n",
       "      <td>0</td>\n",
       "      <td>0</td>\n",
       "      <td>0</td>\n",
       "      <td>0</td>\n",
       "      <td>0</td>\n",
       "      <td>3</td>\n",
       "    </tr>\n",
       "    <tr>\n",
       "      <th>3</th>\n",
       "      <td>3</td>\n",
       "      <td>2013-01-01</td>\n",
       "      <td>25</td>\n",
       "      <td>810</td>\n",
       "      <td>0</td>\n",
       "      <td>1</td>\n",
       "      <td>0</td>\n",
       "      <td>93.14</td>\n",
       "      <td>770</td>\n",
       "      <td>0</td>\n",
       "      <td>...</td>\n",
       "      <td>0</td>\n",
       "      <td>0</td>\n",
       "      <td>0</td>\n",
       "      <td>0</td>\n",
       "      <td>0</td>\n",
       "      <td>0</td>\n",
       "      <td>0</td>\n",
       "      <td>0</td>\n",
       "      <td>0</td>\n",
       "      <td>3</td>\n",
       "    </tr>\n",
       "    <tr>\n",
       "      <th>4</th>\n",
       "      <td>4</td>\n",
       "      <td>2013-01-01</td>\n",
       "      <td>25</td>\n",
       "      <td>0</td>\n",
       "      <td>0</td>\n",
       "      <td>1</td>\n",
       "      <td>0</td>\n",
       "      <td>93.14</td>\n",
       "      <td>770</td>\n",
       "      <td>0</td>\n",
       "      <td>...</td>\n",
       "      <td>0</td>\n",
       "      <td>0</td>\n",
       "      <td>0</td>\n",
       "      <td>0</td>\n",
       "      <td>0</td>\n",
       "      <td>0</td>\n",
       "      <td>0</td>\n",
       "      <td>0</td>\n",
       "      <td>0</td>\n",
       "      <td>3</td>\n",
       "    </tr>\n",
       "  </tbody>\n",
       "</table>\n",
       "<p>5 rows × 40 columns</p>\n",
       "</div>"
      ],
      "text/plain": [
       "   Unnamed: 0       date  store_nbr  sales  onpromotion  cluster  WorkDay  \\\n",
       "0           0 2013-01-01         25      0            0        1        0   \n",
       "1           1 2013-01-01         25      0            0        1        0   \n",
       "2           2 2013-01-01         25      2            0        1        0   \n",
       "3           3 2013-01-01         25    810            0        1        0   \n",
       "4           4 2013-01-01         25      0            0        1        0   \n",
       "\n",
       "   dcoilwtico  transactions  GROCERY I  ...  c_Cayambe  c_Cuenca  c_Ambato  \\\n",
       "0       93.14           770          0  ...          0         0         0   \n",
       "1       93.14           770          0  ...          0         0         0   \n",
       "2       93.14           770          0  ...          0         0         0   \n",
       "3       93.14           770          0  ...          0         0         0   \n",
       "4       93.14           770          0  ...          0         0         0   \n",
       "\n",
       "   c_Daule  c_Loja  c_Manta  c_Babahoyo  c_Libertad  c_Esmeraldas  store_type  \n",
       "0        0       0        0           0           0             0           3  \n",
       "1        0       0        0           0           0             0           3  \n",
       "2        0       0        0           0           0             0           3  \n",
       "3        0       0        0           0           0             0           3  \n",
       "4        0       0        0           0           0             0           3  \n",
       "\n",
       "[5 rows x 40 columns]"
      ]
     },
     "execution_count": 36,
     "metadata": {},
     "output_type": "execute_result"
    }
   ],
   "source": [
    "df.head()"
   ]
  },
  {
   "cell_type": "code",
   "execution_count": 37,
   "metadata": {},
   "outputs": [],
   "source": [
    "df.drop([\"onpromotion\",\"Unnamed: 0\"],1,inplace=True)"
   ]
  },
  {
   "cell_type": "code",
   "execution_count": 38,
   "metadata": {
    "id": "50sCuOWaB4Vz"
   },
   "outputs": [],
   "source": [
    "daily_sales=df.groupby(['date'])['sales'].mean()"
   ]
  },
  {
   "cell_type": "code",
   "execution_count": 6,
   "metadata": {
    "id": "bLf_01UMB45Q"
   },
   "outputs": [],
   "source": [
    "sales=daily_sales.reset_index()['sales']"
   ]
  },
  {
   "cell_type": "code",
   "execution_count": 7,
   "metadata": {
    "colab": {
     "base_uri": "https://localhost:8080/",
     "height": 282
    },
    "id": "Ilyr2wdlB5gD",
    "outputId": "46554663-559a-47c1-c9fd-5efafee61e72"
   },
   "outputs": [
    {
     "data": {
      "text/plain": [
       "[<matplotlib.lines.Line2D at 0x18ba1590108>]"
      ]
     },
     "execution_count": 7,
     "metadata": {},
     "output_type": "execute_result"
    },
    {
     "data": {
      "image/png": "[encoded data removed]",
      "text/plain": [
       "<Figure size 432x288 with 1 Axes>"
      ]
     },
     "metadata": {
      "needs_background": "light"
     },
     "output_type": "display_data"
    }
   ],
   "source": [
    "plt.plot(sales)"
   ]
  },
  {
   "cell_type": "code",
   "execution_count": 8,
   "metadata": {
    "id": "EnEucA2-B6DE"
   },
   "outputs": [],
   "source": [
    "scaler=MinMaxScaler(feature_range=(0,1))\n",
    "sales=scaler.fit_transform(np.array(sales).reshape(-1,1))"
   ]
  },
  {
   "cell_type": "code",
   "execution_count": 9,
   "metadata": {
    "id": "Y0pCqs6IB6oi"
   },
   "outputs": [],
   "source": [
    "##splitting dataset into train and test split\n",
    "training_size=int(len(sales)*0.8)\n",
    "test_size=len(sales)-training_size\n",
    "train_data,test_data=sales[0:training_size,:],sales[training_size:len(sales),:1]"
   ]
  },
  {
   "cell_type": "code",
   "execution_count": 10,
   "metadata": {
    "id": "BLZeoI42B7Mf"
   },
   "outputs": [],
   "source": [
    "# convert an array of values into a dataset matrix\n",
    "def create_dataset(dataset, time_step=1):\n",
    "\tdataX, dataY = [], []\n",
    "\tfor i in range(len(dataset)-time_step-1):\n",
    "\t\ta = dataset[i:(i+time_step), 0]   ###i=0, 0,1,2,3-----99   100 \n",
    "\t\tdataX.append(a)\n",
    "\t\tdataY.append(dataset[i + time_step, 0])\n",
    "\treturn np.array(dataX), np.array(dataY)"
   ]
  },
  {
   "cell_type": "code",
   "execution_count": 11,
   "metadata": {
    "id": "Z3tQtNiPB7zo"
   },
   "outputs": [],
   "source": [
    "# reshape into X=t,t+1,t+2,t+3 and Y=t+4\n",
    "time_step = 100\n",
    "X_train, y_train = create_dataset(train_data, time_step)\n",
    "X_test, y_test = create_dataset(test_data, time_step)"
   ]
  },
  {
   "cell_type": "code",
   "execution_count": 12,
   "metadata": {
    "id": "21654MqqB8aY"
   },
   "outputs": [],
   "source": [
    "# reshape input to be [samples, time steps, features] which is required for LSTM\n",
    "X_train =X_train.reshape(X_train.shape[0],X_train.shape[1] , 1)\n",
    "X_test = X_test.reshape(X_test.shape[0],X_test.shape[1] , 1)"
   ]
  },
  {
   "cell_type": "code",
   "execution_count": 13,
   "metadata": {
    "colab": {
     "base_uri": "https://localhost:8080/"
    },
    "id": "FFsJQgqGB8-H",
    "outputId": "19a66227-0514-45b2-dd8b-b74b5d653100"
   },
   "outputs": [
    {
     "data": {
      "text/plain": [
       "array([[[0.        ],\n",
       "        [0.34551773],\n",
       "        [0.22330554],\n",
       "        ...,\n",
       "        [0.16843456],\n",
       "        [0.18837728],\n",
       "        [0.1988382 ]],\n",
       "\n",
       "       [[0.34551773],\n",
       "        [0.22330554],\n",
       "        [0.21694193],\n",
       "        ...,\n",
       "        [0.18837728],\n",
       "        [0.1988382 ],\n",
       "        [0.16809516]],\n",
       "\n",
       "       [[0.22330554],\n",
       "        [0.21694193],\n",
       "        [0.20030032],\n",
       "        ...,\n",
       "        [0.1988382 ],\n",
       "        [0.16809516],\n",
       "        [0.16330539]],\n",
       "\n",
       "       ...,\n",
       "\n",
       "       [[0.73222808],\n",
       "        [0.6838845 ],\n",
       "        [0.57042232],\n",
       "        ...,\n",
       "        [0.58058364],\n",
       "        [0.5614575 ],\n",
       "        [0.51053031]],\n",
       "\n",
       "       [[0.6838845 ],\n",
       "        [0.57042232],\n",
       "        [0.43091946],\n",
       "        ...,\n",
       "        [0.5614575 ],\n",
       "        [0.51053031],\n",
       "        [0.49986146]],\n",
       "\n",
       "       [[0.57042232],\n",
       "        [0.43091946],\n",
       "        [0.45045844],\n",
       "        ...,\n",
       "        [0.51053031],\n",
       "        [0.49986146],\n",
       "        [0.38302403]]])"
      ]
     },
     "execution_count": 13,
     "metadata": {},
     "output_type": "execute_result"
    }
   ],
   "source": [
    "X_train"
   ]
  },
  {
   "cell_type": "code",
   "execution_count": 14,
   "metadata": {
    "colab": {
     "base_uri": "https://localhost:8080/"
    },
    "id": "e09PJFyQB9pP",
    "outputId": "d6c52ce6-ddb1-47ec-ccd6-e9f43816e467"
   },
   "outputs": [
    {
     "data": {
      "text/plain": [
       "array([[[0.38922883],\n",
       "        [0.40628426],\n",
       "        [0.36049171],\n",
       "        ...,\n",
       "        [0.34937721],\n",
       "        [0.46409293],\n",
       "        [0.44519137]],\n",
       "\n",
       "       [[0.40628426],\n",
       "        [0.36049171],\n",
       "        [0.46168122],\n",
       "        ...,\n",
       "        [0.46409293],\n",
       "        [0.44519137],\n",
       "        [0.50830322]],\n",
       "\n",
       "       [[0.36049171],\n",
       "        [0.46168122],\n",
       "        [0.45287512],\n",
       "        ...,\n",
       "        [0.44519137],\n",
       "        [0.50830322],\n",
       "        [0.65293211]],\n",
       "\n",
       "       ...,\n",
       "\n",
       "       [[0.4237    ],\n",
       "        [0.51592687],\n",
       "        [0.51292815],\n",
       "        ...,\n",
       "        [0.51183142],\n",
       "        [0.45021   ],\n",
       "        [0.46285737]],\n",
       "\n",
       "       [[0.51592687],\n",
       "        [0.51292815],\n",
       "        [0.44898665],\n",
       "        ...,\n",
       "        [0.45021   ],\n",
       "        [0.46285737],\n",
       "        [0.3988681 ]],\n",
       "\n",
       "       [[0.51292815],\n",
       "        [0.44898665],\n",
       "        [0.5448599 ],\n",
       "        ...,\n",
       "        [0.46285737],\n",
       "        [0.3988681 ],\n",
       "        [0.53417755]]])"
      ]
     },
     "execution_count": 14,
     "metadata": {},
     "output_type": "execute_result"
    }
   ],
   "source": [
    "X_test"
   ]
  },
  {
   "cell_type": "code",
   "execution_count": 15,
   "metadata": {
    "colab": {
     "base_uri": "https://localhost:8080/"
    },
    "id": "sNPCqw5aB-TL",
    "outputId": "d58e5c28-a733-45fe-8a4b-5e24cd85f3c7"
   },
   "outputs": [
    {
     "data": {
      "text/plain": [
       "array([0.16809516, 0.16330539, 0.15218078, 0.24912681, 0.18093719,\n",
       "       0.16823376, 0.17000894, 0.16557811, 0.18860384, 0.27396948,\n",
       "       0.22364888, 0.21661659, 0.17726067, 0.21295163, 0.20592557,\n",
       "       0.14737413, 0.17964001, 0.14650431, 0.18566299, 0.22475859,\n",
       "       0.18027883, 0.19244096, 0.15627221, 0.17923664, 0.19426077,\n",
       "       0.16627378, 0.1633587 , 0.13197862, 0.18322235, 0.28766355,\n",
       "       0.24253787, 0.22796065, 0.18572163, 0.20738444, 0.22693035,\n",
       "       0.18319301, 0.18033982, 0.15093831, 0.17547861, 0.21181019,\n",
       "       0.19975383, 0.18958294, 0.15577955, 0.17961268, 0.20636163,\n",
       "       0.18226797, 0.17590617, 0.16575617, 0.18452655, 0.19609906,\n",
       "       0.18435589, 0.2132395 , 0.2483876 , 0.24508158, 0.25680946,\n",
       "       0.21259624, 0.2073027 , 0.17145004, 0.19504974, 0.20572921,\n",
       "       0.17690617, 0.18337694, 0.17152912, 0.21901726, 0.21688047,\n",
       "       0.19996389, 0.19346469, 0.16746878, 0.19006894, 0.20362708,\n",
       "       0.17921266, 0.17888836, 0.15684173, 0.21052609, 0.30280318,\n",
       "       0.2485031 , 0.24396121, 0.18892192, 0.19320082, 0.23026269,\n",
       "       0.1688939 , 0.18227168, 0.14648299, 0.17909005, 0.22678076,\n",
       "       0.18595796, 0.17565875, 0.14357501, 0.19001563, 0.21150519,\n",
       "       0.16467719, 0.17281208, 0.1377857 , 0.17970398, 0.22130775,\n",
       "       0.28293864, 0.26341527, 0.20519257, 0.23111385, 0.22691936,\n",
       "       0.18546575, 0.18173948, 0.16619738, 0.25314805, 0.19964937,\n",
       "       0.16637685, 0.21120133, 0.17322078, 0.18244227, 0.20500688,\n",
       "       0.16317834, 0.18224769, 0.14044491, 0.17733353, 0.2034174 ,\n",
       "       0.16379849, 0.17903496, 0.16010954, 0.25379486, 0.27216054,\n",
       "       0.24464356, 0.23850597, 0.202847  , 0.21366419, 0.22753774,\n",
       "       0.22682074, 0.19039768, 0.14800672, 0.20558617, 0.24340591,\n",
       "       0.18788418, 0.21000012, 0.15998249, 0.19790441, 0.22031887,\n",
       "       0.18240939, 0.1946668 , 0.16702099, 0.21235991, 0.33539602,\n",
       "       0.27227071, 0.27201305, 0.2384802 , 0.27957576, 0.28814688,\n",
       "       0.26337263, 0.27095044, 0.23656465, 0.28134916, 0.3536693 ,\n",
       "       0.32204667, 0.36381303, 0.34602752, 0.37858749, 0.59960559,\n",
       "       0.44660741, 0.31339203, 0.32102493, 0.45946277, 0.34585605,\n",
       "       0.07474746, 0.61943712, 0.49990085, 0.43024436, 0.39575195,\n",
       "       0.46037523, 0.33616722, 0.37763416, 0.38873744, 0.3417353 ,\n",
       "       0.39897534, 0.34184813, 0.37752399, 0.40677882, 0.37386791,\n",
       "       0.38656956, 0.30454281, 0.36259226, 0.37562887, 0.32303644,\n",
       "       0.35080752, 0.29819821, 0.3934126 , 0.30532734, 0.25339505,\n",
       "       0.24979405, 0.21425325, 0.24120516, 0.2475551 , 0.21358778,\n",
       "       0.23968853, 0.203803  , 0.21609417, 0.26125095, 0.21976002,\n",
       "       0.21516838, 0.18165952, 0.22338234, 0.2543164 , 0.20739955,\n",
       "       0.20933998, 0.18866248, 0.27331822, 0.4406493 , 0.56055798,\n",
       "       0.55418227, 0.44074792, 0.42667446, 0.41705582, 0.37436723,\n",
       "       0.4066189 , 0.3156612 , 0.36649889, 0.4395387 , 0.37264359,\n",
       "       0.41577464, 0.34018846, 0.38275178, 0.40691523, 0.37480525,\n",
       "       0.40130048, 0.31147026, 0.3739532 , 0.47426033, 0.32615765,\n",
       "       0.30734862, 0.24067207, 0.2706297 , 0.2737438 , 0.22982467,\n",
       "       0.22862257, 0.19196495, 0.23248122, 0.24138509, 0.22622863,\n",
       "       0.26859339, 0.25598872, 0.25319908, 0.25708351, 0.23155282,\n",
       "       0.23308335, 0.18646105, 0.21941021, 0.22403722, 0.19141305,\n",
       "       0.21932488, 0.37664042, 0.2975755 , 0.28334226, 0.24825434,\n",
       "       0.25096319, 0.20153219, 0.24134152, 0.25669952, 0.22264649,\n",
       "       0.21867944, 0.19680351, 0.24088218, 0.24812907, 0.21686931,\n",
       "       0.21915785, 0.17718888, 0.2124865 , 0.23453672, 0.19260861,\n",
       "       0.2024418 , 0.18536535, 0.22904282, 0.35071245, 0.28933389,\n",
       "       0.2712463 , 0.21456066, 0.2427982 , 0.26460672, 0.20763411,\n",
       "       0.22730051, 0.18783531, 0.24372399, 0.29272253, 0.23315024,\n",
       "       0.22693891, 0.19039501, 0.22320464, 0.26382486, 0.19766363,\n",
       "       0.21088415, 0.17574938, 0.22461465, 0.27661358, 0.53528084,\n",
       "       0.55922793, 0.41388041, 0.42417163, 0.46247648, 0.3902896 ,\n",
       "       0.40555095, 0.33764564, 0.37105588, 0.4147911 , 0.39523575,\n",
       "       0.44718759, 0.3378109 , 0.38169183, 0.42843897, 0.36628121,\n",
       "       0.40527997, 0.31675019, 0.39952309, 0.40315781, 0.3516654 ,\n",
       "       0.39803545, 0.35833717, 0.33608605, 0.31380073, 0.26584259,\n",
       "       0.25314627, 0.21476146, 0.24857418, 0.25904131, 0.20960208,\n",
       "       0.22578566, 0.19790618, 0.2528895 , 0.27990983, 0.23218802,\n",
       "       0.24890025, 0.2106718 , 0.24021007, 0.26144375, 0.21062383,\n",
       "       0.22063339, 0.18649905, 0.253483  , 0.61704815, 0.53249281,\n",
       "       0.54078939, 0.38500051, 0.43094181, 0.47146074, 0.39484748,\n",
       "       0.43976437, 0.31574886, 0.38613692, 0.44385393, 0.42429188,\n",
       "       0.43233472, 0.3122951 , 0.37381125, 0.40766771, 0.38228994,\n",
       "       0.41555047, 0.30131004, 0.34359647, 0.40555021, 0.41634127,\n",
       "       0.57763553, 0.44697537, 0.48293019, 0.45322869, 0.40530836,\n",
       "       0.43469841, 0.3392797 , 0.50627659, 0.42733676, 0.37414445,\n",
       "       0.43870374, 0.36341429, 0.3810511 , 0.43856019, 0.36684891,\n",
       "       0.40402255, 0.32338542, 0.3548373 , 0.39347248, 0.34117013,\n",
       "       0.38304072, 0.29507674, 0.38395592, 0.7417859 , 0.50652018,\n",
       "       0.52047704, 0.3876524 , 0.40436967, 0.41136854, 0.37581043,\n",
       "       0.40676555, 0.30233747, 0.37624367, 0.43529521, 0.37655599,\n",
       "       0.39993371, 0.34043501, 0.38926358, 0.4265564 , 0.36598504,\n",
       "       0.39895674, 0.30907883, 0.3819898 , 0.6062635 , 0.53483757,\n",
       "       0.51728166, 0.39880972, 0.44794886, 0.58265524, 0.47376858,\n",
       "       0.5320589 , 0.40018774, 0.45431353, 0.58256128, 0.5902918 ,\n",
       "       0.57366849, 0.53189969, 0.55399856, 0.77218946, 0.82162179,\n",
       "       0.73551518, 0.65383584, 0.56848001, 0.68938351, 0.62971691,\n",
       "       0.42856603, 0.46739173, 0.39040411, 0.31090576, 0.32506881,\n",
       "       0.25835722, 0.27741208, 0.28042564, 0.23775034, 0.24395407,\n",
       "       0.21804822, 0.26367967, 0.28509736, 0.24777583, 0.25463551,\n",
       "       0.21257962, 0.25788396, 0.25186206, 0.20836725, 0.22308881,\n",
       "       0.19362046, 0.27438547, 0.36347606, 0.30861514, 0.28832667,\n",
       "       0.24966713, 0.27547206, 0.2936091 , 0.24387925, 0.24325809,\n",
       "       0.23006332, 0.31553041, 0.25372804, 0.30686854, 0.3191489 ,\n",
       "       0.2670447 , 0.30736793, 0.27299995, 0.24277968, 0.23245088,\n",
       "       0.19765339, 0.26715549, 0.36051269, 0.31477194, 0.30706881,\n",
       "       0.26042898, 0.2903612 , 0.30455393, 0.28537662, 0.25788683,\n",
       "       0.22121618, 0.26571951, 0.29281387, 0.24913803, 0.23488565,\n",
       "       0.21331703, 0.2857633 , 0.28157577, 0.23539019, 0.236136  ,\n",
       "       0.20167616, 0.26005852, 0.26833324, 0.27293774, 0.37004297,\n",
       "       0.34222764, 0.33005295, 0.33809186, 0.29126881, 0.28815909,\n",
       "       0.23495979, 0.27514326, 0.2818425 , 0.23914074, 0.26852755,\n",
       "       0.25194181, 0.28403268, 0.305678  , 0.25823113, 0.2540391 ,\n",
       "       0.22935991, 0.26811678, 0.25739852, 0.21460557, 0.23496576,\n",
       "       0.26383953, 0.46999628, 0.36921206, 0.32936947, 0.32553452,\n",
       "       0.27361866, 0.30534052, 0.34246541, 0.28051049, 0.27603894,\n",
       "       0.23231027, 0.30723925, 0.31836913, 0.27557363, 0.29250196,\n",
       "       0.25054674, 0.28609674, 0.35093127, 0.28985414, 0.30576577,\n",
       "       0.26034291, 0.36329604, 0.57337566, 0.52438726, 0.51979551,\n",
       "       0.40376073, 0.44440831, 0.47721368, 0.4160619 , 0.43084937,\n",
       "       0.32109338, 0.40177804, 0.45183462, 0.45691494, 0.46069992,\n",
       "       0.35962298, 0.44571201, 0.48077316, 0.42992568, 0.43251052,\n",
       "       0.32835098, 0.39065111, 0.42888506, 0.45433678, 0.63506862,\n",
       "       0.48447462, 0.5405444 , 0.52565504, 0.45318641, 0.50732062,\n",
       "       0.40045179, 0.43298322, 0.4363122 , 0.39745521, 0.4501242 ,\n",
       "       0.3829066 , 0.44089309, 0.46805022, 0.40279778, 0.42245928,\n",
       "       0.34740114, 0.41527213, 0.42982205, 0.38231332, 0.40725862,\n",
       "       0.34007433, 0.4642727 , 0.55928197, 0.49008837, 0.4882379 ,\n",
       "       0.3728047 , 0.43827362, 0.53829307, 0.44234219, 0.45034669,\n",
       "       0.35191979, 0.49653308, 0.4639984 , 0.41055344, 0.4304255 ,\n",
       "       0.36140057, 0.41975983, 0.44248441, 0.3968096 , 0.40915321,\n",
       "       0.33525135, 0.40567682, 0.51843724, 0.62314552, 0.60105294,\n",
       "       0.4629725 , 0.48650494, 0.51139132, 0.4390546 , 0.46180166,\n",
       "       0.35910421, 0.41818988, 0.44797001, 0.44292448, 0.4910815 ,\n",
       "       0.37181963, 0.42018384, 0.47150566, 0.41063322, 0.44958172,\n",
       "       0.34270201, 0.41397068, 0.4342034 , 0.38431662, 0.46626338,\n",
       "       0.5346443 , 0.56224818, 0.54523486, 0.45420325, 0.47378872,\n",
       "       0.37943651, 0.58371487, 0.46371632, 0.35617594, 0.43737783,\n",
       "       0.35050941, 0.44181052, 0.44608563, 0.41540111, 0.42528209,\n",
       "       0.3261438 , 0.39864577, 0.40721175, 0.35768555, 0.36740027,\n",
       "       0.29843123, 0.39614578, 0.49594826, 0.70938232, 0.56918375,\n",
       "       0.40701241, 0.42394345, 0.4337874 , 0.38641687, 0.43858961,\n",
       "       0.29454927, 0.38890031, 0.459676  , 0.3827839 , 0.43402692,\n",
       "       0.33671734, 0.41958168, 0.44405523, 0.37789738, 0.41429964,\n",
       "       0.31300489, 0.40339992, 0.49554092, 0.57085566, 0.57844623,\n",
       "       0.42844548, 0.48554412, 0.54304302, 0.45656146, 0.48439459,\n",
       "       0.41311465, 0.453272  , 0.53459365, 0.50954257, 0.57266703,\n",
       "       0.53317938, 0.59917334, 0.74044265, 0.79479391, 0.8375592 ,\n",
       "       0.74895427, 0.51731357, 0.58120543, 0.70669717, 0.655165  ,\n",
       "       0.42465267, 0.55328485, 0.54253325, 0.41003004, 0.45738638,\n",
       "       0.4509942 , 0.4049568 , 0.41518444, 0.33792203, 0.42383473,\n",
       "       0.45437427, 0.39224019, 0.47718378, 0.3307128 , 0.40603542,\n",
       "       0.41364647, 0.37533515, 0.40512225, 0.31564906, 0.41553663,\n",
       "       0.58223915, 0.49807321, 0.50368458, 0.40753163, 0.50071501,\n",
       "       0.3966721 , 0.48365712, 0.51835674, 0.40441709, 0.44521422,\n",
       "       0.48344124, 0.46172768, 0.46542526, 0.34430475, 0.42500396,\n",
       "       0.4458075 , 0.40045162, 0.42742437, 0.33475548, 0.40091017,\n",
       "       0.46764318, 0.60262195, 0.58727536, 0.42426885, 0.4841267 ,\n",
       "       0.47671184, 0.40120721, 0.44245186, 0.34620673, 0.41901439,\n",
       "       0.42151201, 0.42160499, 0.47803156, 0.35247678, 0.4204783 ,\n",
       "       0.43916083, 0.39519869, 0.46922983, 0.41554372, 0.39429581,\n",
       "       0.41598731, 0.38455981, 0.4152585 , 0.3815666 , 0.58255509,\n",
       "       0.52172104, 0.46696323, 0.48195842, 0.35837889, 0.43858094,\n",
       "       0.41937525, 0.40858032, 0.42509535, 0.32595786, 0.4211551 ,\n",
       "       0.95559117, 0.80287376, 0.73222808, 0.6838845 , 0.57042232,\n",
       "       0.43091946, 0.45045844, 0.42326429, 0.32323805, 0.4535328 ,\n",
       "       0.66254362, 0.51931797, 0.52439594, 0.40625446, 0.49506582,\n",
       "       0.503215  , 0.4411739 , 0.4683641 , 0.37055264, 0.42054369,\n",
       "       0.48457738, 0.41667986, 0.42401673, 0.3532828 , 0.451411  ,\n",
       "       0.44274181, 0.3729171 , 0.39744502, 0.34580175, 0.56696583,\n",
       "       0.48801023, 0.66282017, 0.53454874, 0.44236441, 0.48004541,\n",
       "       0.47022275, 0.41414206, 0.44411274, 0.32623993, 0.39731974,\n",
       "       0.43515676, 0.38541861, 0.45323576, 0.38405634, 0.47652195,\n",
       "       0.47484453, 0.4303246 , 0.42912464, 0.33609254, 0.40083454,\n",
       "       0.43465014, 0.36548648, 0.39348349, 0.33175282, 0.57039395,\n",
       "       0.56556496, 0.46874702, 0.4877258 , 0.36134295, 0.43766383,\n",
       "       0.43756692, 0.38919183, 0.40137109, 0.31677339, 0.42699654,\n",
       "       0.4487361 , 0.39402162, 0.43631023, 0.35119173, 0.40462824,\n",
       "       0.44461621, 0.38581571, 0.40816195, 0.31528663, 0.42270725,\n",
       "       0.60077119, 0.50780448, 0.50958276, 0.38591971, 0.44989746,\n",
       "       0.45864465, 0.39589129, 0.41394509, 0.36531393, 0.48264704,\n",
       "       0.47336632, 0.47228783, 0.47811954, 0.3587846 , 0.44022946,\n",
       "       0.48047576, 0.43621845, 0.44751368, 0.34910151, 0.42465548,\n",
       "       0.44525136, 0.4066609 , 0.49403331, 0.48311964, 0.58058364,\n",
       "       0.5614575 , 0.51053031, 0.49986146, 0.38302403, 0.43470942])"
      ]
     },
     "execution_count": 15,
     "metadata": {},
     "output_type": "execute_result"
    }
   ],
   "source": [
    "y_train"
   ]
  },
  {
   "cell_type": "code",
   "execution_count": 16,
   "metadata": {
    "colab": {
     "base_uri": "https://localhost:8080/"
    },
    "id": "YxlIV9-eB-4X",
    "outputId": "d5d1f3b6-a38a-4508-9467-75e9a14ad183"
   },
   "outputs": [
    {
     "data": {
      "text/plain": [
       "array([0.50830322, 0.65293211, 0.48518563, 0.55276878, 0.51495619,\n",
       "       0.47773373, 0.51253657, 0.38709761, 0.48779829, 0.520982  ,\n",
       "       0.40145146, 0.48273843, 0.40410351, 0.4930362 , 0.49324972,\n",
       "       0.46070026, 0.47770852, 0.42742358, 0.53821796, 0.48209315,\n",
       "       0.6431378 , 0.68975746, 0.55400577, 0.59056639, 0.51770042,\n",
       "       0.49542273, 0.51052586, 0.41035072, 0.50486249, 0.48953008,\n",
       "       0.44745262, 0.53776886, 0.44596508, 0.53515857, 0.54628678,\n",
       "       0.48340499, 0.50015009, 0.4237    , 0.51592687, 0.51292815,\n",
       "       0.44898665, 0.5448599 , 0.39752381, 0.58749834, 0.55319581,\n",
       "       0.55351649, 0.56219671, 0.43332333, 0.49826782, 0.47770773,\n",
       "       0.4792331 , 0.51896578, 0.47585303, 0.47888485, 0.50648633,\n",
       "       0.46021886, 0.47482562, 0.41774288, 0.51053691, 0.47905575,\n",
       "       0.45115266, 0.4992173 , 0.37839336, 0.51195669, 0.90562046,\n",
       "       0.59678029, 0.60987386, 0.44934004, 0.49893195, 0.4954691 ,\n",
       "       0.44867963, 0.48756904, 0.39674152, 0.48656761, 0.53160168,\n",
       "       0.51982428, 0.54581499, 0.38115869, 0.49351033, 0.49750134,\n",
       "       0.45435491, 0.47225919, 0.37467919, 0.65647154, 0.4958573 ,\n",
       "       0.46929821, 0.55869126, 0.48816371, 0.60535854, 0.60094221,\n",
       "       0.51807352, 0.54702289, 0.41101746, 0.51001416, 0.48931516,\n",
       "       0.45919501, 0.5028642 , 0.40577756, 0.54067639, 0.50694646,\n",
       "       0.50398162, 0.48761698, 0.36675824, 0.48366773, 0.47927846,\n",
       "       0.42270671, 0.46112363, 0.38295507, 0.51554714, 0.61055668,\n",
       "       0.53880809, 0.54804674, 0.43666405, 0.51826916, 0.51700945,\n",
       "       0.46007271, 0.47419708, 0.3820534 , 0.48709964, 0.52795788,\n",
       "       0.45976571, 0.48902517, 0.42739447, 0.5001963 , 0.52659841,\n",
       "       0.44696677, 0.46790395, 0.40539864, 0.54093081, 0.58018289,\n",
       "       0.65958022, 0.64115783, 0.45816188, 0.53527023, 0.51183142,\n",
       "       0.45021   , 0.46285737, 0.3988681 , 0.53417755, 0.4835788 ])"
      ]
     },
     "execution_count": 16,
     "metadata": {},
     "output_type": "execute_result"
    }
   ],
   "source": [
    "y_test"
   ]
  },
  {
   "cell_type": "code",
   "execution_count": 17,
   "metadata": {
    "id": "eARCd9KzB_Z_"
   },
   "outputs": [],
   "source": [
    "def plot_history(history, title):\n",
    "  loss = history.history['loss']\n",
    "  val_loss = history.history['val_loss']\n",
    "\n",
    "  epochs = range(len(loss))\n",
    "\n",
    "  plt.figure()\n",
    "\n",
    "  plt.plot(epochs, loss, 'b', label='Training loss')\n",
    "  plt.plot(epochs, val_loss, 'r', label='Validation loss')\n",
    "  plt.title(title)\n",
    "  plt.legend()\n",
    "  plt.grid()\n",
    "\n",
    "  plt.show()"
   ]
  },
  {
   "cell_type": "code",
   "execution_count": 18,
   "metadata": {
    "id": "cpsWAoYkCABq"
   },
   "outputs": [],
   "source": [
    "model=Sequential()\n",
    "model.add(LSTM(50,return_sequences=True,input_shape=(100,1)))\n",
    "model.add(LSTM(50))\n",
    "model.add(Dense(1))\n",
    "model.compile(loss='mean_squared_error',optimizer='adam')"
   ]
  },
  {
   "cell_type": "code",
   "execution_count": 19,
   "metadata": {
    "colab": {
     "base_uri": "https://localhost:8080/"
    },
    "id": "53Esgs2NCBBU",
    "outputId": "1e7db88a-56eb-4f82-df24-5e16b1e1256a"
   },
   "outputs": [
    {
     "name": "stdout",
     "output_type": "stream",
     "text": [
      "Model: \"sequential\"\n",
      "_________________________________________________________________\n",
      " Layer (type)                Output Shape              Param #   \n",
      "=================================================================\n",
      " lstm (LSTM)                 (None, 100, 50)           10400     \n",
      "                                                                 \n",
      " lstm_1 (LSTM)               (None, 50)                20200     \n",
      "                                                                 \n",
      " dense (Dense)               (None, 1)                 51        \n",
      "                                                                 \n",
      "=================================================================\n",
      "Total params: 30,651\n",
      "Trainable params: 30,651\n",
      "Non-trainable params: 0\n",
      "_________________________________________________________________\n"
     ]
    }
   ],
   "source": [
    "model.summary()"
   ]
  },
  {
   "cell_type": "code",
   "execution_count": 20,
   "metadata": {
    "colab": {
     "base_uri": "https://localhost:8080/"
    },
    "id": "DYj4Snq_CBl0",
    "outputId": "05e38455-9e96-472a-ce8b-97f3f81de9e4"
   },
   "outputs": [
    {
     "name": "stdout",
     "output_type": "stream",
     "text": [
      "Epoch 1/10\n",
      "27/27 [==============================] - 10s 46ms/step - loss: 0.0265 - val_loss: 0.0056\n",
      "Epoch 2/10\n",
      "27/27 [==============================] - 0s 17ms/step - loss: 0.0084 - val_loss: 0.0065\n",
      "Epoch 3/10\n",
      "27/27 [==============================] - 0s 15ms/step - loss: 0.0075 - val_loss: 0.0069\n",
      "Epoch 4/10\n",
      "27/27 [==============================] - 0s 17ms/step - loss: 0.0072 - val_loss: 0.0068\n",
      "Epoch 5/10\n",
      "27/27 [==============================] - 0s 17ms/step - loss: 0.0072 - val_loss: 0.0058\n",
      "Epoch 6/10\n",
      "27/27 [==============================] - 1s 20ms/step - loss: 0.0071 - val_loss: 0.0058\n",
      "Epoch 7/10\n",
      "27/27 [==============================] - 0s 15ms/step - loss: 0.0068 - val_loss: 0.0058\n",
      "Epoch 8/10\n",
      "27/27 [==============================] - 0s 18ms/step - loss: 0.0066 - val_loss: 0.0062\n",
      "Epoch 9/10\n",
      "27/27 [==============================] - 0s 14ms/step - loss: 0.0065 - val_loss: 0.0065\n",
      "Epoch 10/10\n",
      "27/27 [==============================] - 0s 17ms/step - loss: 0.0065 - val_loss: 0.0059\n"
     ]
    }
   ],
   "source": [
    "history=model.fit(X_train,y_train,validation_data=(X_test,y_test),epochs=10)"
   ]
  },
  {
   "cell_type": "code",
   "execution_count": 21,
   "metadata": {
    "colab": {
     "base_uri": "https://localhost:8080/",
     "height": 281
    },
    "id": "5naFdX6qCCNo",
    "outputId": "f342732d-49e9-4767-abc8-1e5491ed8fc1"
   },
   "outputs": [
    {
     "data": {
      "image/png": "[encoded data removed]",
      "text/plain": [
       "<Figure size 432x288 with 1 Axes>"
      ]
     },
     "metadata": {
      "needs_background": "light"
     },
     "output_type": "display_data"
    }
   ],
   "source": [
    "plot_history(history, 'Training and validation loss using 2 LSTM Layers')"
   ]
  },
  {
   "cell_type": "code",
   "execution_count": 22,
   "metadata": {
    "id": "ZORM_BTXCC3Q"
   },
   "outputs": [],
   "source": [
    "train_predict=model.predict(X_train)\n",
    "test_predict=model.predict(X_test)"
   ]
  },
  {
   "cell_type": "code",
   "execution_count": 23,
   "metadata": {
    "id": "LAxIj9nSCEMa"
   },
   "outputs": [],
   "source": [
    "##Transform back to original form\n",
    "train_predict=scaler.inverse_transform(train_predict)\n",
    "test_predict=scaler.inverse_transform(test_predict)"
   ]
  },
  {
   "cell_type": "code",
   "execution_count": 24,
   "metadata": {
    "id": "v9iQJlENCE3R"
   },
   "outputs": [],
   "source": [
    "performance=pd.DataFrame({\"Layer\":[],\"Type\":[],\"RMSE Score\":[]})"
   ]
  },
  {
   "cell_type": "code",
   "execution_count": 25,
   "metadata": {
    "id": "C410AkUUCFfU"
   },
   "outputs": [],
   "source": [
    "from math import sqrt"
   ]
  },
  {
   "cell_type": "code",
   "execution_count": 26,
   "metadata": {
    "colab": {
     "base_uri": "https://localhost:8080/"
    },
    "id": "C0bJBfuYCGGI",
    "outputId": "41293fcb-2e3a-458a-cafb-c8f298f9f4e7"
   },
   "outputs": [
    {
     "name": "stdout",
     "output_type": "stream",
     "text": [
      "RMSE Score for training dataset:  345.08002443746324\n"
     ]
    }
   ],
   "source": [
    "print(\"RMSE Score for training dataset: \",sqrt(mean_squared_error(y_train,train_predict)))"
   ]
  },
  {
   "cell_type": "code",
   "execution_count": 27,
   "metadata": {
    "id": "JOo_SrEvCGzG"
   },
   "outputs": [],
   "source": [
    "rmse=sqrt(mean_squared_error(y_test,test_predict))"
   ]
  },
  {
   "cell_type": "code",
   "execution_count": 28,
   "metadata": {
    "colab": {
     "base_uri": "https://localhost:8080/"
    },
    "id": "-Ko0oirJCHcO",
    "outputId": "8c76b30b-2945-42b0-ffde-5827bc80163e"
   },
   "outputs": [
    {
     "name": "stdout",
     "output_type": "stream",
     "text": [
      "RMSE Score for testing dataset:  429.2058320938399\n"
     ]
    }
   ],
   "source": [
    "print(\"RMSE Score for testing dataset: \",rmse)"
   ]
  },
  {
   "cell_type": "code",
   "execution_count": 29,
   "metadata": {
    "id": "TZ-OXjEGCIKz"
   },
   "outputs": [],
   "source": [
    "twolayerlstm={'Layer':2, 'RMSE Score': rmse, 'Type':\"Uni-Directional\"}\n",
    "performance = performance.append(twolayerlstm, ignore_index = True)"
   ]
  },
  {
   "cell_type": "code",
   "execution_count": 30,
   "metadata": {
    "id": "2CfOFUiuCIwf"
   },
   "outputs": [],
   "source": [
    "model=Sequential()\n",
    "model.add(LSTM(50,return_sequences=True,input_shape=(100,1)))\n",
    "model.add(LSTM(50,return_sequences=True))\n",
    "model.add(LSTM(50))\n",
    "model.add(Dense(1))\n",
    "model.compile(loss='mean_squared_error',optimizer='adam')"
   ]
  },
  {
   "cell_type": "code",
   "execution_count": 31,
   "metadata": {
    "colab": {
     "base_uri": "https://localhost:8080/"
    },
    "id": "djHC2aXJCJXZ",
    "outputId": "3a3c8ff9-abcf-41e4-b423-5f19e94d1f81"
   },
   "outputs": [
    {
     "name": "stdout",
     "output_type": "stream",
     "text": [
      "Model: \"sequential_1\"\n",
      "_________________________________________________________________\n",
      " Layer (type)                Output Shape              Param #   \n",
      "=================================================================\n",
      " lstm_2 (LSTM)               (None, 100, 50)           10400     \n",
      "                                                                 \n",
      " lstm_3 (LSTM)               (None, 100, 50)           20200     \n",
      "                                                                 \n",
      " lstm_4 (LSTM)               (None, 50)                20200     \n",
      "                                                                 \n",
      " dense_1 (Dense)             (None, 1)                 51        \n",
      "                                                                 \n",
      "=================================================================\n",
      "Total params: 50,851\n",
      "Trainable params: 50,851\n",
      "Non-trainable params: 0\n",
      "_________________________________________________________________\n"
     ]
    }
   ],
   "source": [
    "model.summary()"
   ]
  },
  {
   "cell_type": "code",
   "execution_count": 32,
   "metadata": {
    "colab": {
     "base_uri": "https://localhost:8080/"
    },
    "id": "Z7bRtXjnCKDb",
    "outputId": "478a9ade-f2cc-4cd1-c0c4-1ba2a368d7a4"
   },
   "outputs": [
    {
     "name": "stdout",
     "output_type": "stream",
     "text": [
      "Epoch 1/10\n",
      "14/14 [==============================] - 12s 150ms/step - loss: 0.0414 - val_loss: 0.0304\n",
      "Epoch 2/10\n",
      "14/14 [==============================] - 0s 24ms/step - loss: 0.0138 - val_loss: 0.0055\n",
      "Epoch 3/10\n",
      "14/14 [==============================] - 0s 19ms/step - loss: 0.0104 - val_loss: 0.0069\n",
      "Epoch 4/10\n",
      "14/14 [==============================] - 0s 26ms/step - loss: 0.0094 - val_loss: 0.0122\n",
      "Epoch 5/10\n",
      "14/14 [==============================] - 0s 25ms/step - loss: 0.0092 - val_loss: 0.0079\n",
      "Epoch 6/10\n",
      "14/14 [==============================] - 0s 26ms/step - loss: 0.0085 - val_loss: 0.0074\n",
      "Epoch 7/10\n",
      "14/14 [==============================] - 0s 21ms/step - loss: 0.0083 - val_loss: 0.0066\n",
      "Epoch 8/10\n",
      "14/14 [==============================] - 0s 23ms/step - loss: 0.0081 - val_loss: 0.0062\n",
      "Epoch 9/10\n",
      "14/14 [==============================] - 0s 25ms/step - loss: 0.0080 - val_loss: 0.0060\n",
      "Epoch 10/10\n",
      "14/14 [==============================] - 0s 21ms/step - loss: 0.0081 - val_loss: 0.0058\n"
     ]
    }
   ],
   "source": [
    "history=model.fit(X_train,y_train,validation_data=(X_test,y_test),epochs=10,batch_size=64)"
   ]
  },
  {
   "cell_type": "code",
   "execution_count": 33,
   "metadata": {
    "colab": {
     "base_uri": "https://localhost:8080/",
     "height": 281
    },
    "id": "DIjgKL7XCKsF",
    "outputId": "2a56596e-af5b-4bed-8305-58cb66077ea8"
   },
   "outputs": [
    {
     "data": {
      "image/png": "[encoded data removed]",
      "text/plain": [
       "<Figure size 432x288 with 1 Axes>"
      ]
     },
     "metadata": {
      "needs_background": "light"
     },
     "output_type": "display_data"
    }
   ],
   "source": [
    "plot_history(history, 'Training and validation loss using 3 LSTM Layers')"
   ]
  },
  {
   "cell_type": "code",
   "execution_count": 34,
   "metadata": {
    "id": "m9IGTzXrCLU_"
   },
   "outputs": [],
   "source": [
    "train_predict=model.predict(X_train)\n",
    "test_predict=model.predict(X_test)"
   ]
  },
  {
   "cell_type": "code",
   "execution_count": 35,
   "metadata": {
    "id": "JUUYEcIaCL-P"
   },
   "outputs": [],
   "source": [
    "train_predict=scaler.inverse_transform(train_predict)\n",
    "test_predict=scaler.inverse_transform(test_predict)"
   ]
  },
  {
   "cell_type": "code",
   "execution_count": 36,
   "metadata": {
    "colab": {
     "base_uri": "https://localhost:8080/"
    },
    "id": "fhbQ7I4pCMg3",
    "outputId": "1a86454d-bed5-4a64-fac7-25dac1858179"
   },
   "outputs": [
    {
     "name": "stdout",
     "output_type": "stream",
     "text": [
      "rmse for train dataset:  349.4606858396663\n"
     ]
    }
   ],
   "source": [
    "print(\"rmse for train dataset: \",sqrt(mean_squared_error(y_train,train_predict)))"
   ]
  },
  {
   "cell_type": "code",
   "execution_count": 37,
   "metadata": {
    "colab": {
     "base_uri": "https://localhost:8080/"
    },
    "id": "DTBPuxDLCNIX",
    "outputId": "b7fcebe1-26b8-4b5c-e068-d72b09beedee"
   },
   "outputs": [
    {
     "name": "stdout",
     "output_type": "stream",
     "text": [
      "Root Mean Squared Error for test dataset:  432.21452357593364\n"
     ]
    }
   ],
   "source": [
    "rmse=sqrt(mean_squared_error(y_test,test_predict))\n",
    "print(\"Root Mean Squared Error for test dataset: \",rmse)"
   ]
  },
  {
   "cell_type": "code",
   "execution_count": 38,
   "metadata": {
    "id": "I-7RhDvqCNt9"
   },
   "outputs": [],
   "source": [
    "threelayerlstm={'Layer':3, 'RMSE Score': rmse, 'Type':\"Uni-Directional\"}\n",
    "performance = performance.append(threelayerlstm, ignore_index = True)"
   ]
  },
  {
   "cell_type": "code",
   "execution_count": 39,
   "metadata": {
    "id": "p7LFd35UCOQL"
   },
   "outputs": [],
   "source": [
    "model=Sequential()\n",
    "model.add(LSTM(50,return_sequences=True,input_shape=(100,1)))\n",
    "model.add(LSTM(50,return_sequences=True))\n",
    "model.add(LSTM(50,return_sequences=True))\n",
    "model.add(LSTM(50))\n",
    "model.add(Dense(1))\n",
    "model.compile(loss='mean_squared_error',optimizer='adam')"
   ]
  },
  {
   "cell_type": "code",
   "execution_count": 40,
   "metadata": {
    "colab": {
     "base_uri": "https://localhost:8080/"
    },
    "id": "ytKYQUPzCO2F",
    "outputId": "f6a6b7f2-26d5-4d1c-82cb-6838775a2512"
   },
   "outputs": [
    {
     "name": "stdout",
     "output_type": "stream",
     "text": [
      "Model: \"sequential_2\"\n",
      "_________________________________________________________________\n",
      " Layer (type)                Output Shape              Param #   \n",
      "=================================================================\n",
      " lstm_5 (LSTM)               (None, 100, 50)           10400     \n",
      "                                                                 \n",
      " lstm_6 (LSTM)               (None, 100, 50)           20200     \n",
      "                                                                 \n",
      " lstm_7 (LSTM)               (None, 100, 50)           20200     \n",
      "                                                                 \n",
      " lstm_8 (LSTM)               (None, 50)                20200     \n",
      "                                                                 \n",
      " dense_2 (Dense)             (None, 1)                 51        \n",
      "                                                                 \n",
      "=================================================================\n",
      "Total params: 71,051\n",
      "Trainable params: 71,051\n",
      "Non-trainable params: 0\n",
      "_________________________________________________________________\n"
     ]
    }
   ],
   "source": [
    "model.summary()"
   ]
  },
  {
   "cell_type": "code",
   "execution_count": 41,
   "metadata": {
    "colab": {
     "base_uri": "https://localhost:8080/"
    },
    "id": "u-nsB6vvCPYN",
    "outputId": "ef03c018-8f63-4bd3-96c0-94721c0fcbc1"
   },
   "outputs": [
    {
     "name": "stdout",
     "output_type": "stream",
     "text": [
      "Epoch 1/10\n",
      "14/14 [==============================] - 11s 186ms/step - loss: 0.0420 - val_loss: 0.0239\n",
      "Epoch 2/10\n",
      "14/14 [==============================] - 1s 38ms/step - loss: 0.0116 - val_loss: 0.0175\n",
      "Epoch 3/10\n",
      "14/14 [==============================] - 0s 34ms/step - loss: 0.0102 - val_loss: 0.0074\n",
      "Epoch 4/10\n",
      "14/14 [==============================] - 0s 27ms/step - loss: 0.0097 - val_loss: 0.0066\n",
      "Epoch 5/10\n",
      "14/14 [==============================] - 0s 31ms/step - loss: 0.0092 - val_loss: 0.0057\n",
      "Epoch 6/10\n",
      "14/14 [==============================] - 0s 29ms/step - loss: 0.0091 - val_loss: 0.0058\n",
      "Epoch 7/10\n",
      "14/14 [==============================] - 0s 28ms/step - loss: 0.0090 - val_loss: 0.0057\n",
      "Epoch 8/10\n",
      "14/14 [==============================] - 0s 32ms/step - loss: 0.0092 - val_loss: 0.0065\n",
      "Epoch 9/10\n",
      "14/14 [==============================] - 0s 23ms/step - loss: 0.0090 - val_loss: 0.0062\n",
      "Epoch 10/10\n",
      "14/14 [==============================] - 0s 32ms/step - loss: 0.0089 - val_loss: 0.0056\n"
     ]
    }
   ],
   "source": [
    "history=model.fit(X_train,y_train,validation_data=(X_test,y_test),epochs=10,batch_size=64)"
   ]
  },
  {
   "cell_type": "code",
   "execution_count": 42,
   "metadata": {
    "colab": {
     "base_uri": "https://localhost:8080/",
     "height": 281
    },
    "id": "5tndDZ6QCP75",
    "outputId": "48c30cb0-06bc-497c-d609-cc1bc4c3fd8f"
   },
   "outputs": [
    {
     "data": {
      "image/png": "[encoded data removed]",
      "text/plain": [
       "<Figure size 432x288 with 1 Axes>"
      ]
     },
     "metadata": {
      "needs_background": "light"
     },
     "output_type": "display_data"
    }
   ],
   "source": [
    "plot_history(history, 'Training and validation loss using 4 LSTM Layers')"
   ]
  },
  {
   "cell_type": "code",
   "execution_count": 43,
   "metadata": {
    "id": "Zwt1_UHoCQo-"
   },
   "outputs": [],
   "source": [
    "train_predict=model.predict(X_train)\n",
    "test_predict=model.predict(X_test)"
   ]
  },
  {
   "cell_type": "code",
   "execution_count": 44,
   "metadata": {
    "id": "fa_zntGsCRRb"
   },
   "outputs": [],
   "source": [
    "train_predict=scaler.inverse_transform(train_predict)\n",
    "test_predict=scaler.inverse_transform(test_predict)"
   ]
  },
  {
   "cell_type": "code",
   "execution_count": 45,
   "metadata": {
    "colab": {
     "base_uri": "https://localhost:8080/"
    },
    "id": "Ka-OI_U2CR5g",
    "outputId": "46fdfe87-645e-4bb6-bcb2-6e05fa2de444"
   },
   "outputs": [
    {
     "name": "stdout",
     "output_type": "stream",
     "text": [
      "rmse score for training dataset:  348.6500883038713\n"
     ]
    }
   ],
   "source": [
    "print(\"rmse score for training dataset: \",sqrt(mean_squared_error(y_train,train_predict)))"
   ]
  },
  {
   "cell_type": "code",
   "execution_count": 46,
   "metadata": {
    "colab": {
     "base_uri": "https://localhost:8080/"
    },
    "id": "EMYCIWpwCSek",
    "outputId": "bd19d186-44a6-4adb-8f50-6bd5a2cffe97"
   },
   "outputs": [
    {
     "name": "stdout",
     "output_type": "stream",
     "text": [
      "Root Mean Squared Error for test dataset:  428.2310476556102\n"
     ]
    }
   ],
   "source": [
    "rmse=sqrt(mean_squared_error(y_test,test_predict))\n",
    "print(\"Root Mean Squared Error for test dataset: \",rmse)"
   ]
  },
  {
   "cell_type": "code",
   "execution_count": 47,
   "metadata": {
    "id": "Ek_B8c_GCTI4"
   },
   "outputs": [],
   "source": [
    "fourlayerlstm={'Layer':4, 'RMSE Score': rmse, 'Type':\"Uni-Directional\"}\n",
    "performance = performance.append(fourlayerlstm, ignore_index = True)"
   ]
  },
  {
   "cell_type": "code",
   "execution_count": 48,
   "metadata": {
    "id": "Ctl3bRt6CTvw"
   },
   "outputs": [],
   "source": [
    "model=Sequential()\n",
    "model.add(LSTM(50,return_sequences=True,input_shape=(100,1)))\n",
    "model.add(LSTM(50,return_sequences=True))\n",
    "model.add(LSTM(50,return_sequences=True))\n",
    "model.add(LSTM(50,return_sequences=True))\n",
    "model.add(LSTM(50))\n",
    "model.add(Dense(1))\n",
    "model.compile(loss='mean_squared_error',optimizer='adam')"
   ]
  },
  {
   "cell_type": "code",
   "execution_count": 49,
   "metadata": {
    "colab": {
     "base_uri": "https://localhost:8080/"
    },
    "id": "3V-H-j8eCUd6",
    "outputId": "19d61f42-d0b2-480b-b717-3dc1c26277cc"
   },
   "outputs": [
    {
     "name": "stdout",
     "output_type": "stream",
     "text": [
      "Model: \"sequential_3\"\n",
      "_________________________________________________________________\n",
      " Layer (type)                Output Shape              Param #   \n",
      "=================================================================\n",
      " lstm_9 (LSTM)               (None, 100, 50)           10400     \n",
      "                                                                 \n",
      " lstm_10 (LSTM)              (None, 100, 50)           20200     \n",
      "                                                                 \n",
      " lstm_11 (LSTM)              (None, 100, 50)           20200     \n",
      "                                                                 \n",
      " lstm_12 (LSTM)              (None, 100, 50)           20200     \n",
      "                                                                 \n",
      " lstm_13 (LSTM)              (None, 50)                20200     \n",
      "                                                                 \n",
      " dense_3 (Dense)             (None, 1)                 51        \n",
      "                                                                 \n",
      "=================================================================\n",
      "Total params: 91,251\n",
      "Trainable params: 91,251\n",
      "Non-trainable params: 0\n",
      "_________________________________________________________________\n"
     ]
    }
   ],
   "source": [
    "model.summary()"
   ]
  },
  {
   "cell_type": "code",
   "execution_count": 50,
   "metadata": {
    "colab": {
     "base_uri": "https://localhost:8080/"
    },
    "id": "aLItbvGcCVFB",
    "outputId": "e6b11fd6-76a4-46e0-cc7c-def25859cce8"
   },
   "outputs": [
    {
     "name": "stdout",
     "output_type": "stream",
     "text": [
      "Epoch 1/10\n",
      "14/14 [==============================] - 13s 227ms/step - loss: 0.0294 - val_loss: 0.0055\n",
      "Epoch 2/10\n",
      "14/14 [==============================] - 1s 43ms/step - loss: 0.0113 - val_loss: 0.0074\n",
      "Epoch 3/10\n",
      "14/14 [==============================] - 1s 66ms/step - loss: 0.0103 - val_loss: 0.0069\n",
      "Epoch 4/10\n",
      "14/14 [==============================] - 1s 65ms/step - loss: 0.0100 - val_loss: 0.0073\n",
      "Epoch 5/10\n",
      "14/14 [==============================] - 1s 58ms/step - loss: 0.0100 - val_loss: 0.0070\n",
      "Epoch 6/10\n",
      "14/14 [==============================] - 1s 57ms/step - loss: 0.0098 - val_loss: 0.0052\n",
      "Epoch 7/10\n",
      "14/14 [==============================] - 1s 53ms/step - loss: 0.0103 - val_loss: 0.0091\n",
      "Epoch 8/10\n",
      "14/14 [==============================] - 1s 51ms/step - loss: 0.0098 - val_loss: 0.0055\n",
      "Epoch 9/10\n",
      "14/14 [==============================] - 1s 35ms/step - loss: 0.0100 - val_loss: 0.0060\n",
      "Epoch 10/10\n",
      "14/14 [==============================] - 1s 40ms/step - loss: 0.0096 - val_loss: 0.0057\n"
     ]
    }
   ],
   "source": [
    "history=model.fit(X_train,y_train,validation_data=(X_test,y_test),epochs=10,batch_size=64)"
   ]
  },
  {
   "cell_type": "code",
   "execution_count": 51,
   "metadata": {
    "colab": {
     "base_uri": "https://localhost:8080/",
     "height": 281
    },
    "id": "TH3aP1SCCWYw",
    "outputId": "c1b29195-da74-43d5-a7f9-2cef78335692"
   },
   "outputs": [
    {
     "data": {
      "image/png": "[encoded data removed]",
      "text/plain": [
       "<Figure size 432x288 with 1 Axes>"
      ]
     },
     "metadata": {
      "needs_background": "light"
     },
     "output_type": "display_data"
    }
   ],
   "source": [
    "plot_history(history, 'Training and validation loss using 5 LSTM Layers')"
   ]
  },
  {
   "cell_type": "code",
   "execution_count": 52,
   "metadata": {
    "id": "kM3XEt2GCW9d"
   },
   "outputs": [],
   "source": [
    "train_predict=model.predict(X_train)\n",
    "test_predict=model.predict(X_test)"
   ]
  },
  {
   "cell_type": "code",
   "execution_count": 53,
   "metadata": {
    "id": "BYgnn0trCXll"
   },
   "outputs": [],
   "source": [
    "train_predict=scaler.inverse_transform(train_predict)\n",
    "test_predict=scaler.inverse_transform(test_predict)"
   ]
  },
  {
   "cell_type": "code",
   "execution_count": 54,
   "metadata": {
    "colab": {
     "base_uri": "https://localhost:8080/"
    },
    "id": "ZlWk9eUfCYPB",
    "outputId": "42175603-0f70-4aac-a4dc-5a0179c169df"
   },
   "outputs": [
    {
     "name": "stdout",
     "output_type": "stream",
     "text": [
      "rmse score for training dataset:  344.10726713578754\n"
     ]
    }
   ],
   "source": [
    "print(\"rmse score for training dataset: \",sqrt(mean_squared_error(y_train,train_predict)))"
   ]
  },
  {
   "cell_type": "code",
   "execution_count": 55,
   "metadata": {
    "colab": {
     "base_uri": "https://localhost:8080/"
    },
    "id": "dJEsZXr8CY2n",
    "outputId": "f6c1a249-ba71-41b3-a041-4ef2dc960dac"
   },
   "outputs": [
    {
     "name": "stdout",
     "output_type": "stream",
     "text": [
      "Root Mean Squared Error for test dataset:  421.92575457592295\n"
     ]
    }
   ],
   "source": [
    "rmse=sqrt(mean_squared_error(y_test,test_predict))\n",
    "print(\"Root Mean Squared Error for test dataset: \",rmse)"
   ]
  },
  {
   "cell_type": "code",
   "execution_count": 56,
   "metadata": {
    "id": "9DZk6C6WCZmo"
   },
   "outputs": [],
   "source": [
    "fivelayerlstm={'Layer':5, 'RMSE Score': rmse, 'Type':\"Uni-Directional\"}\n",
    "performance = performance.append(fivelayerlstm, ignore_index = True)"
   ]
  },
  {
   "cell_type": "code",
   "execution_count": 57,
   "metadata": {
    "colab": {
     "base_uri": "https://localhost:8080/",
     "height": 174
    },
    "id": "L18r3IHCCaUt",
    "outputId": "4d1604d2-6737-4398-eed6-190e99c1bbc3"
   },
   "outputs": [
    {
     "data": {
      "text/html": [
       "\n",
       "  <div id=\"df-5199fc8c-fc82-4844-843b-33bd2e5f2d82\">\n",
       "    <div class=\"colab-df-container\">\n",
       "      <div>\n",
       "<style scoped>\n",
       "    .dataframe tbody tr th:only-of-type {\n",
       "        vertical-align: middle;\n",
       "    }\n",
       "\n",
       "    .dataframe tbody tr th {\n",
       "        vertical-align: top;\n",
       "    }\n",
       "\n",
       "    .dataframe thead th {\n",
       "        text-align: right;\n",
       "    }\n",
       "</style>\n",
       "<table border=\"1\" class=\"dataframe\">\n",
       "  <thead>\n",
       "    <tr style=\"text-align: right;\">\n",
       "      <th></th>\n",
       "      <th>Layer</th>\n",
       "      <th>Type</th>\n",
       "      <th>RMSE Score</th>\n",
       "    </tr>\n",
       "  </thead>\n",
       "  <tbody>\n",
       "    <tr>\n",
       "      <th>0</th>\n",
       "      <td>2.0</td>\n",
       "      <td>Uni-Directional</td>\n",
       "      <td>429.205832</td>\n",
       "    </tr>\n",
       "    <tr>\n",
       "      <th>1</th>\n",
       "      <td>3.0</td>\n",
       "      <td>Uni-Directional</td>\n",
       "      <td>432.214524</td>\n",
       "    </tr>\n",
       "    <tr>\n",
       "      <th>2</th>\n",
       "      <td>4.0</td>\n",
       "      <td>Uni-Directional</td>\n",
       "      <td>428.231048</td>\n",
       "    </tr>\n",
       "    <tr>\n",
       "      <th>3</th>\n",
       "      <td>5.0</td>\n",
       "      <td>Uni-Directional</td>\n",
       "      <td>421.925755</td>\n",
       "    </tr>\n",
       "  </tbody>\n",
       "</table>\n",
       "</div>\n",
       "      <button class=\"colab-df-convert\" onclick=\"convertToInteractive('df-5199fc8c-fc82-4844-843b-33bd2e5f2d82')\"\n",
       "              title=\"Convert this dataframe to an interactive table.\"\n",
       "              style=\"display:none;\">\n",
       "        \n",
       "  <svg xmlns=\"http://www.w3.org/2000/svg\" height=\"24px\"viewBox=\"0 0 24 24\"\n",
       "       width=\"24px\">\n",
       "    <path d=\"M0 0h24v24H0V0z\" fill=\"none\"/>\n",
       "    <path d=\"M18.56 5.44l.94 2.06.94-2.06 2.06-.94-2.06-.94-.94-2.06-.94 2.06-2.06.94zm-11 1L8.5 8.5l.94-2.06 2.06-.94-2.06-.94L8.5 2.5l-.94 2.06-2.06.94zm10 10l.94 2.06.94-2.06 2.06-.94-2.06-.94-.94-2.06-.94 2.06-2.06.94z\"/><path d=\"M17.41 7.96l-1.37-1.37c-.4-.4-.92-.59-1.43-.59-.52 0-1.04.2-1.43.59L10.3 9.45l-7.72 7.72c-.78.78-.78 2.05 0 2.83L4 21.41c.39.39.9.59 1.41.59.51 0 1.02-.2 1.41-.59l7.78-7.78 2.81-2.81c.8-.78.8-2.07 0-2.86zM5.41 20L4 18.59l7.72-7.72 1.47 1.35L5.41 20z\"/>\n",
       "  </svg>\n",
       "      </button>\n",
       "      \n",
       "  <style>\n",
       "    .colab-df-container {\n",
       "      display:flex;\n",
       "      flex-wrap:wrap;\n",
       "      gap: 12px;\n",
       "    }\n",
       "\n",
       "    .colab-df-convert {\n",
       "      background-color: #E8F0FE;\n",
       "      border: none;\n",
       "      border-radius: 50%;\n",
       "      cursor: pointer;\n",
       "      display: none;\n",
       "      fill: #1967D2;\n",
       "      height: 32px;\n",
       "      padding: 0 0 0 0;\n",
       "      width: 32px;\n",
       "    }\n",
       "\n",
       "    .colab-df-convert:hover {\n",
       "      background-color: #E2EBFA;\n",
       "      box-shadow: 0px 1px 2px rgba(60, 64, 67, 0.3), 0px 1px 3px 1px rgba(60, 64, 67, 0.15);\n",
       "      fill: #174EA6;\n",
       "    }\n",
       "\n",
       "    [theme=dark] .colab-df-convert {\n",
       "      background-color: #3B4455;\n",
       "      fill: #D2E3FC;\n",
       "    }\n",
       "\n",
       "    [theme=dark] .colab-df-convert:hover {\n",
       "      background-color: #434B5C;\n",
       "      box-shadow: 0px 1px 3px 1px rgba(0, 0, 0, 0.15);\n",
       "      filter: drop-shadow(0px 1px 2px rgba(0, 0, 0, 0.3));\n",
       "      fill: #FFFFFF;\n",
       "    }\n",
       "  </style>\n",
       "\n",
       "      <script>\n",
       "        const buttonEl =\n",
       "          document.querySelector('#df-5199fc8c-fc82-4844-843b-33bd2e5f2d82 button.colab-df-convert');\n",
       "        buttonEl.style.display =\n",
       "          google.colab.kernel.accessAllowed ? 'block' : 'none';\n",
       "\n",
       "        async function convertToInteractive(key) {\n",
       "          const element = document.querySelector('#df-5199fc8c-fc82-4844-843b-33bd2e5f2d82');\n",
       "          const dataTable =\n",
       "            await google.colab.kernel.invokeFunction('convertToInteractive',\n",
       "                                                     [key], {});\n",
       "          if (!dataTable) return;\n",
       "\n",
       "          const docLinkHtml = 'Like what you see? Visit the ' +\n",
       "            '<a target=\"_blank\" href=https://colab.research.google.com/notebooks/data_table.ipynb>data table notebook</a>'\n",
       "            + ' to learn more about interactive tables.';\n",
       "          element.innerHTML = '';\n",
       "          dataTable['output_type'] = 'display_data';\n",
       "          await google.colab.output.renderOutput(dataTable, element);\n",
       "          const docLink = document.createElement('div');\n",
       "          docLink.innerHTML = docLinkHtml;\n",
       "          element.appendChild(docLink);\n",
       "        }\n",
       "      </script>\n",
       "    </div>\n",
       "  </div>\n",
       "  "
      ],
      "text/plain": [
       "   Layer             Type  RMSE Score\n",
       "0    2.0  Uni-Directional  429.205832\n",
       "1    3.0  Uni-Directional  432.214524\n",
       "2    4.0  Uni-Directional  428.231048\n",
       "3    5.0  Uni-Directional  421.925755"
      ]
     },
     "execution_count": 57,
     "metadata": {},
     "output_type": "execute_result"
    }
   ],
   "source": [
    "performance"
   ]
  },
  {
   "cell_type": "code",
   "execution_count": 58,
   "metadata": {
    "id": "tjye-jZ7Ca-7"
   },
   "outputs": [],
   "source": [
    "model=Sequential()\n",
    "model.add(LSTM(50,return_sequences=True,input_shape=(100,1)))\n",
    "model.add(LSTM(50,return_sequences=True))\n",
    "model.add(LSTM(50,return_sequences=True))\n",
    "model.add(LSTM(50,return_sequences=True))\n",
    "model.add(LSTM(50,return_sequences=True))\n",
    "model.add(LSTM(50))\n",
    "model.add(Dense(1))\n",
    "model.compile(loss='mean_squared_error',optimizer='adam')"
   ]
  },
  {
   "cell_type": "code",
   "execution_count": 59,
   "metadata": {
    "colab": {
     "base_uri": "https://localhost:8080/"
    },
    "id": "-0P-GMd7Cc-a",
    "outputId": "6a70ccae-297a-4184-c807-ccf09698f071"
   },
   "outputs": [
    {
     "name": "stdout",
     "output_type": "stream",
     "text": [
      "Model: \"sequential_4\"\n",
      "_________________________________________________________________\n",
      " Layer (type)                Output Shape              Param #   \n",
      "=================================================================\n",
      " lstm_14 (LSTM)              (None, 100, 50)           10400     \n",
      "                                                                 \n",
      " lstm_15 (LSTM)              (None, 100, 50)           20200     \n",
      "                                                                 \n",
      " lstm_16 (LSTM)              (None, 100, 50)           20200     \n",
      "                                                                 \n",
      " lstm_17 (LSTM)              (None, 100, 50)           20200     \n",
      "                                                                 \n",
      " lstm_18 (LSTM)              (None, 100, 50)           20200     \n",
      "                                                                 \n",
      " lstm_19 (LSTM)              (None, 50)                20200     \n",
      "                                                                 \n",
      " dense_4 (Dense)             (None, 1)                 51        \n",
      "                                                                 \n",
      "=================================================================\n",
      "Total params: 111,451\n",
      "Trainable params: 111,451\n",
      "Non-trainable params: 0\n",
      "_________________________________________________________________\n"
     ]
    }
   ],
   "source": [
    "model.summary()"
   ]
  },
  {
   "cell_type": "code",
   "execution_count": 60,
   "metadata": {
    "colab": {
     "base_uri": "https://localhost:8080/"
    },
    "id": "kCpZxUSRCdrl",
    "outputId": "701c7a40-cda6-4270-d3c3-b67872979774"
   },
   "outputs": [
    {
     "name": "stdout",
     "output_type": "stream",
     "text": [
      "Epoch 1/10\n",
      "14/14 [==============================] - 17s 338ms/step - loss: 0.0396 - val_loss: 0.0135\n",
      "Epoch 2/10\n",
      "14/14 [==============================] - 1s 63ms/step - loss: 0.0146 - val_loss: 0.0158\n",
      "Epoch 3/10\n",
      "14/14 [==============================] - 1s 63ms/step - loss: 0.0121 - val_loss: 0.0127\n",
      "Epoch 4/10\n",
      "14/14 [==============================] - 1s 77ms/step - loss: 0.0111 - val_loss: 0.0065\n",
      "Epoch 5/10\n",
      "14/14 [==============================] - 1s 71ms/step - loss: 0.0104 - val_loss: 0.0093\n",
      "Epoch 6/10\n",
      "14/14 [==============================] - 1s 64ms/step - loss: 0.0107 - val_loss: 0.0055\n",
      "Epoch 7/10\n",
      "14/14 [==============================] - 1s 74ms/step - loss: 0.0106 - val_loss: 0.0063\n",
      "Epoch 8/10\n",
      "14/14 [==============================] - 1s 59ms/step - loss: 0.0102 - val_loss: 0.0055\n",
      "Epoch 9/10\n",
      "14/14 [==============================] - 1s 67ms/step - loss: 0.0102 - val_loss: 0.0057\n",
      "Epoch 10/10\n",
      "14/14 [==============================] - 1s 75ms/step - loss: 0.0100 - val_loss: 0.0061\n"
     ]
    }
   ],
   "source": [
    "history=model.fit(X_train,y_train,validation_data=(X_test,y_test),epochs=10,batch_size=64)"
   ]
  },
  {
   "cell_type": "code",
   "execution_count": 61,
   "metadata": {
    "colab": {
     "base_uri": "https://localhost:8080/",
     "height": 281
    },
    "id": "AZXnp4ZWCekr",
    "outputId": "f84585d9-126a-4762-d5b0-39cef8c8563e"
   },
   "outputs": [
    {
     "data": {
      "image/png": "[encoded data removed]",
      "text/plain": [
       "<Figure size 432x288 with 1 Axes>"
      ]
     },
     "metadata": {
      "needs_background": "light"
     },
     "output_type": "display_data"
    }
   ],
   "source": [
    "plot_history(history, 'Training and validation loss using 6 LSTM Layers')"
   ]
  },
  {
   "cell_type": "code",
   "execution_count": 62,
   "metadata": {
    "id": "IIeVMEPPCfOw"
   },
   "outputs": [],
   "source": [
    "train_predict=model.predict(X_train)\n",
    "test_predict=model.predict(X_test)"
   ]
  },
  {
   "cell_type": "code",
   "execution_count": 63,
   "metadata": {
    "id": "3Od5BY0ECf5u"
   },
   "outputs": [],
   "source": [
    "train_predict=scaler.inverse_transform(train_predict)\n",
    "test_predict=scaler.inverse_transform(test_predict)"
   ]
  },
  {
   "cell_type": "code",
   "execution_count": 64,
   "metadata": {
    "colab": {
     "base_uri": "https://localhost:8080/"
    },
    "id": "x5dr-NIeCgom",
    "outputId": "4af5c181-b3aa-4e03-9f4f-bed3ccd9ca40"
   },
   "outputs": [
    {
     "name": "stdout",
     "output_type": "stream",
     "text": [
      "rmse score for training dataset:  336.8960773558449\n"
     ]
    }
   ],
   "source": [
    "print(\"rmse score for training dataset: \",sqrt(mean_squared_error(y_train,train_predict)))"
   ]
  },
  {
   "cell_type": "code",
   "execution_count": 65,
   "metadata": {
    "colab": {
     "base_uri": "https://localhost:8080/"
    },
    "id": "fzqrhZ9YChVT",
    "outputId": "610bd82e-36f4-433a-d31d-4cc4c6dad9a7"
   },
   "outputs": [
    {
     "name": "stdout",
     "output_type": "stream",
     "text": [
      "Root Mean Squared Error for test dataset:  415.1582566522099\n"
     ]
    }
   ],
   "source": [
    "rmse=sqrt(mean_squared_error(y_test,test_predict))\n",
    "print(\"Root Mean Squared Error for test dataset: \",rmse)"
   ]
  },
  {
   "cell_type": "code",
   "execution_count": 66,
   "metadata": {
    "id": "5xJp729cCiEG"
   },
   "outputs": [],
   "source": [
    "sixlayerlstm={'Layer':6, 'RMSE Score': rmse, 'Type':\"Uni-Directional\"}\n",
    "performance = performance.append(sixlayerlstm, ignore_index = True)"
   ]
  },
  {
   "cell_type": "code",
   "execution_count": 67,
   "metadata": {
    "colab": {
     "base_uri": "https://localhost:8080/",
     "height": 206
    },
    "id": "Xl46wFYbCitI",
    "outputId": "05940f78-4e67-413f-ca33-ad5c5946e8c6"
   },
   "outputs": [
    {
     "data": {
      "text/html": [
       "\n",
       "  <div id=\"df-31754e69-159f-45e2-ae73-f5fa5aafdd8b\">\n",
       "    <div class=\"colab-df-container\">\n",
       "      <div>\n",
       "<style scoped>\n",
       "    .dataframe tbody tr th:only-of-type {\n",
       "        vertical-align: middle;\n",
       "    }\n",
       "\n",
       "    .dataframe tbody tr th {\n",
       "        vertical-align: top;\n",
       "    }\n",
       "\n",
       "    .dataframe thead th {\n",
       "        text-align: right;\n",
       "    }\n",
       "</style>\n",
       "<table border=\"1\" class=\"dataframe\">\n",
       "  <thead>\n",
       "    <tr style=\"text-align: right;\">\n",
       "      <th></th>\n",
       "      <th>Layer</th>\n",
       "      <th>Type</th>\n",
       "      <th>RMSE Score</th>\n",
       "    </tr>\n",
       "  </thead>\n",
       "  <tbody>\n",
       "    <tr>\n",
       "      <th>0</th>\n",
       "      <td>2.0</td>\n",
       "      <td>Uni-Directional</td>\n",
       "      <td>429.205832</td>\n",
       "    </tr>\n",
       "    <tr>\n",
       "      <th>1</th>\n",
       "      <td>3.0</td>\n",
       "      <td>Uni-Directional</td>\n",
       "      <td>432.214524</td>\n",
       "    </tr>\n",
       "    <tr>\n",
       "      <th>2</th>\n",
       "      <td>4.0</td>\n",
       "      <td>Uni-Directional</td>\n",
       "      <td>428.231048</td>\n",
       "    </tr>\n",
       "    <tr>\n",
       "      <th>3</th>\n",
       "      <td>5.0</td>\n",
       "      <td>Uni-Directional</td>\n",
       "      <td>421.925755</td>\n",
       "    </tr>\n",
       "    <tr>\n",
       "      <th>4</th>\n",
       "      <td>6.0</td>\n",
       "      <td>Uni-Directional</td>\n",
       "      <td>415.158257</td>\n",
       "    </tr>\n",
       "  </tbody>\n",
       "</table>\n",
       "</div>\n",
       "      <button class=\"colab-df-convert\" onclick=\"convertToInteractive('df-31754e69-159f-45e2-ae73-f5fa5aafdd8b')\"\n",
       "              title=\"Convert this dataframe to an interactive table.\"\n",
       "              style=\"display:none;\">\n",
       "        \n",
       "  <svg xmlns=\"http://www.w3.org/2000/svg\" height=\"24px\"viewBox=\"0 0 24 24\"\n",
       "       width=\"24px\">\n",
       "    <path d=\"M0 0h24v24H0V0z\" fill=\"none\"/>\n",
       "    <path d=\"M18.56 5.44l.94 2.06.94-2.06 2.06-.94-2.06-.94-.94-2.06-.94 2.06-2.06.94zm-11 1L8.5 8.5l.94-2.06 2.06-.94-2.06-.94L8.5 2.5l-.94 2.06-2.06.94zm10 10l.94 2.06.94-2.06 2.06-.94-2.06-.94-.94-2.06-.94 2.06-2.06.94z\"/><path d=\"M17.41 7.96l-1.37-1.37c-.4-.4-.92-.59-1.43-.59-.52 0-1.04.2-1.43.59L10.3 9.45l-7.72 7.72c-.78.78-.78 2.05 0 2.83L4 21.41c.39.39.9.59 1.41.59.51 0 1.02-.2 1.41-.59l7.78-7.78 2.81-2.81c.8-.78.8-2.07 0-2.86zM5.41 20L4 18.59l7.72-7.72 1.47 1.35L5.41 20z\"/>\n",
       "  </svg>\n",
       "      </button>\n",
       "      \n",
       "  <style>\n",
       "    .colab-df-container {\n",
       "      display:flex;\n",
       "      flex-wrap:wrap;\n",
       "      gap: 12px;\n",
       "    }\n",
       "\n",
       "    .colab-df-convert {\n",
       "      background-color: #E8F0FE;\n",
       "      border: none;\n",
       "      border-radius: 50%;\n",
       "      cursor: pointer;\n",
       "      display: none;\n",
       "      fill: #1967D2;\n",
       "      height: 32px;\n",
       "      padding: 0 0 0 0;\n",
       "      width: 32px;\n",
       "    }\n",
       "\n",
       "    .colab-df-convert:hover {\n",
       "      background-color: #E2EBFA;\n",
       "      box-shadow: 0px 1px 2px rgba(60, 64, 67, 0.3), 0px 1px 3px 1px rgba(60, 64, 67, 0.15);\n",
       "      fill: #174EA6;\n",
       "    }\n",
       "\n",
       "    [theme=dark] .colab-df-convert {\n",
       "      background-color: #3B4455;\n",
       "      fill: #D2E3FC;\n",
       "    }\n",
       "\n",
       "    [theme=dark] .colab-df-convert:hover {\n",
       "      background-color: #434B5C;\n",
       "      box-shadow: 0px 1px 3px 1px rgba(0, 0, 0, 0.15);\n",
       "      filter: drop-shadow(0px 1px 2px rgba(0, 0, 0, 0.3));\n",
       "      fill: #FFFFFF;\n",
       "    }\n",
       "  </style>\n",
       "\n",
       "      <script>\n",
       "        const buttonEl =\n",
       "          document.querySelector('#df-31754e69-159f-45e2-ae73-f5fa5aafdd8b button.colab-df-convert');\n",
       "        buttonEl.style.display =\n",
       "          google.colab.kernel.accessAllowed ? 'block' : 'none';\n",
       "\n",
       "        async function convertToInteractive(key) {\n",
       "          const element = document.querySelector('#df-31754e69-159f-45e2-ae73-f5fa5aafdd8b');\n",
       "          const dataTable =\n",
       "            await google.colab.kernel.invokeFunction('convertToInteractive',\n",
       "                                                     [key], {});\n",
       "          if (!dataTable) return;\n",
       "\n",
       "          const docLinkHtml = 'Like what you see? Visit the ' +\n",
       "            '<a target=\"_blank\" href=https://colab.research.google.com/notebooks/data_table.ipynb>data table notebook</a>'\n",
       "            + ' to learn more about interactive tables.';\n",
       "          element.innerHTML = '';\n",
       "          dataTable['output_type'] = 'display_data';\n",
       "          await google.colab.output.renderOutput(dataTable, element);\n",
       "          const docLink = document.createElement('div');\n",
       "          docLink.innerHTML = docLinkHtml;\n",
       "          element.appendChild(docLink);\n",
       "        }\n",
       "      </script>\n",
       "    </div>\n",
       "  </div>\n",
       "  "
      ],
      "text/plain": [
       "   Layer             Type  RMSE Score\n",
       "0    2.0  Uni-Directional  429.205832\n",
       "1    3.0  Uni-Directional  432.214524\n",
       "2    4.0  Uni-Directional  428.231048\n",
       "3    5.0  Uni-Directional  421.925755\n",
       "4    6.0  Uni-Directional  415.158257"
      ]
     },
     "execution_count": 67,
     "metadata": {},
     "output_type": "execute_result"
    }
   ],
   "source": [
    "performance"
   ]
  },
  {
   "cell_type": "code",
   "execution_count": 68,
   "metadata": {
    "id": "M0hUxxVRCjXH"
   },
   "outputs": [],
   "source": [
    "model=Sequential()\n",
    "model.add(LSTM(50,return_sequences=True,input_shape=(100,1)))\n",
    "model.add(Dropout(0.2))\n",
    "model.add(Bidirectional(LSTM(50,return_sequences=True)))\n",
    "model.add(Dropout(0.2))\n",
    "model.add(Bidirectional(LSTM(50,return_sequences=True)))\n",
    "model.add(Dropout(0.2))\n",
    "model.add(Bidirectional(LSTM(50,return_sequences=True)))\n",
    "model.add(Dropout(0.2))\n",
    "model.add(Bidirectional(LSTM(50)))\n",
    "model.add(Dense(1))\n",
    "model.compile(loss='mean_squared_error',optimizer='adam')"
   ]
  },
  {
   "cell_type": "code",
   "execution_count": 69,
   "metadata": {
    "colab": {
     "base_uri": "https://localhost:8080/"
    },
    "id": "fT36TQfZClMi",
    "outputId": "8da3036c-2bcf-4265-83aa-a8e2c6688150"
   },
   "outputs": [
    {
     "name": "stdout",
     "output_type": "stream",
     "text": [
      "Model: \"sequential_5\"\n",
      "_________________________________________________________________\n",
      " Layer (type)                Output Shape              Param #   \n",
      "=================================================================\n",
      " lstm_20 (LSTM)              (None, 100, 50)           10400     \n",
      "                                                                 \n",
      " dropout (Dropout)           (None, 100, 50)           0         \n",
      "                                                                 \n",
      " bidirectional (Bidirectiona  (None, 100, 100)         40400     \n",
      " l)                                                              \n",
      "                                                                 \n",
      " dropout_1 (Dropout)         (None, 100, 100)          0         \n",
      "                                                                 \n",
      " bidirectional_1 (Bidirectio  (None, 100, 100)         60400     \n",
      " nal)                                                            \n",
      "                                                                 \n",
      " dropout_2 (Dropout)         (None, 100, 100)          0         \n",
      "                                                                 \n",
      " bidirectional_2 (Bidirectio  (None, 100, 100)         60400     \n",
      " nal)                                                            \n",
      "                                                                 \n",
      " dropout_3 (Dropout)         (None, 100, 100)          0         \n",
      "                                                                 \n",
      " bidirectional_3 (Bidirectio  (None, 100)              60400     \n",
      " nal)                                                            \n",
      "                                                                 \n",
      " dense_5 (Dense)             (None, 1)                 101       \n",
      "                                                                 \n",
      "=================================================================\n",
      "Total params: 232,101\n",
      "Trainable params: 232,101\n",
      "Non-trainable params: 0\n",
      "_________________________________________________________________\n"
     ]
    }
   ],
   "source": [
    "model.summary()"
   ]
  },
  {
   "cell_type": "code",
   "execution_count": 70,
   "metadata": {
    "colab": {
     "base_uri": "https://localhost:8080/"
    },
    "id": "yA-NNkMtCmKI",
    "outputId": "6c852303-2aad-45f3-e865-dc6a43465f30"
   },
   "outputs": [
    {
     "name": "stdout",
     "output_type": "stream",
     "text": [
      "Epoch 1/10\n",
      "14/14 [==============================] - 29s 479ms/step - loss: 0.0363 - val_loss: 0.0106\n",
      "Epoch 2/10\n",
      "14/14 [==============================] - 1s 72ms/step - loss: 0.0121 - val_loss: 0.0100\n",
      "Epoch 3/10\n",
      "14/14 [==============================] - 1s 73ms/step - loss: 0.0104 - val_loss: 0.0072\n",
      "Epoch 4/10\n",
      "14/14 [==============================] - 1s 80ms/step - loss: 0.0095 - val_loss: 0.0056\n",
      "Epoch 5/10\n",
      "14/14 [==============================] - 1s 79ms/step - loss: 0.0090 - val_loss: 0.0054\n",
      "Epoch 6/10\n",
      "14/14 [==============================] - 1s 79ms/step - loss: 0.0094 - val_loss: 0.0058\n",
      "Epoch 7/10\n",
      "14/14 [==============================] - 1s 76ms/step - loss: 0.0085 - val_loss: 0.0068\n",
      "Epoch 8/10\n",
      "14/14 [==============================] - 1s 77ms/step - loss: 0.0085 - val_loss: 0.0057\n",
      "Epoch 9/10\n",
      "14/14 [==============================] - 1s 83ms/step - loss: 0.0087 - val_loss: 0.0089\n",
      "Epoch 10/10\n",
      "14/14 [==============================] - 1s 79ms/step - loss: 0.0085 - val_loss: 0.0063\n"
     ]
    }
   ],
   "source": [
    "history=model.fit(X_train,y_train,validation_data=(X_test,y_test),epochs=10,batch_size=64)"
   ]
  },
  {
   "cell_type": "code",
   "execution_count": 71,
   "metadata": {
    "colab": {
     "base_uri": "https://localhost:8080/",
     "height": 281
    },
    "id": "X7vn48i8CnAE",
    "outputId": "79e969de-be04-47ca-9d39-05802226751c"
   },
   "outputs": [
    {
     "data": {
      "image/png": "[encoded data removed]",
      "text/plain": [
       "<Figure size 432x288 with 1 Axes>"
      ]
     },
     "metadata": {
      "needs_background": "light"
     },
     "output_type": "display_data"
    }
   ],
   "source": [
    "plot_history(history, 'Training and validation loss using 5 LSTM Layers')"
   ]
  },
  {
   "cell_type": "code",
   "execution_count": 72,
   "metadata": {
    "id": "qm8jDU5gCno_"
   },
   "outputs": [],
   "source": [
    "train_predict=model.predict(X_train)"
   ]
  },
  {
   "cell_type": "code",
   "execution_count": 73,
   "metadata": {
    "colab": {
     "base_uri": "https://localhost:8080/"
    },
    "id": "hviZrxrnCoW_",
    "outputId": "c0ecda51-e871-44bb-fd97-3c2768de6696"
   },
   "outputs": [
    {
     "name": "stdout",
     "output_type": "stream",
     "text": [
      "rmse score for training dataset:  0.08620972252600011\n"
     ]
    }
   ],
   "source": [
    "print(\"rmse score for training dataset: \",sqrt(mean_squared_error(y_train,train_predict)))"
   ]
  },
  {
   "cell_type": "code",
   "execution_count": 74,
   "metadata": {
    "id": "AvX6DchHCpB1"
   },
   "outputs": [],
   "source": [
    "test_predict=model.predict(X_test)"
   ]
  },
  {
   "cell_type": "code",
   "execution_count": 75,
   "metadata": {
    "colab": {
     "base_uri": "https://localhost:8080/"
    },
    "id": "gc9r6JhWCprp",
    "outputId": "70660157-eb15-4c5f-957a-29bfecba026f"
   },
   "outputs": [
    {
     "name": "stdout",
     "output_type": "stream",
     "text": [
      "Root Mean Squared Error for test dataset:  0.07948134053709056\n"
     ]
    }
   ],
   "source": [
    "rmse=sqrt(mean_squared_error(y_test,test_predict))\n",
    "print(\"Root Mean Squared Error for test dataset: \",rmse)"
   ]
  },
  {
   "cell_type": "code",
   "execution_count": 76,
   "metadata": {
    "colab": {
     "base_uri": "https://localhost:8080/"
    },
    "id": "n_v0Smb9CqU2",
    "outputId": "aa3f91c4-d3fa-43ee-cf90-2bd50396cebf"
   },
   "outputs": [
    {
     "data": {
      "text/plain": [
       "(1, 100)"
      ]
     },
     "execution_count": 76,
     "metadata": {},
     "output_type": "execute_result"
    }
   ],
   "source": [
    "#considering previous 100 values to predict the future value i.e the next value\n",
    "x_input=test_data[141:].reshape(1,-1)\n",
    "x_input.shape"
   ]
  },
  {
   "cell_type": "code",
   "execution_count": 77,
   "metadata": {
    "id": "YSU0D07vCq93"
   },
   "outputs": [],
   "source": [
    "temp_input=list(x_input)\n",
    "temp_input=temp_input[0].tolist()"
   ]
  },
  {
   "cell_type": "code",
   "execution_count": 78,
   "metadata": {
    "colab": {
     "base_uri": "https://localhost:8080/"
    },
    "id": "WwgpfghgCrvB",
    "outputId": "01c8f72e-4d72-4b6b-b468-934de944156f"
   },
   "outputs": [
    {
     "name": "stdout",
     "output_type": "stream",
     "text": [
      "[0.4758967]\n",
      "101\n",
      "1 day input [0.39752381 0.58749834 0.55319581 0.55351649 0.56219671 0.43332333\n",
      " 0.49826782 0.47770773 0.4792331  0.51896578 0.47585303 0.47888485\n",
      " 0.50648633 0.46021886 0.47482562 0.41774288 0.51053691 0.47905575\n",
      " 0.45115266 0.4992173  0.37839336 0.51195669 0.90562046 0.59678029\n",
      " 0.60987386 0.44934004 0.49893195 0.4954691  0.44867963 0.48756904\n",
      " 0.39674152 0.48656761 0.53160168 0.51982428 0.54581499 0.38115869\n",
      " 0.49351033 0.49750134 0.45435491 0.47225919 0.37467919 0.65647154\n",
      " 0.4958573  0.46929821 0.55869126 0.48816371 0.60535854 0.60094221\n",
      " 0.51807352 0.54702289 0.41101746 0.51001416 0.48931516 0.45919501\n",
      " 0.5028642  0.40577756 0.54067639 0.50694646 0.50398162 0.48761698\n",
      " 0.36675824 0.48366773 0.47927846 0.42270671 0.46112363 0.38295507\n",
      " 0.51554714 0.61055668 0.53880809 0.54804674 0.43666405 0.51826916\n",
      " 0.51700945 0.46007271 0.47419708 0.3820534  0.48709964 0.52795788\n",
      " 0.45976571 0.48902517 0.42739447 0.5001963  0.52659841 0.44696677\n",
      " 0.46790395 0.40539864 0.54093081 0.58018289 0.65958022 0.64115783\n",
      " 0.45816188 0.53527023 0.51183142 0.45021    0.46285737 0.3988681\n",
      " 0.53417755 0.4835788  0.48490965 0.47589669]\n",
      "1 day output [[0.47339702]]\n",
      "2 day input [0.58749834 0.55319581 0.55351649 0.56219671 0.43332333 0.49826782\n",
      " 0.47770773 0.4792331  0.51896578 0.47585303 0.47888485 0.50648633\n",
      " 0.46021886 0.47482562 0.41774288 0.51053691 0.47905575 0.45115266\n",
      " 0.4992173  0.37839336 0.51195669 0.90562046 0.59678029 0.60987386\n",
      " 0.44934004 0.49893195 0.4954691  0.44867963 0.48756904 0.39674152\n",
      " 0.48656761 0.53160168 0.51982428 0.54581499 0.38115869 0.49351033\n",
      " 0.49750134 0.45435491 0.47225919 0.37467919 0.65647154 0.4958573\n",
      " 0.46929821 0.55869126 0.48816371 0.60535854 0.60094221 0.51807352\n",
      " 0.54702289 0.41101746 0.51001416 0.48931516 0.45919501 0.5028642\n",
      " 0.40577756 0.54067639 0.50694646 0.50398162 0.48761698 0.36675824\n",
      " 0.48366773 0.47927846 0.42270671 0.46112363 0.38295507 0.51554714\n",
      " 0.61055668 0.53880809 0.54804674 0.43666405 0.51826916 0.51700945\n",
      " 0.46007271 0.47419708 0.3820534  0.48709964 0.52795788 0.45976571\n",
      " 0.48902517 0.42739447 0.5001963  0.52659841 0.44696677 0.46790395\n",
      " 0.40539864 0.54093081 0.58018289 0.65958022 0.64115783 0.45816188\n",
      " 0.53527023 0.51183142 0.45021    0.46285737 0.3988681  0.53417755\n",
      " 0.4835788  0.48490965 0.47589669 0.47339702]\n",
      "2 day output [[0.47092283]]\n",
      "3 day input [0.55319581 0.55351649 0.56219671 0.43332333 0.49826782 0.47770773\n",
      " 0.4792331  0.51896578 0.47585303 0.47888485 0.50648633 0.46021886\n",
      " 0.47482562 0.41774288 0.51053691 0.47905575 0.45115266 0.4992173\n",
      " 0.37839336 0.51195669 0.90562046 0.59678029 0.60987386 0.44934004\n",
      " 0.49893195 0.4954691  0.44867963 0.48756904 0.39674152 0.48656761\n",
      " 0.53160168 0.51982428 0.54581499 0.38115869 0.49351033 0.49750134\n",
      " 0.45435491 0.47225919 0.37467919 0.65647154 0.4958573  0.46929821\n",
      " 0.55869126 0.48816371 0.60535854 0.60094221 0.51807352 0.54702289\n",
      " 0.41101746 0.51001416 0.48931516 0.45919501 0.5028642  0.40577756\n",
      " 0.54067639 0.50694646 0.50398162 0.48761698 0.36675824 0.48366773\n",
      " 0.47927846 0.42270671 0.46112363 0.38295507 0.51554714 0.61055668\n",
      " 0.53880809 0.54804674 0.43666405 0.51826916 0.51700945 0.46007271\n",
      " 0.47419708 0.3820534  0.48709964 0.52795788 0.45976571 0.48902517\n",
      " 0.42739447 0.5001963  0.52659841 0.44696677 0.46790395 0.40539864\n",
      " 0.54093081 0.58018289 0.65958022 0.64115783 0.45816188 0.53527023\n",
      " 0.51183142 0.45021    0.46285737 0.3988681  0.53417755 0.4835788\n",
      " 0.48490965 0.47589669 0.47339702 0.47092283]\n",
      "3 day output [[0.46849954]]\n",
      "4 day input [0.55351649 0.56219671 0.43332333 0.49826782 0.47770773 0.4792331\n",
      " 0.51896578 0.47585303 0.47888485 0.50648633 0.46021886 0.47482562\n",
      " 0.41774288 0.51053691 0.47905575 0.45115266 0.4992173  0.37839336\n",
      " 0.51195669 0.90562046 0.59678029 0.60987386 0.44934004 0.49893195\n",
      " 0.4954691  0.44867963 0.48756904 0.39674152 0.48656761 0.53160168\n",
      " 0.51982428 0.54581499 0.38115869 0.49351033 0.49750134 0.45435491\n",
      " 0.47225919 0.37467919 0.65647154 0.4958573  0.46929821 0.55869126\n",
      " 0.48816371 0.60535854 0.60094221 0.51807352 0.54702289 0.41101746\n",
      " 0.51001416 0.48931516 0.45919501 0.5028642  0.40577756 0.54067639\n",
      " 0.50694646 0.50398162 0.48761698 0.36675824 0.48366773 0.47927846\n",
      " 0.42270671 0.46112363 0.38295507 0.51554714 0.61055668 0.53880809\n",
      " 0.54804674 0.43666405 0.51826916 0.51700945 0.46007271 0.47419708\n",
      " 0.3820534  0.48709964 0.52795788 0.45976571 0.48902517 0.42739447\n",
      " 0.5001963  0.52659841 0.44696677 0.46790395 0.40539864 0.54093081\n",
      " 0.58018289 0.65958022 0.64115783 0.45816188 0.53527023 0.51183142\n",
      " 0.45021    0.46285737 0.3988681  0.53417755 0.4835788  0.48490965\n",
      " 0.47589669 0.47339702 0.47092283 0.46849954]\n",
      "4 day output [[0.46616507]]\n",
      "5 day input [0.56219671 0.43332333 0.49826782 0.47770773 0.4792331  0.51896578\n",
      " 0.47585303 0.47888485 0.50648633 0.46021886 0.47482562 0.41774288\n",
      " 0.51053691 0.47905575 0.45115266 0.4992173  0.37839336 0.51195669\n",
      " 0.90562046 0.59678029 0.60987386 0.44934004 0.49893195 0.4954691\n",
      " 0.44867963 0.48756904 0.39674152 0.48656761 0.53160168 0.51982428\n",
      " 0.54581499 0.38115869 0.49351033 0.49750134 0.45435491 0.47225919\n",
      " 0.37467919 0.65647154 0.4958573  0.46929821 0.55869126 0.48816371\n",
      " 0.60535854 0.60094221 0.51807352 0.54702289 0.41101746 0.51001416\n",
      " 0.48931516 0.45919501 0.5028642  0.40577756 0.54067639 0.50694646\n",
      " 0.50398162 0.48761698 0.36675824 0.48366773 0.47927846 0.42270671\n",
      " 0.46112363 0.38295507 0.51554714 0.61055668 0.53880809 0.54804674\n",
      " 0.43666405 0.51826916 0.51700945 0.46007271 0.47419708 0.3820534\n",
      " 0.48709964 0.52795788 0.45976571 0.48902517 0.42739447 0.5001963\n",
      " 0.52659841 0.44696677 0.46790395 0.40539864 0.54093081 0.58018289\n",
      " 0.65958022 0.64115783 0.45816188 0.53527023 0.51183142 0.45021\n",
      " 0.46285737 0.3988681  0.53417755 0.4835788  0.48490965 0.47589669\n",
      " 0.47339702 0.47092283 0.46849954 0.46616507]\n",
      "5 day output [[0.46392754]]\n",
      "6 day input [0.43332333 0.49826782 0.47770773 0.4792331  0.51896578 0.47585303\n",
      " 0.47888485 0.50648633 0.46021886 0.47482562 0.41774288 0.51053691\n",
      " 0.47905575 0.45115266 0.4992173  0.37839336 0.51195669 0.90562046\n",
      " 0.59678029 0.60987386 0.44934004 0.49893195 0.4954691  0.44867963\n",
      " 0.48756904 0.39674152 0.48656761 0.53160168 0.51982428 0.54581499\n",
      " 0.38115869 0.49351033 0.49750134 0.45435491 0.47225919 0.37467919\n",
      " 0.65647154 0.4958573  0.46929821 0.55869126 0.48816371 0.60535854\n",
      " 0.60094221 0.51807352 0.54702289 0.41101746 0.51001416 0.48931516\n",
      " 0.45919501 0.5028642  0.40577756 0.54067639 0.50694646 0.50398162\n",
      " 0.48761698 0.36675824 0.48366773 0.47927846 0.42270671 0.46112363\n",
      " 0.38295507 0.51554714 0.61055668 0.53880809 0.54804674 0.43666405\n",
      " 0.51826916 0.51700945 0.46007271 0.47419708 0.3820534  0.48709964\n",
      " 0.52795788 0.45976571 0.48902517 0.42739447 0.5001963  0.52659841\n",
      " 0.44696677 0.46790395 0.40539864 0.54093081 0.58018289 0.65958022\n",
      " 0.64115783 0.45816188 0.53527023 0.51183142 0.45021    0.46285737\n",
      " 0.3988681  0.53417755 0.4835788  0.48490965 0.47589669 0.47339702\n",
      " 0.47092283 0.46849954 0.46616507 0.46392754]\n",
      "6 day output [[0.4617936]]\n",
      "7 day input [0.49826782 0.47770773 0.4792331  0.51896578 0.47585303 0.47888485\n",
      " 0.50648633 0.46021886 0.47482562 0.41774288 0.51053691 0.47905575\n",
      " 0.45115266 0.4992173  0.37839336 0.51195669 0.90562046 0.59678029\n",
      " 0.60987386 0.44934004 0.49893195 0.4954691  0.44867963 0.48756904\n",
      " 0.39674152 0.48656761 0.53160168 0.51982428 0.54581499 0.38115869\n",
      " 0.49351033 0.49750134 0.45435491 0.47225919 0.37467919 0.65647154\n",
      " 0.4958573  0.46929821 0.55869126 0.48816371 0.60535854 0.60094221\n",
      " 0.51807352 0.54702289 0.41101746 0.51001416 0.48931516 0.45919501\n",
      " 0.5028642  0.40577756 0.54067639 0.50694646 0.50398162 0.48761698\n",
      " 0.36675824 0.48366773 0.47927846 0.42270671 0.46112363 0.38295507\n",
      " 0.51554714 0.61055668 0.53880809 0.54804674 0.43666405 0.51826916\n",
      " 0.51700945 0.46007271 0.47419708 0.3820534  0.48709964 0.52795788\n",
      " 0.45976571 0.48902517 0.42739447 0.5001963  0.52659841 0.44696677\n",
      " 0.46790395 0.40539864 0.54093081 0.58018289 0.65958022 0.64115783\n",
      " 0.45816188 0.53527023 0.51183142 0.45021    0.46285737 0.3988681\n",
      " 0.53417755 0.4835788  0.48490965 0.47589669 0.47339702 0.47092283\n",
      " 0.46849954 0.46616507 0.46392754 0.4617936 ]\n",
      "7 day output [[0.4597574]]\n",
      "8 day input [0.47770773 0.4792331  0.51896578 0.47585303 0.47888485 0.50648633\n",
      " 0.46021886 0.47482562 0.41774288 0.51053691 0.47905575 0.45115266\n",
      " 0.4992173  0.37839336 0.51195669 0.90562046 0.59678029 0.60987386\n",
      " 0.44934004 0.49893195 0.4954691  0.44867963 0.48756904 0.39674152\n",
      " 0.48656761 0.53160168 0.51982428 0.54581499 0.38115869 0.49351033\n",
      " 0.49750134 0.45435491 0.47225919 0.37467919 0.65647154 0.4958573\n",
      " 0.46929821 0.55869126 0.48816371 0.60535854 0.60094221 0.51807352\n",
      " 0.54702289 0.41101746 0.51001416 0.48931516 0.45919501 0.5028642\n",
      " 0.40577756 0.54067639 0.50694646 0.50398162 0.48761698 0.36675824\n",
      " 0.48366773 0.47927846 0.42270671 0.46112363 0.38295507 0.51554714\n",
      " 0.61055668 0.53880809 0.54804674 0.43666405 0.51826916 0.51700945\n",
      " 0.46007271 0.47419708 0.3820534  0.48709964 0.52795788 0.45976571\n",
      " 0.48902517 0.42739447 0.5001963  0.52659841 0.44696677 0.46790395\n",
      " 0.40539864 0.54093081 0.58018289 0.65958022 0.64115783 0.45816188\n",
      " 0.53527023 0.51183142 0.45021    0.46285737 0.3988681  0.53417755\n",
      " 0.4835788  0.48490965 0.47589669 0.47339702 0.47092283 0.46849954\n",
      " 0.46616507 0.46392754 0.4617936  0.45975739]\n",
      "8 day output [[0.45780694]]\n",
      "9 day input [0.4792331  0.51896578 0.47585303 0.47888485 0.50648633 0.46021886\n",
      " 0.47482562 0.41774288 0.51053691 0.47905575 0.45115266 0.4992173\n",
      " 0.37839336 0.51195669 0.90562046 0.59678029 0.60987386 0.44934004\n",
      " 0.49893195 0.4954691  0.44867963 0.48756904 0.39674152 0.48656761\n",
      " 0.53160168 0.51982428 0.54581499 0.38115869 0.49351033 0.49750134\n",
      " 0.45435491 0.47225919 0.37467919 0.65647154 0.4958573  0.46929821\n",
      " 0.55869126 0.48816371 0.60535854 0.60094221 0.51807352 0.54702289\n",
      " 0.41101746 0.51001416 0.48931516 0.45919501 0.5028642  0.40577756\n",
      " 0.54067639 0.50694646 0.50398162 0.48761698 0.36675824 0.48366773\n",
      " 0.47927846 0.42270671 0.46112363 0.38295507 0.51554714 0.61055668\n",
      " 0.53880809 0.54804674 0.43666405 0.51826916 0.51700945 0.46007271\n",
      " 0.47419708 0.3820534  0.48709964 0.52795788 0.45976571 0.48902517\n",
      " 0.42739447 0.5001963  0.52659841 0.44696677 0.46790395 0.40539864\n",
      " 0.54093081 0.58018289 0.65958022 0.64115783 0.45816188 0.53527023\n",
      " 0.51183142 0.45021    0.46285737 0.3988681  0.53417755 0.4835788\n",
      " 0.48490965 0.47589669 0.47339702 0.47092283 0.46849954 0.46616507\n",
      " 0.46392754 0.4617936  0.45975739 0.45780694]\n",
      "9 day output [[0.4559427]]\n",
      "10 day input [0.51896578 0.47585303 0.47888485 0.50648633 0.46021886 0.47482562\n",
      " 0.41774288 0.51053691 0.47905575 0.45115266 0.4992173  0.37839336\n",
      " 0.51195669 0.90562046 0.59678029 0.60987386 0.44934004 0.49893195\n",
      " 0.4954691  0.44867963 0.48756904 0.39674152 0.48656761 0.53160168\n",
      " 0.51982428 0.54581499 0.38115869 0.49351033 0.49750134 0.45435491\n",
      " 0.47225919 0.37467919 0.65647154 0.4958573  0.46929821 0.55869126\n",
      " 0.48816371 0.60535854 0.60094221 0.51807352 0.54702289 0.41101746\n",
      " 0.51001416 0.48931516 0.45919501 0.5028642  0.40577756 0.54067639\n",
      " 0.50694646 0.50398162 0.48761698 0.36675824 0.48366773 0.47927846\n",
      " 0.42270671 0.46112363 0.38295507 0.51554714 0.61055668 0.53880809\n",
      " 0.54804674 0.43666405 0.51826916 0.51700945 0.46007271 0.47419708\n",
      " 0.3820534  0.48709964 0.52795788 0.45976571 0.48902517 0.42739447\n",
      " 0.5001963  0.52659841 0.44696677 0.46790395 0.40539864 0.54093081\n",
      " 0.58018289 0.65958022 0.64115783 0.45816188 0.53527023 0.51183142\n",
      " 0.45021    0.46285737 0.3988681  0.53417755 0.4835788  0.48490965\n",
      " 0.47589669 0.47339702 0.47092283 0.46849954 0.46616507 0.46392754\n",
      " 0.4617936  0.45975739 0.45780694 0.45594269]\n",
      "10 day output [[0.45415777]]\n",
      "11 day input [0.47585303 0.47888485 0.50648633 0.46021886 0.47482562 0.41774288\n",
      " 0.51053691 0.47905575 0.45115266 0.4992173  0.37839336 0.51195669\n",
      " 0.90562046 0.59678029 0.60987386 0.44934004 0.49893195 0.4954691\n",
      " 0.44867963 0.48756904 0.39674152 0.48656761 0.53160168 0.51982428\n",
      " 0.54581499 0.38115869 0.49351033 0.49750134 0.45435491 0.47225919\n",
      " 0.37467919 0.65647154 0.4958573  0.46929821 0.55869126 0.48816371\n",
      " 0.60535854 0.60094221 0.51807352 0.54702289 0.41101746 0.51001416\n",
      " 0.48931516 0.45919501 0.5028642  0.40577756 0.54067639 0.50694646\n",
      " 0.50398162 0.48761698 0.36675824 0.48366773 0.47927846 0.42270671\n",
      " 0.46112363 0.38295507 0.51554714 0.61055668 0.53880809 0.54804674\n",
      " 0.43666405 0.51826916 0.51700945 0.46007271 0.47419708 0.3820534\n",
      " 0.48709964 0.52795788 0.45976571 0.48902517 0.42739447 0.5001963\n",
      " 0.52659841 0.44696677 0.46790395 0.40539864 0.54093081 0.58018289\n",
      " 0.65958022 0.64115783 0.45816188 0.53527023 0.51183142 0.45021\n",
      " 0.46285737 0.3988681  0.53417755 0.4835788  0.48490965 0.47589669\n",
      " 0.47339702 0.47092283 0.46849954 0.46616507 0.46392754 0.4617936\n",
      " 0.45975739 0.45780694 0.45594269 0.45415777]\n",
      "11 day output [[0.45244968]]\n",
      "12 day input [0.47888485 0.50648633 0.46021886 0.47482562 0.41774288 0.51053691\n",
      " 0.47905575 0.45115266 0.4992173  0.37839336 0.51195669 0.90562046\n",
      " 0.59678029 0.60987386 0.44934004 0.49893195 0.4954691  0.44867963\n",
      " 0.48756904 0.39674152 0.48656761 0.53160168 0.51982428 0.54581499\n",
      " 0.38115869 0.49351033 0.49750134 0.45435491 0.47225919 0.37467919\n",
      " 0.65647154 0.4958573  0.46929821 0.55869126 0.48816371 0.60535854\n",
      " 0.60094221 0.51807352 0.54702289 0.41101746 0.51001416 0.48931516\n",
      " 0.45919501 0.5028642  0.40577756 0.54067639 0.50694646 0.50398162\n",
      " 0.48761698 0.36675824 0.48366773 0.47927846 0.42270671 0.46112363\n",
      " 0.38295507 0.51554714 0.61055668 0.53880809 0.54804674 0.43666405\n",
      " 0.51826916 0.51700945 0.46007271 0.47419708 0.3820534  0.48709964\n",
      " 0.52795788 0.45976571 0.48902517 0.42739447 0.5001963  0.52659841\n",
      " 0.44696677 0.46790395 0.40539864 0.54093081 0.58018289 0.65958022\n",
      " 0.64115783 0.45816188 0.53527023 0.51183142 0.45021    0.46285737\n",
      " 0.3988681  0.53417755 0.4835788  0.48490965 0.47589669 0.47339702\n",
      " 0.47092283 0.46849954 0.46616507 0.46392754 0.4617936  0.45975739\n",
      " 0.45780694 0.45594269 0.45415777 0.45244968]\n",
      "12 day output [[0.4508159]]\n",
      "13 day input [0.50648633 0.46021886 0.47482562 0.41774288 0.51053691 0.47905575\n",
      " 0.45115266 0.4992173  0.37839336 0.51195669 0.90562046 0.59678029\n",
      " 0.60987386 0.44934004 0.49893195 0.4954691  0.44867963 0.48756904\n",
      " 0.39674152 0.48656761 0.53160168 0.51982428 0.54581499 0.38115869\n",
      " 0.49351033 0.49750134 0.45435491 0.47225919 0.37467919 0.65647154\n",
      " 0.4958573  0.46929821 0.55869126 0.48816371 0.60535854 0.60094221\n",
      " 0.51807352 0.54702289 0.41101746 0.51001416 0.48931516 0.45919501\n",
      " 0.5028642  0.40577756 0.54067639 0.50694646 0.50398162 0.48761698\n",
      " 0.36675824 0.48366773 0.47927846 0.42270671 0.46112363 0.38295507\n",
      " 0.51554714 0.61055668 0.53880809 0.54804674 0.43666405 0.51826916\n",
      " 0.51700945 0.46007271 0.47419708 0.3820534  0.48709964 0.52795788\n",
      " 0.45976571 0.48902517 0.42739447 0.5001963  0.52659841 0.44696677\n",
      " 0.46790395 0.40539864 0.54093081 0.58018289 0.65958022 0.64115783\n",
      " 0.45816188 0.53527023 0.51183142 0.45021    0.46285737 0.3988681\n",
      " 0.53417755 0.4835788  0.48490965 0.47589669 0.47339702 0.47092283\n",
      " 0.46849954 0.46616507 0.46392754 0.4617936  0.45975739 0.45780694\n",
      " 0.45594269 0.45415777 0.45244968 0.45081589]\n",
      "13 day output [[0.44924825]]\n",
      "14 day input [0.46021886 0.47482562 0.41774288 0.51053691 0.47905575 0.45115266\n",
      " 0.4992173  0.37839336 0.51195669 0.90562046 0.59678029 0.60987386\n",
      " 0.44934004 0.49893195 0.4954691  0.44867963 0.48756904 0.39674152\n",
      " 0.48656761 0.53160168 0.51982428 0.54581499 0.38115869 0.49351033\n",
      " 0.49750134 0.45435491 0.47225919 0.37467919 0.65647154 0.4958573\n",
      " 0.46929821 0.55869126 0.48816371 0.60535854 0.60094221 0.51807352\n",
      " 0.54702289 0.41101746 0.51001416 0.48931516 0.45919501 0.5028642\n",
      " 0.40577756 0.54067639 0.50694646 0.50398162 0.48761698 0.36675824\n",
      " 0.48366773 0.47927846 0.42270671 0.46112363 0.38295507 0.51554714\n",
      " 0.61055668 0.53880809 0.54804674 0.43666405 0.51826916 0.51700945\n",
      " 0.46007271 0.47419708 0.3820534  0.48709964 0.52795788 0.45976571\n",
      " 0.48902517 0.42739447 0.5001963  0.52659841 0.44696677 0.46790395\n",
      " 0.40539864 0.54093081 0.58018289 0.65958022 0.64115783 0.45816188\n",
      " 0.53527023 0.51183142 0.45021    0.46285737 0.3988681  0.53417755\n",
      " 0.4835788  0.48490965 0.47589669 0.47339702 0.47092283 0.46849954\n",
      " 0.46616507 0.46392754 0.4617936  0.45975739 0.45780694 0.45594269\n",
      " 0.45415777 0.45244968 0.45081589 0.44924825]\n",
      "14 day output [[0.4477446]]\n",
      "15 day input [0.47482562 0.41774288 0.51053691 0.47905575 0.45115266 0.4992173\n",
      " 0.37839336 0.51195669 0.90562046 0.59678029 0.60987386 0.44934004\n",
      " 0.49893195 0.4954691  0.44867963 0.48756904 0.39674152 0.48656761\n",
      " 0.53160168 0.51982428 0.54581499 0.38115869 0.49351033 0.49750134\n",
      " 0.45435491 0.47225919 0.37467919 0.65647154 0.4958573  0.46929821\n",
      " 0.55869126 0.48816371 0.60535854 0.60094221 0.51807352 0.54702289\n",
      " 0.41101746 0.51001416 0.48931516 0.45919501 0.5028642  0.40577756\n",
      " 0.54067639 0.50694646 0.50398162 0.48761698 0.36675824 0.48366773\n",
      " 0.47927846 0.42270671 0.46112363 0.38295507 0.51554714 0.61055668\n",
      " 0.53880809 0.54804674 0.43666405 0.51826916 0.51700945 0.46007271\n",
      " 0.47419708 0.3820534  0.48709964 0.52795788 0.45976571 0.48902517\n",
      " 0.42739447 0.5001963  0.52659841 0.44696677 0.46790395 0.40539864\n",
      " 0.54093081 0.58018289 0.65958022 0.64115783 0.45816188 0.53527023\n",
      " 0.51183142 0.45021    0.46285737 0.3988681  0.53417755 0.4835788\n",
      " 0.48490965 0.47589669 0.47339702 0.47092283 0.46849954 0.46616507\n",
      " 0.46392754 0.4617936  0.45975739 0.45780694 0.45594269 0.45415777\n",
      " 0.45244968 0.45081589 0.44924825 0.44774461]\n",
      "15 day output [[0.44630203]]\n",
      "16 day input [0.41774288 0.51053691 0.47905575 0.45115266 0.4992173  0.37839336\n",
      " 0.51195669 0.90562046 0.59678029 0.60987386 0.44934004 0.49893195\n",
      " 0.4954691  0.44867963 0.48756904 0.39674152 0.48656761 0.53160168\n",
      " 0.51982428 0.54581499 0.38115869 0.49351033 0.49750134 0.45435491\n",
      " 0.47225919 0.37467919 0.65647154 0.4958573  0.46929821 0.55869126\n",
      " 0.48816371 0.60535854 0.60094221 0.51807352 0.54702289 0.41101746\n",
      " 0.51001416 0.48931516 0.45919501 0.5028642  0.40577756 0.54067639\n",
      " 0.50694646 0.50398162 0.48761698 0.36675824 0.48366773 0.47927846\n",
      " 0.42270671 0.46112363 0.38295507 0.51554714 0.61055668 0.53880809\n",
      " 0.54804674 0.43666405 0.51826916 0.51700945 0.46007271 0.47419708\n",
      " 0.3820534  0.48709964 0.52795788 0.45976571 0.48902517 0.42739447\n",
      " 0.5001963  0.52659841 0.44696677 0.46790395 0.40539864 0.54093081\n",
      " 0.58018289 0.65958022 0.64115783 0.45816188 0.53527023 0.51183142\n",
      " 0.45021    0.46285737 0.3988681  0.53417755 0.4835788  0.48490965\n",
      " 0.47589669 0.47339702 0.47092283 0.46849954 0.46616507 0.46392754\n",
      " 0.4617936  0.45975739 0.45780694 0.45594269 0.45415777 0.45244968\n",
      " 0.45081589 0.44924825 0.44774461 0.44630203]\n",
      "16 day output [[0.44491318]]\n",
      "17 day input [0.51053691 0.47905575 0.45115266 0.4992173  0.37839336 0.51195669\n",
      " 0.90562046 0.59678029 0.60987386 0.44934004 0.49893195 0.4954691\n",
      " 0.44867963 0.48756904 0.39674152 0.48656761 0.53160168 0.51982428\n",
      " 0.54581499 0.38115869 0.49351033 0.49750134 0.45435491 0.47225919\n",
      " 0.37467919 0.65647154 0.4958573  0.46929821 0.55869126 0.48816371\n",
      " 0.60535854 0.60094221 0.51807352 0.54702289 0.41101746 0.51001416\n",
      " 0.48931516 0.45919501 0.5028642  0.40577756 0.54067639 0.50694646\n",
      " 0.50398162 0.48761698 0.36675824 0.48366773 0.47927846 0.42270671\n",
      " 0.46112363 0.38295507 0.51554714 0.61055668 0.53880809 0.54804674\n",
      " 0.43666405 0.51826916 0.51700945 0.46007271 0.47419708 0.3820534\n",
      " 0.48709964 0.52795788 0.45976571 0.48902517 0.42739447 0.5001963\n",
      " 0.52659841 0.44696677 0.46790395 0.40539864 0.54093081 0.58018289\n",
      " 0.65958022 0.64115783 0.45816188 0.53527023 0.51183142 0.45021\n",
      " 0.46285737 0.3988681  0.53417755 0.4835788  0.48490965 0.47589669\n",
      " 0.47339702 0.47092283 0.46849954 0.46616507 0.46392754 0.4617936\n",
      " 0.45975739 0.45780694 0.45594269 0.45415777 0.45244968 0.45081589\n",
      " 0.44924825 0.44774461 0.44630203 0.44491318]\n",
      "17 day output [[0.44357198]]\n",
      "18 day input [0.47905575 0.45115266 0.4992173  0.37839336 0.51195669 0.90562046\n",
      " 0.59678029 0.60987386 0.44934004 0.49893195 0.4954691  0.44867963\n",
      " 0.48756904 0.39674152 0.48656761 0.53160168 0.51982428 0.54581499\n",
      " 0.38115869 0.49351033 0.49750134 0.45435491 0.47225919 0.37467919\n",
      " 0.65647154 0.4958573  0.46929821 0.55869126 0.48816371 0.60535854\n",
      " 0.60094221 0.51807352 0.54702289 0.41101746 0.51001416 0.48931516\n",
      " 0.45919501 0.5028642  0.40577756 0.54067639 0.50694646 0.50398162\n",
      " 0.48761698 0.36675824 0.48366773 0.47927846 0.42270671 0.46112363\n",
      " 0.38295507 0.51554714 0.61055668 0.53880809 0.54804674 0.43666405\n",
      " 0.51826916 0.51700945 0.46007271 0.47419708 0.3820534  0.48709964\n",
      " 0.52795788 0.45976571 0.48902517 0.42739447 0.5001963  0.52659841\n",
      " 0.44696677 0.46790395 0.40539864 0.54093081 0.58018289 0.65958022\n",
      " 0.64115783 0.45816188 0.53527023 0.51183142 0.45021    0.46285737\n",
      " 0.3988681  0.53417755 0.4835788  0.48490965 0.47589669 0.47339702\n",
      " 0.47092283 0.46849954 0.46616507 0.46392754 0.4617936  0.45975739\n",
      " 0.45780694 0.45594269 0.45415777 0.45244968 0.45081589 0.44924825\n",
      " 0.44774461 0.44630203 0.44491318 0.44357198]\n",
      "18 day output [[0.442273]]\n",
      "19 day input [0.45115266 0.4992173  0.37839336 0.51195669 0.90562046 0.59678029\n",
      " 0.60987386 0.44934004 0.49893195 0.4954691  0.44867963 0.48756904\n",
      " 0.39674152 0.48656761 0.53160168 0.51982428 0.54581499 0.38115869\n",
      " 0.49351033 0.49750134 0.45435491 0.47225919 0.37467919 0.65647154\n",
      " 0.4958573  0.46929821 0.55869126 0.48816371 0.60535854 0.60094221\n",
      " 0.51807352 0.54702289 0.41101746 0.51001416 0.48931516 0.45919501\n",
      " 0.5028642  0.40577756 0.54067639 0.50694646 0.50398162 0.48761698\n",
      " 0.36675824 0.48366773 0.47927846 0.42270671 0.46112363 0.38295507\n",
      " 0.51554714 0.61055668 0.53880809 0.54804674 0.43666405 0.51826916\n",
      " 0.51700945 0.46007271 0.47419708 0.3820534  0.48709964 0.52795788\n",
      " 0.45976571 0.48902517 0.42739447 0.5001963  0.52659841 0.44696677\n",
      " 0.46790395 0.40539864 0.54093081 0.58018289 0.65958022 0.64115783\n",
      " 0.45816188 0.53527023 0.51183142 0.45021    0.46285737 0.3988681\n",
      " 0.53417755 0.4835788  0.48490965 0.47589669 0.47339702 0.47092283\n",
      " 0.46849954 0.46616507 0.46392754 0.4617936  0.45975739 0.45780694\n",
      " 0.45594269 0.45415777 0.45244968 0.45081589 0.44924825 0.44774461\n",
      " 0.44630203 0.44491318 0.44357198 0.44227299]\n",
      "19 day output [[0.44101948]]\n",
      "20 day input [0.4992173  0.37839336 0.51195669 0.90562046 0.59678029 0.60987386\n",
      " 0.44934004 0.49893195 0.4954691  0.44867963 0.48756904 0.39674152\n",
      " 0.48656761 0.53160168 0.51982428 0.54581499 0.38115869 0.49351033\n",
      " 0.49750134 0.45435491 0.47225919 0.37467919 0.65647154 0.4958573\n",
      " 0.46929821 0.55869126 0.48816371 0.60535854 0.60094221 0.51807352\n",
      " 0.54702289 0.41101746 0.51001416 0.48931516 0.45919501 0.5028642\n",
      " 0.40577756 0.54067639 0.50694646 0.50398162 0.48761698 0.36675824\n",
      " 0.48366773 0.47927846 0.42270671 0.46112363 0.38295507 0.51554714\n",
      " 0.61055668 0.53880809 0.54804674 0.43666405 0.51826916 0.51700945\n",
      " 0.46007271 0.47419708 0.3820534  0.48709964 0.52795788 0.45976571\n",
      " 0.48902517 0.42739447 0.5001963  0.52659841 0.44696677 0.46790395\n",
      " 0.40539864 0.54093081 0.58018289 0.65958022 0.64115783 0.45816188\n",
      " 0.53527023 0.51183142 0.45021    0.46285737 0.3988681  0.53417755\n",
      " 0.4835788  0.48490965 0.47589669 0.47339702 0.47092283 0.46849954\n",
      " 0.46616507 0.46392754 0.4617936  0.45975739 0.45780694 0.45594269\n",
      " 0.45415777 0.45244968 0.45081589 0.44924825 0.44774461 0.44630203\n",
      " 0.44491318 0.44357198 0.44227299 0.44101948]\n",
      "20 day output [[0.43980214]]\n",
      "21 day input [0.37839336 0.51195669 0.90562046 0.59678029 0.60987386 0.44934004\n",
      " 0.49893195 0.4954691  0.44867963 0.48756904 0.39674152 0.48656761\n",
      " 0.53160168 0.51982428 0.54581499 0.38115869 0.49351033 0.49750134\n",
      " 0.45435491 0.47225919 0.37467919 0.65647154 0.4958573  0.46929821\n",
      " 0.55869126 0.48816371 0.60535854 0.60094221 0.51807352 0.54702289\n",
      " 0.41101746 0.51001416 0.48931516 0.45919501 0.5028642  0.40577756\n",
      " 0.54067639 0.50694646 0.50398162 0.48761698 0.36675824 0.48366773\n",
      " 0.47927846 0.42270671 0.46112363 0.38295507 0.51554714 0.61055668\n",
      " 0.53880809 0.54804674 0.43666405 0.51826916 0.51700945 0.46007271\n",
      " 0.47419708 0.3820534  0.48709964 0.52795788 0.45976571 0.48902517\n",
      " 0.42739447 0.5001963  0.52659841 0.44696677 0.46790395 0.40539864\n",
      " 0.54093081 0.58018289 0.65958022 0.64115783 0.45816188 0.53527023\n",
      " 0.51183142 0.45021    0.46285737 0.3988681  0.53417755 0.4835788\n",
      " 0.48490965 0.47589669 0.47339702 0.47092283 0.46849954 0.46616507\n",
      " 0.46392754 0.4617936  0.45975739 0.45780694 0.45594269 0.45415777\n",
      " 0.45244968 0.45081589 0.44924825 0.44774461 0.44630203 0.44491318\n",
      " 0.44357198 0.44227299 0.44101948 0.43980214]\n",
      "21 day output [[0.43861556]]\n",
      "22 day input [0.51195669 0.90562046 0.59678029 0.60987386 0.44934004 0.49893195\n",
      " 0.4954691  0.44867963 0.48756904 0.39674152 0.48656761 0.53160168\n",
      " 0.51982428 0.54581499 0.38115869 0.49351033 0.49750134 0.45435491\n",
      " 0.47225919 0.37467919 0.65647154 0.4958573  0.46929821 0.55869126\n",
      " 0.48816371 0.60535854 0.60094221 0.51807352 0.54702289 0.41101746\n",
      " 0.51001416 0.48931516 0.45919501 0.5028642  0.40577756 0.54067639\n",
      " 0.50694646 0.50398162 0.48761698 0.36675824 0.48366773 0.47927846\n",
      " 0.42270671 0.46112363 0.38295507 0.51554714 0.61055668 0.53880809\n",
      " 0.54804674 0.43666405 0.51826916 0.51700945 0.46007271 0.47419708\n",
      " 0.3820534  0.48709964 0.52795788 0.45976571 0.48902517 0.42739447\n",
      " 0.5001963  0.52659841 0.44696677 0.46790395 0.40539864 0.54093081\n",
      " 0.58018289 0.65958022 0.64115783 0.45816188 0.53527023 0.51183142\n",
      " 0.45021    0.46285737 0.3988681  0.53417755 0.4835788  0.48490965\n",
      " 0.47589669 0.47339702 0.47092283 0.46849954 0.46616507 0.46392754\n",
      " 0.4617936  0.45975739 0.45780694 0.45594269 0.45415777 0.45244968\n",
      " 0.45081589 0.44924825 0.44774461 0.44630203 0.44491318 0.44357198\n",
      " 0.44227299 0.44101948 0.43980214 0.43861556]\n",
      "22 day output [[0.43745223]]\n",
      "23 day input [0.90562046 0.59678029 0.60987386 0.44934004 0.49893195 0.4954691\n",
      " 0.44867963 0.48756904 0.39674152 0.48656761 0.53160168 0.51982428\n",
      " 0.54581499 0.38115869 0.49351033 0.49750134 0.45435491 0.47225919\n",
      " 0.37467919 0.65647154 0.4958573  0.46929821 0.55869126 0.48816371\n",
      " 0.60535854 0.60094221 0.51807352 0.54702289 0.41101746 0.51001416\n",
      " 0.48931516 0.45919501 0.5028642  0.40577756 0.54067639 0.50694646\n",
      " 0.50398162 0.48761698 0.36675824 0.48366773 0.47927846 0.42270671\n",
      " 0.46112363 0.38295507 0.51554714 0.61055668 0.53880809 0.54804674\n",
      " 0.43666405 0.51826916 0.51700945 0.46007271 0.47419708 0.3820534\n",
      " 0.48709964 0.52795788 0.45976571 0.48902517 0.42739447 0.5001963\n",
      " 0.52659841 0.44696677 0.46790395 0.40539864 0.54093081 0.58018289\n",
      " 0.65958022 0.64115783 0.45816188 0.53527023 0.51183142 0.45021\n",
      " 0.46285737 0.3988681  0.53417755 0.4835788  0.48490965 0.47589669\n",
      " 0.47339702 0.47092283 0.46849954 0.46616507 0.46392754 0.4617936\n",
      " 0.45975739 0.45780694 0.45594269 0.45415777 0.45244968 0.45081589\n",
      " 0.44924825 0.44774461 0.44630203 0.44491318 0.44357198 0.44227299\n",
      " 0.44101948 0.43980214 0.43861556 0.43745223]\n",
      "23 day output [[0.43629807]]\n",
      "24 day input [0.59678029 0.60987386 0.44934004 0.49893195 0.4954691  0.44867963\n",
      " 0.48756904 0.39674152 0.48656761 0.53160168 0.51982428 0.54581499\n",
      " 0.38115869 0.49351033 0.49750134 0.45435491 0.47225919 0.37467919\n",
      " 0.65647154 0.4958573  0.46929821 0.55869126 0.48816371 0.60535854\n",
      " 0.60094221 0.51807352 0.54702289 0.41101746 0.51001416 0.48931516\n",
      " 0.45919501 0.5028642  0.40577756 0.54067639 0.50694646 0.50398162\n",
      " 0.48761698 0.36675824 0.48366773 0.47927846 0.42270671 0.46112363\n",
      " 0.38295507 0.51554714 0.61055668 0.53880809 0.54804674 0.43666405\n",
      " 0.51826916 0.51700945 0.46007271 0.47419708 0.3820534  0.48709964\n",
      " 0.52795788 0.45976571 0.48902517 0.42739447 0.5001963  0.52659841\n",
      " 0.44696677 0.46790395 0.40539864 0.54093081 0.58018289 0.65958022\n",
      " 0.64115783 0.45816188 0.53527023 0.51183142 0.45021    0.46285737\n",
      " 0.3988681  0.53417755 0.4835788  0.48490965 0.47589669 0.47339702\n",
      " 0.47092283 0.46849954 0.46616507 0.46392754 0.4617936  0.45975739\n",
      " 0.45780694 0.45594269 0.45415777 0.45244968 0.45081589 0.44924825\n",
      " 0.44774461 0.44630203 0.44491318 0.44357198 0.44227299 0.44101948\n",
      " 0.43980214 0.43861556 0.43745223 0.43629807]\n",
      "24 day output [[0.43516904]]\n",
      "25 day input [0.60987386 0.44934004 0.49893195 0.4954691  0.44867963 0.48756904\n",
      " 0.39674152 0.48656761 0.53160168 0.51982428 0.54581499 0.38115869\n",
      " 0.49351033 0.49750134 0.45435491 0.47225919 0.37467919 0.65647154\n",
      " 0.4958573  0.46929821 0.55869126 0.48816371 0.60535854 0.60094221\n",
      " 0.51807352 0.54702289 0.41101746 0.51001416 0.48931516 0.45919501\n",
      " 0.5028642  0.40577756 0.54067639 0.50694646 0.50398162 0.48761698\n",
      " 0.36675824 0.48366773 0.47927846 0.42270671 0.46112363 0.38295507\n",
      " 0.51554714 0.61055668 0.53880809 0.54804674 0.43666405 0.51826916\n",
      " 0.51700945 0.46007271 0.47419708 0.3820534  0.48709964 0.52795788\n",
      " 0.45976571 0.48902517 0.42739447 0.5001963  0.52659841 0.44696677\n",
      " 0.46790395 0.40539864 0.54093081 0.58018289 0.65958022 0.64115783\n",
      " 0.45816188 0.53527023 0.51183142 0.45021    0.46285737 0.3988681\n",
      " 0.53417755 0.4835788  0.48490965 0.47589669 0.47339702 0.47092283\n",
      " 0.46849954 0.46616507 0.46392754 0.4617936  0.45975739 0.45780694\n",
      " 0.45594269 0.45415777 0.45244968 0.45081589 0.44924825 0.44774461\n",
      " 0.44630203 0.44491318 0.44357198 0.44227299 0.44101948 0.43980214\n",
      " 0.43861556 0.43745223 0.43629807 0.43516904]\n",
      "25 day output [[0.43412113]]\n",
      "26 day input [0.44934004 0.49893195 0.4954691  0.44867963 0.48756904 0.39674152\n",
      " 0.48656761 0.53160168 0.51982428 0.54581499 0.38115869 0.49351033\n",
      " 0.49750134 0.45435491 0.47225919 0.37467919 0.65647154 0.4958573\n",
      " 0.46929821 0.55869126 0.48816371 0.60535854 0.60094221 0.51807352\n",
      " 0.54702289 0.41101746 0.51001416 0.48931516 0.45919501 0.5028642\n",
      " 0.40577756 0.54067639 0.50694646 0.50398162 0.48761698 0.36675824\n",
      " 0.48366773 0.47927846 0.42270671 0.46112363 0.38295507 0.51554714\n",
      " 0.61055668 0.53880809 0.54804674 0.43666405 0.51826916 0.51700945\n",
      " 0.46007271 0.47419708 0.3820534  0.48709964 0.52795788 0.45976571\n",
      " 0.48902517 0.42739447 0.5001963  0.52659841 0.44696677 0.46790395\n",
      " 0.40539864 0.54093081 0.58018289 0.65958022 0.64115783 0.45816188\n",
      " 0.53527023 0.51183142 0.45021    0.46285737 0.3988681  0.53417755\n",
      " 0.4835788  0.48490965 0.47589669 0.47339702 0.47092283 0.46849954\n",
      " 0.46616507 0.46392754 0.4617936  0.45975739 0.45780694 0.45594269\n",
      " 0.45415777 0.45244968 0.45081589 0.44924825 0.44774461 0.44630203\n",
      " 0.44491318 0.44357198 0.44227299 0.44101948 0.43980214 0.43861556\n",
      " 0.43745223 0.43629807 0.43516904 0.43412113]\n",
      "26 day output [[0.4331199]]\n",
      "27 day input [0.49893195 0.4954691  0.44867963 0.48756904 0.39674152 0.48656761\n",
      " 0.53160168 0.51982428 0.54581499 0.38115869 0.49351033 0.49750134\n",
      " 0.45435491 0.47225919 0.37467919 0.65647154 0.4958573  0.46929821\n",
      " 0.55869126 0.48816371 0.60535854 0.60094221 0.51807352 0.54702289\n",
      " 0.41101746 0.51001416 0.48931516 0.45919501 0.5028642  0.40577756\n",
      " 0.54067639 0.50694646 0.50398162 0.48761698 0.36675824 0.48366773\n",
      " 0.47927846 0.42270671 0.46112363 0.38295507 0.51554714 0.61055668\n",
      " 0.53880809 0.54804674 0.43666405 0.51826916 0.51700945 0.46007271\n",
      " 0.47419708 0.3820534  0.48709964 0.52795788 0.45976571 0.48902517\n",
      " 0.42739447 0.5001963  0.52659841 0.44696677 0.46790395 0.40539864\n",
      " 0.54093081 0.58018289 0.65958022 0.64115783 0.45816188 0.53527023\n",
      " 0.51183142 0.45021    0.46285737 0.3988681  0.53417755 0.4835788\n",
      " 0.48490965 0.47589669 0.47339702 0.47092283 0.46849954 0.46616507\n",
      " 0.46392754 0.4617936  0.45975739 0.45780694 0.45594269 0.45415777\n",
      " 0.45244968 0.45081589 0.44924825 0.44774461 0.44630203 0.44491318\n",
      " 0.44357198 0.44227299 0.44101948 0.43980214 0.43861556 0.43745223\n",
      " 0.43629807 0.43516904 0.43412113 0.43311989]\n",
      "27 day output [[0.4321609]]\n",
      "28 day input [0.4954691  0.44867963 0.48756904 0.39674152 0.48656761 0.53160168\n",
      " 0.51982428 0.54581499 0.38115869 0.49351033 0.49750134 0.45435491\n",
      " 0.47225919 0.37467919 0.65647154 0.4958573  0.46929821 0.55869126\n",
      " 0.48816371 0.60535854 0.60094221 0.51807352 0.54702289 0.41101746\n",
      " 0.51001416 0.48931516 0.45919501 0.5028642  0.40577756 0.54067639\n",
      " 0.50694646 0.50398162 0.48761698 0.36675824 0.48366773 0.47927846\n",
      " 0.42270671 0.46112363 0.38295507 0.51554714 0.61055668 0.53880809\n",
      " 0.54804674 0.43666405 0.51826916 0.51700945 0.46007271 0.47419708\n",
      " 0.3820534  0.48709964 0.52795788 0.45976571 0.48902517 0.42739447\n",
      " 0.5001963  0.52659841 0.44696677 0.46790395 0.40539864 0.54093081\n",
      " 0.58018289 0.65958022 0.64115783 0.45816188 0.53527023 0.51183142\n",
      " 0.45021    0.46285737 0.3988681  0.53417755 0.4835788  0.48490965\n",
      " 0.47589669 0.47339702 0.47092283 0.46849954 0.46616507 0.46392754\n",
      " 0.4617936  0.45975739 0.45780694 0.45594269 0.45415777 0.45244968\n",
      " 0.45081589 0.44924825 0.44774461 0.44630203 0.44491318 0.44357198\n",
      " 0.44227299 0.44101948 0.43980214 0.43861556 0.43745223 0.43629807\n",
      " 0.43516904 0.43412113 0.43311989 0.43216091]\n",
      "28 day output [[0.4312296]]\n",
      "29 day input [0.44867963 0.48756904 0.39674152 0.48656761 0.53160168 0.51982428\n",
      " 0.54581499 0.38115869 0.49351033 0.49750134 0.45435491 0.47225919\n",
      " 0.37467919 0.65647154 0.4958573  0.46929821 0.55869126 0.48816371\n",
      " 0.60535854 0.60094221 0.51807352 0.54702289 0.41101746 0.51001416\n",
      " 0.48931516 0.45919501 0.5028642  0.40577756 0.54067639 0.50694646\n",
      " 0.50398162 0.48761698 0.36675824 0.48366773 0.47927846 0.42270671\n",
      " 0.46112363 0.38295507 0.51554714 0.61055668 0.53880809 0.54804674\n",
      " 0.43666405 0.51826916 0.51700945 0.46007271 0.47419708 0.3820534\n",
      " 0.48709964 0.52795788 0.45976571 0.48902517 0.42739447 0.5001963\n",
      " 0.52659841 0.44696677 0.46790395 0.40539864 0.54093081 0.58018289\n",
      " 0.65958022 0.64115783 0.45816188 0.53527023 0.51183142 0.45021\n",
      " 0.46285737 0.3988681  0.53417755 0.4835788  0.48490965 0.47589669\n",
      " 0.47339702 0.47092283 0.46849954 0.46616507 0.46392754 0.4617936\n",
      " 0.45975739 0.45780694 0.45594269 0.45415777 0.45244968 0.45081589\n",
      " 0.44924825 0.44774461 0.44630203 0.44491318 0.44357198 0.44227299\n",
      " 0.44101948 0.43980214 0.43861556 0.43745223 0.43629807 0.43516904\n",
      " 0.43412113 0.43311989 0.43216091 0.43122959]\n",
      "29 day output [[0.43033093]]\n",
      "30 day input [0.48756904 0.39674152 0.48656761 0.53160168 0.51982428 0.54581499\n",
      " 0.38115869 0.49351033 0.49750134 0.45435491 0.47225919 0.37467919\n",
      " 0.65647154 0.4958573  0.46929821 0.55869126 0.48816371 0.60535854\n",
      " 0.60094221 0.51807352 0.54702289 0.41101746 0.51001416 0.48931516\n",
      " 0.45919501 0.5028642  0.40577756 0.54067639 0.50694646 0.50398162\n",
      " 0.48761698 0.36675824 0.48366773 0.47927846 0.42270671 0.46112363\n",
      " 0.38295507 0.51554714 0.61055668 0.53880809 0.54804674 0.43666405\n",
      " 0.51826916 0.51700945 0.46007271 0.47419708 0.3820534  0.48709964\n",
      " 0.52795788 0.45976571 0.48902517 0.42739447 0.5001963  0.52659841\n",
      " 0.44696677 0.46790395 0.40539864 0.54093081 0.58018289 0.65958022\n",
      " 0.64115783 0.45816188 0.53527023 0.51183142 0.45021    0.46285737\n",
      " 0.3988681  0.53417755 0.4835788  0.48490965 0.47589669 0.47339702\n",
      " 0.47092283 0.46849954 0.46616507 0.46392754 0.4617936  0.45975739\n",
      " 0.45780694 0.45594269 0.45415777 0.45244968 0.45081589 0.44924825\n",
      " 0.44774461 0.44630203 0.44491318 0.44357198 0.44227299 0.44101948\n",
      " 0.43980214 0.43861556 0.43745223 0.43629807 0.43516904 0.43412113\n",
      " 0.43311989 0.43216091 0.43122959 0.43033093]\n",
      "30 day output [[0.4294612]]\n",
      "31 day input [0.39674152 0.48656761 0.53160168 0.51982428 0.54581499 0.38115869\n",
      " 0.49351033 0.49750134 0.45435491 0.47225919 0.37467919 0.65647154\n",
      " 0.4958573  0.46929821 0.55869126 0.48816371 0.60535854 0.60094221\n",
      " 0.51807352 0.54702289 0.41101746 0.51001416 0.48931516 0.45919501\n",
      " 0.5028642  0.40577756 0.54067639 0.50694646 0.50398162 0.48761698\n",
      " 0.36675824 0.48366773 0.47927846 0.42270671 0.46112363 0.38295507\n",
      " 0.51554714 0.61055668 0.53880809 0.54804674 0.43666405 0.51826916\n",
      " 0.51700945 0.46007271 0.47419708 0.3820534  0.48709964 0.52795788\n",
      " 0.45976571 0.48902517 0.42739447 0.5001963  0.52659841 0.44696677\n",
      " 0.46790395 0.40539864 0.54093081 0.58018289 0.65958022 0.64115783\n",
      " 0.45816188 0.53527023 0.51183142 0.45021    0.46285737 0.3988681\n",
      " 0.53417755 0.4835788  0.48490965 0.47589669 0.47339702 0.47092283\n",
      " 0.46849954 0.46616507 0.46392754 0.4617936  0.45975739 0.45780694\n",
      " 0.45594269 0.45415777 0.45244968 0.45081589 0.44924825 0.44774461\n",
      " 0.44630203 0.44491318 0.44357198 0.44227299 0.44101948 0.43980214\n",
      " 0.43861556 0.43745223 0.43629807 0.43516904 0.43412113 0.43311989\n",
      " 0.43216091 0.43122959 0.43033093 0.42946121]\n",
      "31 day output [[0.42861706]]\n",
      "32 day input [0.48656761 0.53160168 0.51982428 0.54581499 0.38115869 0.49351033\n",
      " 0.49750134 0.45435491 0.47225919 0.37467919 0.65647154 0.4958573\n",
      " 0.46929821 0.55869126 0.48816371 0.60535854 0.60094221 0.51807352\n",
      " 0.54702289 0.41101746 0.51001416 0.48931516 0.45919501 0.5028642\n",
      " 0.40577756 0.54067639 0.50694646 0.50398162 0.48761698 0.36675824\n",
      " 0.48366773 0.47927846 0.42270671 0.46112363 0.38295507 0.51554714\n",
      " 0.61055668 0.53880809 0.54804674 0.43666405 0.51826916 0.51700945\n",
      " 0.46007271 0.47419708 0.3820534  0.48709964 0.52795788 0.45976571\n",
      " 0.48902517 0.42739447 0.5001963  0.52659841 0.44696677 0.46790395\n",
      " 0.40539864 0.54093081 0.58018289 0.65958022 0.64115783 0.45816188\n",
      " 0.53527023 0.51183142 0.45021    0.46285737 0.3988681  0.53417755\n",
      " 0.4835788  0.48490965 0.47589669 0.47339702 0.47092283 0.46849954\n",
      " 0.46616507 0.46392754 0.4617936  0.45975739 0.45780694 0.45594269\n",
      " 0.45415777 0.45244968 0.45081589 0.44924825 0.44774461 0.44630203\n",
      " 0.44491318 0.44357198 0.44227299 0.44101948 0.43980214 0.43861556\n",
      " 0.43745223 0.43629807 0.43516904 0.43412113 0.43311989 0.43216091\n",
      " 0.43122959 0.43033093 0.42946121 0.42861706]\n",
      "32 day output [[0.42779553]]\n",
      "33 day input [0.53160168 0.51982428 0.54581499 0.38115869 0.49351033 0.49750134\n",
      " 0.45435491 0.47225919 0.37467919 0.65647154 0.4958573  0.46929821\n",
      " 0.55869126 0.48816371 0.60535854 0.60094221 0.51807352 0.54702289\n",
      " 0.41101746 0.51001416 0.48931516 0.45919501 0.5028642  0.40577756\n",
      " 0.54067639 0.50694646 0.50398162 0.48761698 0.36675824 0.48366773\n",
      " 0.47927846 0.42270671 0.46112363 0.38295507 0.51554714 0.61055668\n",
      " 0.53880809 0.54804674 0.43666405 0.51826916 0.51700945 0.46007271\n",
      " 0.47419708 0.3820534  0.48709964 0.52795788 0.45976571 0.48902517\n",
      " 0.42739447 0.5001963  0.52659841 0.44696677 0.46790395 0.40539864\n",
      " 0.54093081 0.58018289 0.65958022 0.64115783 0.45816188 0.53527023\n",
      " 0.51183142 0.45021    0.46285737 0.3988681  0.53417755 0.4835788\n",
      " 0.48490965 0.47589669 0.47339702 0.47092283 0.46849954 0.46616507\n",
      " 0.46392754 0.4617936  0.45975739 0.45780694 0.45594269 0.45415777\n",
      " 0.45244968 0.45081589 0.44924825 0.44774461 0.44630203 0.44491318\n",
      " 0.44357198 0.44227299 0.44101948 0.43980214 0.43861556 0.43745223\n",
      " 0.43629807 0.43516904 0.43412113 0.43311989 0.43216091 0.43122959\n",
      " 0.43033093 0.42946121 0.42861706 0.42779553]\n",
      "33 day output [[0.42699]]\n",
      "34 day input [0.51982428 0.54581499 0.38115869 0.49351033 0.49750134 0.45435491\n",
      " 0.47225919 0.37467919 0.65647154 0.4958573  0.46929821 0.55869126\n",
      " 0.48816371 0.60535854 0.60094221 0.51807352 0.54702289 0.41101746\n",
      " 0.51001416 0.48931516 0.45919501 0.5028642  0.40577756 0.54067639\n",
      " 0.50694646 0.50398162 0.48761698 0.36675824 0.48366773 0.47927846\n",
      " 0.42270671 0.46112363 0.38295507 0.51554714 0.61055668 0.53880809\n",
      " 0.54804674 0.43666405 0.51826916 0.51700945 0.46007271 0.47419708\n",
      " 0.3820534  0.48709964 0.52795788 0.45976571 0.48902517 0.42739447\n",
      " 0.5001963  0.52659841 0.44696677 0.46790395 0.40539864 0.54093081\n",
      " 0.58018289 0.65958022 0.64115783 0.45816188 0.53527023 0.51183142\n",
      " 0.45021    0.46285737 0.3988681  0.53417755 0.4835788  0.48490965\n",
      " 0.47589669 0.47339702 0.47092283 0.46849954 0.46616507 0.46392754\n",
      " 0.4617936  0.45975739 0.45780694 0.45594269 0.45415777 0.45244968\n",
      " 0.45081589 0.44924825 0.44774461 0.44630203 0.44491318 0.44357198\n",
      " 0.44227299 0.44101948 0.43980214 0.43861556 0.43745223 0.43629807\n",
      " 0.43516904 0.43412113 0.43311989 0.43216091 0.43122959 0.43033093\n",
      " 0.42946121 0.42861706 0.42779553 0.42699   ]\n",
      "34 day output [[0.42620996]]\n",
      "35 day input [0.54581499 0.38115869 0.49351033 0.49750134 0.45435491 0.47225919\n",
      " 0.37467919 0.65647154 0.4958573  0.46929821 0.55869126 0.48816371\n",
      " 0.60535854 0.60094221 0.51807352 0.54702289 0.41101746 0.51001416\n",
      " 0.48931516 0.45919501 0.5028642  0.40577756 0.54067639 0.50694646\n",
      " 0.50398162 0.48761698 0.36675824 0.48366773 0.47927846 0.42270671\n",
      " 0.46112363 0.38295507 0.51554714 0.61055668 0.53880809 0.54804674\n",
      " 0.43666405 0.51826916 0.51700945 0.46007271 0.47419708 0.3820534\n",
      " 0.48709964 0.52795788 0.45976571 0.48902517 0.42739447 0.5001963\n",
      " 0.52659841 0.44696677 0.46790395 0.40539864 0.54093081 0.58018289\n",
      " 0.65958022 0.64115783 0.45816188 0.53527023 0.51183142 0.45021\n",
      " 0.46285737 0.3988681  0.53417755 0.4835788  0.48490965 0.47589669\n",
      " 0.47339702 0.47092283 0.46849954 0.46616507 0.46392754 0.4617936\n",
      " 0.45975739 0.45780694 0.45594269 0.45415777 0.45244968 0.45081589\n",
      " 0.44924825 0.44774461 0.44630203 0.44491318 0.44357198 0.44227299\n",
      " 0.44101948 0.43980214 0.43861556 0.43745223 0.43629807 0.43516904\n",
      " 0.43412113 0.43311989 0.43216091 0.43122959 0.43033093 0.42946121\n",
      " 0.42861706 0.42779553 0.42699    0.42620996]\n",
      "35 day output [[0.42546004]]\n",
      "36 day input [0.38115869 0.49351033 0.49750134 0.45435491 0.47225919 0.37467919\n",
      " 0.65647154 0.4958573  0.46929821 0.55869126 0.48816371 0.60535854\n",
      " 0.60094221 0.51807352 0.54702289 0.41101746 0.51001416 0.48931516\n",
      " 0.45919501 0.5028642  0.40577756 0.54067639 0.50694646 0.50398162\n",
      " 0.48761698 0.36675824 0.48366773 0.47927846 0.42270671 0.46112363\n",
      " 0.38295507 0.51554714 0.61055668 0.53880809 0.54804674 0.43666405\n",
      " 0.51826916 0.51700945 0.46007271 0.47419708 0.3820534  0.48709964\n",
      " 0.52795788 0.45976571 0.48902517 0.42739447 0.5001963  0.52659841\n",
      " 0.44696677 0.46790395 0.40539864 0.54093081 0.58018289 0.65958022\n",
      " 0.64115783 0.45816188 0.53527023 0.51183142 0.45021    0.46285737\n",
      " 0.3988681  0.53417755 0.4835788  0.48490965 0.47589669 0.47339702\n",
      " 0.47092283 0.46849954 0.46616507 0.46392754 0.4617936  0.45975739\n",
      " 0.45780694 0.45594269 0.45415777 0.45244968 0.45081589 0.44924825\n",
      " 0.44774461 0.44630203 0.44491318 0.44357198 0.44227299 0.44101948\n",
      " 0.43980214 0.43861556 0.43745223 0.43629807 0.43516904 0.43412113\n",
      " 0.43311989 0.43216091 0.43122959 0.43033093 0.42946121 0.42861706\n",
      " 0.42779553 0.42699    0.42620996 0.42546004]\n",
      "36 day output [[0.4247413]]\n",
      "37 day input [0.49351033 0.49750134 0.45435491 0.47225919 0.37467919 0.65647154\n",
      " 0.4958573  0.46929821 0.55869126 0.48816371 0.60535854 0.60094221\n",
      " 0.51807352 0.54702289 0.41101746 0.51001416 0.48931516 0.45919501\n",
      " 0.5028642  0.40577756 0.54067639 0.50694646 0.50398162 0.48761698\n",
      " 0.36675824 0.48366773 0.47927846 0.42270671 0.46112363 0.38295507\n",
      " 0.51554714 0.61055668 0.53880809 0.54804674 0.43666405 0.51826916\n",
      " 0.51700945 0.46007271 0.47419708 0.3820534  0.48709964 0.52795788\n",
      " 0.45976571 0.48902517 0.42739447 0.5001963  0.52659841 0.44696677\n",
      " 0.46790395 0.40539864 0.54093081 0.58018289 0.65958022 0.64115783\n",
      " 0.45816188 0.53527023 0.51183142 0.45021    0.46285737 0.3988681\n",
      " 0.53417755 0.4835788  0.48490965 0.47589669 0.47339702 0.47092283\n",
      " 0.46849954 0.46616507 0.46392754 0.4617936  0.45975739 0.45780694\n",
      " 0.45594269 0.45415777 0.45244968 0.45081589 0.44924825 0.44774461\n",
      " 0.44630203 0.44491318 0.44357198 0.44227299 0.44101948 0.43980214\n",
      " 0.43861556 0.43745223 0.43629807 0.43516904 0.43412113 0.43311989\n",
      " 0.43216091 0.43122959 0.43033093 0.42946121 0.42861706 0.42779553\n",
      " 0.42699    0.42620996 0.42546004 0.4247413 ]\n",
      "37 day output [[0.42404732]]\n",
      "38 day input [0.49750134 0.45435491 0.47225919 0.37467919 0.65647154 0.4958573\n",
      " 0.46929821 0.55869126 0.48816371 0.60535854 0.60094221 0.51807352\n",
      " 0.54702289 0.41101746 0.51001416 0.48931516 0.45919501 0.5028642\n",
      " 0.40577756 0.54067639 0.50694646 0.50398162 0.48761698 0.36675824\n",
      " 0.48366773 0.47927846 0.42270671 0.46112363 0.38295507 0.51554714\n",
      " 0.61055668 0.53880809 0.54804674 0.43666405 0.51826916 0.51700945\n",
      " 0.46007271 0.47419708 0.3820534  0.48709964 0.52795788 0.45976571\n",
      " 0.48902517 0.42739447 0.5001963  0.52659841 0.44696677 0.46790395\n",
      " 0.40539864 0.54093081 0.58018289 0.65958022 0.64115783 0.45816188\n",
      " 0.53527023 0.51183142 0.45021    0.46285737 0.3988681  0.53417755\n",
      " 0.4835788  0.48490965 0.47589669 0.47339702 0.47092283 0.46849954\n",
      " 0.46616507 0.46392754 0.4617936  0.45975739 0.45780694 0.45594269\n",
      " 0.45415777 0.45244968 0.45081589 0.44924825 0.44774461 0.44630203\n",
      " 0.44491318 0.44357198 0.44227299 0.44101948 0.43980214 0.43861556\n",
      " 0.43745223 0.43629807 0.43516904 0.43412113 0.43311989 0.43216091\n",
      " 0.43122959 0.43033093 0.42946121 0.42861706 0.42779553 0.42699\n",
      " 0.42620996 0.42546004 0.4247413  0.42404732]\n",
      "38 day output [[0.42336577]]\n",
      "39 day input [0.45435491 0.47225919 0.37467919 0.65647154 0.4958573  0.46929821\n",
      " 0.55869126 0.48816371 0.60535854 0.60094221 0.51807352 0.54702289\n",
      " 0.41101746 0.51001416 0.48931516 0.45919501 0.5028642  0.40577756\n",
      " 0.54067639 0.50694646 0.50398162 0.48761698 0.36675824 0.48366773\n",
      " 0.47927846 0.42270671 0.46112363 0.38295507 0.51554714 0.61055668\n",
      " 0.53880809 0.54804674 0.43666405 0.51826916 0.51700945 0.46007271\n",
      " 0.47419708 0.3820534  0.48709964 0.52795788 0.45976571 0.48902517\n",
      " 0.42739447 0.5001963  0.52659841 0.44696677 0.46790395 0.40539864\n",
      " 0.54093081 0.58018289 0.65958022 0.64115783 0.45816188 0.53527023\n",
      " 0.51183142 0.45021    0.46285737 0.3988681  0.53417755 0.4835788\n",
      " 0.48490965 0.47589669 0.47339702 0.47092283 0.46849954 0.46616507\n",
      " 0.46392754 0.4617936  0.45975739 0.45780694 0.45594269 0.45415777\n",
      " 0.45244968 0.45081589 0.44924825 0.44774461 0.44630203 0.44491318\n",
      " 0.44357198 0.44227299 0.44101948 0.43980214 0.43861556 0.43745223\n",
      " 0.43629807 0.43516904 0.43412113 0.43311989 0.43216091 0.43122959\n",
      " 0.43033093 0.42946121 0.42861706 0.42779553 0.42699    0.42620996\n",
      " 0.42546004 0.4247413  0.42404732 0.42336577]\n",
      "39 day output [[0.42270637]]\n",
      "40 day input [0.47225919 0.37467919 0.65647154 0.4958573  0.46929821 0.55869126\n",
      " 0.48816371 0.60535854 0.60094221 0.51807352 0.54702289 0.41101746\n",
      " 0.51001416 0.48931516 0.45919501 0.5028642  0.40577756 0.54067639\n",
      " 0.50694646 0.50398162 0.48761698 0.36675824 0.48366773 0.47927846\n",
      " 0.42270671 0.46112363 0.38295507 0.51554714 0.61055668 0.53880809\n",
      " 0.54804674 0.43666405 0.51826916 0.51700945 0.46007271 0.47419708\n",
      " 0.3820534  0.48709964 0.52795788 0.45976571 0.48902517 0.42739447\n",
      " 0.5001963  0.52659841 0.44696677 0.46790395 0.40539864 0.54093081\n",
      " 0.58018289 0.65958022 0.64115783 0.45816188 0.53527023 0.51183142\n",
      " 0.45021    0.46285737 0.3988681  0.53417755 0.4835788  0.48490965\n",
      " 0.47589669 0.47339702 0.47092283 0.46849954 0.46616507 0.46392754\n",
      " 0.4617936  0.45975739 0.45780694 0.45594269 0.45415777 0.45244968\n",
      " 0.45081589 0.44924825 0.44774461 0.44630203 0.44491318 0.44357198\n",
      " 0.44227299 0.44101948 0.43980214 0.43861556 0.43745223 0.43629807\n",
      " 0.43516904 0.43412113 0.43311989 0.43216091 0.43122959 0.43033093\n",
      " 0.42946121 0.42861706 0.42779553 0.42699    0.42620996 0.42546004\n",
      " 0.4247413  0.42404732 0.42336577 0.42270637]\n",
      "40 day output [[0.42206603]]\n",
      "41 day input [0.37467919 0.65647154 0.4958573  0.46929821 0.55869126 0.48816371\n",
      " 0.60535854 0.60094221 0.51807352 0.54702289 0.41101746 0.51001416\n",
      " 0.48931516 0.45919501 0.5028642  0.40577756 0.54067639 0.50694646\n",
      " 0.50398162 0.48761698 0.36675824 0.48366773 0.47927846 0.42270671\n",
      " 0.46112363 0.38295507 0.51554714 0.61055668 0.53880809 0.54804674\n",
      " 0.43666405 0.51826916 0.51700945 0.46007271 0.47419708 0.3820534\n",
      " 0.48709964 0.52795788 0.45976571 0.48902517 0.42739447 0.5001963\n",
      " 0.52659841 0.44696677 0.46790395 0.40539864 0.54093081 0.58018289\n",
      " 0.65958022 0.64115783 0.45816188 0.53527023 0.51183142 0.45021\n",
      " 0.46285737 0.3988681  0.53417755 0.4835788  0.48490965 0.47589669\n",
      " 0.47339702 0.47092283 0.46849954 0.46616507 0.46392754 0.4617936\n",
      " 0.45975739 0.45780694 0.45594269 0.45415777 0.45244968 0.45081589\n",
      " 0.44924825 0.44774461 0.44630203 0.44491318 0.44357198 0.44227299\n",
      " 0.44101948 0.43980214 0.43861556 0.43745223 0.43629807 0.43516904\n",
      " 0.43412113 0.43311989 0.43216091 0.43122959 0.43033093 0.42946121\n",
      " 0.42861706 0.42779553 0.42699    0.42620996 0.42546004 0.4247413\n",
      " 0.42404732 0.42336577 0.42270637 0.42206603]\n",
      "41 day output [[0.42143905]]\n",
      "42 day input [0.65647154 0.4958573  0.46929821 0.55869126 0.48816371 0.60535854\n",
      " 0.60094221 0.51807352 0.54702289 0.41101746 0.51001416 0.48931516\n",
      " 0.45919501 0.5028642  0.40577756 0.54067639 0.50694646 0.50398162\n",
      " 0.48761698 0.36675824 0.48366773 0.47927846 0.42270671 0.46112363\n",
      " 0.38295507 0.51554714 0.61055668 0.53880809 0.54804674 0.43666405\n",
      " 0.51826916 0.51700945 0.46007271 0.47419708 0.3820534  0.48709964\n",
      " 0.52795788 0.45976571 0.48902517 0.42739447 0.5001963  0.52659841\n",
      " 0.44696677 0.46790395 0.40539864 0.54093081 0.58018289 0.65958022\n",
      " 0.64115783 0.45816188 0.53527023 0.51183142 0.45021    0.46285737\n",
      " 0.3988681  0.53417755 0.4835788  0.48490965 0.47589669 0.47339702\n",
      " 0.47092283 0.46849954 0.46616507 0.46392754 0.4617936  0.45975739\n",
      " 0.45780694 0.45594269 0.45415777 0.45244968 0.45081589 0.44924825\n",
      " 0.44774461 0.44630203 0.44491318 0.44357198 0.44227299 0.44101948\n",
      " 0.43980214 0.43861556 0.43745223 0.43629807 0.43516904 0.43412113\n",
      " 0.43311989 0.43216091 0.43122959 0.43033093 0.42946121 0.42861706\n",
      " 0.42779553 0.42699    0.42620996 0.42546004 0.4247413  0.42404732\n",
      " 0.42336577 0.42270637 0.42206603 0.42143905]\n",
      "42 day output [[0.420819]]\n",
      "43 day input [0.4958573  0.46929821 0.55869126 0.48816371 0.60535854 0.60094221\n",
      " 0.51807352 0.54702289 0.41101746 0.51001416 0.48931516 0.45919501\n",
      " 0.5028642  0.40577756 0.54067639 0.50694646 0.50398162 0.48761698\n",
      " 0.36675824 0.48366773 0.47927846 0.42270671 0.46112363 0.38295507\n",
      " 0.51554714 0.61055668 0.53880809 0.54804674 0.43666405 0.51826916\n",
      " 0.51700945 0.46007271 0.47419708 0.3820534  0.48709964 0.52795788\n",
      " 0.45976571 0.48902517 0.42739447 0.5001963  0.52659841 0.44696677\n",
      " 0.46790395 0.40539864 0.54093081 0.58018289 0.65958022 0.64115783\n",
      " 0.45816188 0.53527023 0.51183142 0.45021    0.46285737 0.3988681\n",
      " 0.53417755 0.4835788  0.48490965 0.47589669 0.47339702 0.47092283\n",
      " 0.46849954 0.46616507 0.46392754 0.4617936  0.45975739 0.45780694\n",
      " 0.45594269 0.45415777 0.45244968 0.45081589 0.44924825 0.44774461\n",
      " 0.44630203 0.44491318 0.44357198 0.44227299 0.44101948 0.43980214\n",
      " 0.43861556 0.43745223 0.43629807 0.43516904 0.43412113 0.43311989\n",
      " 0.43216091 0.43122959 0.43033093 0.42946121 0.42861706 0.42779553\n",
      " 0.42699    0.42620996 0.42546004 0.4247413  0.42404732 0.42336577\n",
      " 0.42270637 0.42206603 0.42143905 0.42081901]\n",
      "43 day output [[0.42020324]]\n",
      "44 day input [0.46929821 0.55869126 0.48816371 0.60535854 0.60094221 0.51807352\n",
      " 0.54702289 0.41101746 0.51001416 0.48931516 0.45919501 0.5028642\n",
      " 0.40577756 0.54067639 0.50694646 0.50398162 0.48761698 0.36675824\n",
      " 0.48366773 0.47927846 0.42270671 0.46112363 0.38295507 0.51554714\n",
      " 0.61055668 0.53880809 0.54804674 0.43666405 0.51826916 0.51700945\n",
      " 0.46007271 0.47419708 0.3820534  0.48709964 0.52795788 0.45976571\n",
      " 0.48902517 0.42739447 0.5001963  0.52659841 0.44696677 0.46790395\n",
      " 0.40539864 0.54093081 0.58018289 0.65958022 0.64115783 0.45816188\n",
      " 0.53527023 0.51183142 0.45021    0.46285737 0.3988681  0.53417755\n",
      " 0.4835788  0.48490965 0.47589669 0.47339702 0.47092283 0.46849954\n",
      " 0.46616507 0.46392754 0.4617936  0.45975739 0.45780694 0.45594269\n",
      " 0.45415777 0.45244968 0.45081589 0.44924825 0.44774461 0.44630203\n",
      " 0.44491318 0.44357198 0.44227299 0.44101948 0.43980214 0.43861556\n",
      " 0.43745223 0.43629807 0.43516904 0.43412113 0.43311989 0.43216091\n",
      " 0.43122959 0.43033093 0.42946121 0.42861706 0.42779553 0.42699\n",
      " 0.42620996 0.42546004 0.4247413  0.42404732 0.42336577 0.42270637\n",
      " 0.42206603 0.42143905 0.42081901 0.42020324]\n",
      "44 day output [[0.419617]]\n",
      "45 day input [0.55869126 0.48816371 0.60535854 0.60094221 0.51807352 0.54702289\n",
      " 0.41101746 0.51001416 0.48931516 0.45919501 0.5028642  0.40577756\n",
      " 0.54067639 0.50694646 0.50398162 0.48761698 0.36675824 0.48366773\n",
      " 0.47927846 0.42270671 0.46112363 0.38295507 0.51554714 0.61055668\n",
      " 0.53880809 0.54804674 0.43666405 0.51826916 0.51700945 0.46007271\n",
      " 0.47419708 0.3820534  0.48709964 0.52795788 0.45976571 0.48902517\n",
      " 0.42739447 0.5001963  0.52659841 0.44696677 0.46790395 0.40539864\n",
      " 0.54093081 0.58018289 0.65958022 0.64115783 0.45816188 0.53527023\n",
      " 0.51183142 0.45021    0.46285737 0.3988681  0.53417755 0.4835788\n",
      " 0.48490965 0.47589669 0.47339702 0.47092283 0.46849954 0.46616507\n",
      " 0.46392754 0.4617936  0.45975739 0.45780694 0.45594269 0.45415777\n",
      " 0.45244968 0.45081589 0.44924825 0.44774461 0.44630203 0.44491318\n",
      " 0.44357198 0.44227299 0.44101948 0.43980214 0.43861556 0.43745223\n",
      " 0.43629807 0.43516904 0.43412113 0.43311989 0.43216091 0.43122959\n",
      " 0.43033093 0.42946121 0.42861706 0.42779553 0.42699    0.42620996\n",
      " 0.42546004 0.4247413  0.42404732 0.42336577 0.42270637 0.42206603\n",
      " 0.42143905 0.42081901 0.42020324 0.419617  ]\n",
      "45 day output [[0.41903982]]\n",
      "46 day input [0.48816371 0.60535854 0.60094221 0.51807352 0.54702289 0.41101746\n",
      " 0.51001416 0.48931516 0.45919501 0.5028642  0.40577756 0.54067639\n",
      " 0.50694646 0.50398162 0.48761698 0.36675824 0.48366773 0.47927846\n",
      " 0.42270671 0.46112363 0.38295507 0.51554714 0.61055668 0.53880809\n",
      " 0.54804674 0.43666405 0.51826916 0.51700945 0.46007271 0.47419708\n",
      " 0.3820534  0.48709964 0.52795788 0.45976571 0.48902517 0.42739447\n",
      " 0.5001963  0.52659841 0.44696677 0.46790395 0.40539864 0.54093081\n",
      " 0.58018289 0.65958022 0.64115783 0.45816188 0.53527023 0.51183142\n",
      " 0.45021    0.46285737 0.3988681  0.53417755 0.4835788  0.48490965\n",
      " 0.47589669 0.47339702 0.47092283 0.46849954 0.46616507 0.46392754\n",
      " 0.4617936  0.45975739 0.45780694 0.45594269 0.45415777 0.45244968\n",
      " 0.45081589 0.44924825 0.44774461 0.44630203 0.44491318 0.44357198\n",
      " 0.44227299 0.44101948 0.43980214 0.43861556 0.43745223 0.43629807\n",
      " 0.43516904 0.43412113 0.43311989 0.43216091 0.43122959 0.43033093\n",
      " 0.42946121 0.42861706 0.42779553 0.42699    0.42620996 0.42546004\n",
      " 0.4247413  0.42404732 0.42336577 0.42270637 0.42206603 0.42143905\n",
      " 0.42081901 0.42020324 0.419617   0.41903982]\n",
      "46 day output [[0.4184705]]\n",
      "47 day input [0.60535854 0.60094221 0.51807352 0.54702289 0.41101746 0.51001416\n",
      " 0.48931516 0.45919501 0.5028642  0.40577756 0.54067639 0.50694646\n",
      " 0.50398162 0.48761698 0.36675824 0.48366773 0.47927846 0.42270671\n",
      " 0.46112363 0.38295507 0.51554714 0.61055668 0.53880809 0.54804674\n",
      " 0.43666405 0.51826916 0.51700945 0.46007271 0.47419708 0.3820534\n",
      " 0.48709964 0.52795788 0.45976571 0.48902517 0.42739447 0.5001963\n",
      " 0.52659841 0.44696677 0.46790395 0.40539864 0.54093081 0.58018289\n",
      " 0.65958022 0.64115783 0.45816188 0.53527023 0.51183142 0.45021\n",
      " 0.46285737 0.3988681  0.53417755 0.4835788  0.48490965 0.47589669\n",
      " 0.47339702 0.47092283 0.46849954 0.46616507 0.46392754 0.4617936\n",
      " 0.45975739 0.45780694 0.45594269 0.45415777 0.45244968 0.45081589\n",
      " 0.44924825 0.44774461 0.44630203 0.44491318 0.44357198 0.44227299\n",
      " 0.44101948 0.43980214 0.43861556 0.43745223 0.43629807 0.43516904\n",
      " 0.43412113 0.43311989 0.43216091 0.43122959 0.43033093 0.42946121\n",
      " 0.42861706 0.42779553 0.42699    0.42620996 0.42546004 0.4247413\n",
      " 0.42404732 0.42336577 0.42270637 0.42206603 0.42143905 0.42081901\n",
      " 0.42020324 0.419617   0.41903982 0.4184705 ]\n",
      "47 day output [[0.41791502]]\n",
      "48 day input [0.60094221 0.51807352 0.54702289 0.41101746 0.51001416 0.48931516\n",
      " 0.45919501 0.5028642  0.40577756 0.54067639 0.50694646 0.50398162\n",
      " 0.48761698 0.36675824 0.48366773 0.47927846 0.42270671 0.46112363\n",
      " 0.38295507 0.51554714 0.61055668 0.53880809 0.54804674 0.43666405\n",
      " 0.51826916 0.51700945 0.46007271 0.47419708 0.3820534  0.48709964\n",
      " 0.52795788 0.45976571 0.48902517 0.42739447 0.5001963  0.52659841\n",
      " 0.44696677 0.46790395 0.40539864 0.54093081 0.58018289 0.65958022\n",
      " 0.64115783 0.45816188 0.53527023 0.51183142 0.45021    0.46285737\n",
      " 0.3988681  0.53417755 0.4835788  0.48490965 0.47589669 0.47339702\n",
      " 0.47092283 0.46849954 0.46616507 0.46392754 0.4617936  0.45975739\n",
      " 0.45780694 0.45594269 0.45415777 0.45244968 0.45081589 0.44924825\n",
      " 0.44774461 0.44630203 0.44491318 0.44357198 0.44227299 0.44101948\n",
      " 0.43980214 0.43861556 0.43745223 0.43629807 0.43516904 0.43412113\n",
      " 0.43311989 0.43216091 0.43122959 0.43033093 0.42946121 0.42861706\n",
      " 0.42779553 0.42699    0.42620996 0.42546004 0.4247413  0.42404732\n",
      " 0.42336577 0.42270637 0.42206603 0.42143905 0.42081901 0.42020324\n",
      " 0.419617   0.41903982 0.4184705  0.41791502]\n",
      "48 day output [[0.4173695]]\n",
      "49 day input [0.51807352 0.54702289 0.41101746 0.51001416 0.48931516 0.45919501\n",
      " 0.5028642  0.40577756 0.54067639 0.50694646 0.50398162 0.48761698\n",
      " 0.36675824 0.48366773 0.47927846 0.42270671 0.46112363 0.38295507\n",
      " 0.51554714 0.61055668 0.53880809 0.54804674 0.43666405 0.51826916\n",
      " 0.51700945 0.46007271 0.47419708 0.3820534  0.48709964 0.52795788\n",
      " 0.45976571 0.48902517 0.42739447 0.5001963  0.52659841 0.44696677\n",
      " 0.46790395 0.40539864 0.54093081 0.58018289 0.65958022 0.64115783\n",
      " 0.45816188 0.53527023 0.51183142 0.45021    0.46285737 0.3988681\n",
      " 0.53417755 0.4835788  0.48490965 0.47589669 0.47339702 0.47092283\n",
      " 0.46849954 0.46616507 0.46392754 0.4617936  0.45975739 0.45780694\n",
      " 0.45594269 0.45415777 0.45244968 0.45081589 0.44924825 0.44774461\n",
      " 0.44630203 0.44491318 0.44357198 0.44227299 0.44101948 0.43980214\n",
      " 0.43861556 0.43745223 0.43629807 0.43516904 0.43412113 0.43311989\n",
      " 0.43216091 0.43122959 0.43033093 0.42946121 0.42861706 0.42779553\n",
      " 0.42699    0.42620996 0.42546004 0.4247413  0.42404732 0.42336577\n",
      " 0.42270637 0.42206603 0.42143905 0.42081901 0.42020324 0.419617\n",
      " 0.41903982 0.4184705  0.41791502 0.41736951]\n",
      "49 day output [[0.4168505]]\n",
      "50 day input [0.54702289 0.41101746 0.51001416 0.48931516 0.45919501 0.5028642\n",
      " 0.40577756 0.54067639 0.50694646 0.50398162 0.48761698 0.36675824\n",
      " 0.48366773 0.47927846 0.42270671 0.46112363 0.38295507 0.51554714\n",
      " 0.61055668 0.53880809 0.54804674 0.43666405 0.51826916 0.51700945\n",
      " 0.46007271 0.47419708 0.3820534  0.48709964 0.52795788 0.45976571\n",
      " 0.48902517 0.42739447 0.5001963  0.52659841 0.44696677 0.46790395\n",
      " 0.40539864 0.54093081 0.58018289 0.65958022 0.64115783 0.45816188\n",
      " 0.53527023 0.51183142 0.45021    0.46285737 0.3988681  0.53417755\n",
      " 0.4835788  0.48490965 0.47589669 0.47339702 0.47092283 0.46849954\n",
      " 0.46616507 0.46392754 0.4617936  0.45975739 0.45780694 0.45594269\n",
      " 0.45415777 0.45244968 0.45081589 0.44924825 0.44774461 0.44630203\n",
      " 0.44491318 0.44357198 0.44227299 0.44101948 0.43980214 0.43861556\n",
      " 0.43745223 0.43629807 0.43516904 0.43412113 0.43311989 0.43216091\n",
      " 0.43122959 0.43033093 0.42946121 0.42861706 0.42779553 0.42699\n",
      " 0.42620996 0.42546004 0.4247413  0.42404732 0.42336577 0.42270637\n",
      " 0.42206603 0.42143905 0.42081901 0.42020324 0.419617   0.41903982\n",
      " 0.4184705  0.41791502 0.41736951 0.41685051]\n",
      "50 day output [[0.41635716]]\n",
      "51 day input [0.41101746 0.51001416 0.48931516 0.45919501 0.5028642  0.40577756\n",
      " 0.54067639 0.50694646 0.50398162 0.48761698 0.36675824 0.48366773\n",
      " 0.47927846 0.42270671 0.46112363 0.38295507 0.51554714 0.61055668\n",
      " 0.53880809 0.54804674 0.43666405 0.51826916 0.51700945 0.46007271\n",
      " 0.47419708 0.3820534  0.48709964 0.52795788 0.45976571 0.48902517\n",
      " 0.42739447 0.5001963  0.52659841 0.44696677 0.46790395 0.40539864\n",
      " 0.54093081 0.58018289 0.65958022 0.64115783 0.45816188 0.53527023\n",
      " 0.51183142 0.45021    0.46285737 0.3988681  0.53417755 0.4835788\n",
      " 0.48490965 0.47589669 0.47339702 0.47092283 0.46849954 0.46616507\n",
      " 0.46392754 0.4617936  0.45975739 0.45780694 0.45594269 0.45415777\n",
      " 0.45244968 0.45081589 0.44924825 0.44774461 0.44630203 0.44491318\n",
      " 0.44357198 0.44227299 0.44101948 0.43980214 0.43861556 0.43745223\n",
      " 0.43629807 0.43516904 0.43412113 0.43311989 0.43216091 0.43122959\n",
      " 0.43033093 0.42946121 0.42861706 0.42779553 0.42699    0.42620996\n",
      " 0.42546004 0.4247413  0.42404732 0.42336577 0.42270637 0.42206603\n",
      " 0.42143905 0.42081901 0.42020324 0.419617   0.41903982 0.4184705\n",
      " 0.41791502 0.41736951 0.41685051 0.41635716]\n",
      "51 day output [[0.41588366]]\n",
      "52 day input [0.51001416 0.48931516 0.45919501 0.5028642  0.40577756 0.54067639\n",
      " 0.50694646 0.50398162 0.48761698 0.36675824 0.48366773 0.47927846\n",
      " 0.42270671 0.46112363 0.38295507 0.51554714 0.61055668 0.53880809\n",
      " 0.54804674 0.43666405 0.51826916 0.51700945 0.46007271 0.47419708\n",
      " 0.3820534  0.48709964 0.52795788 0.45976571 0.48902517 0.42739447\n",
      " 0.5001963  0.52659841 0.44696677 0.46790395 0.40539864 0.54093081\n",
      " 0.58018289 0.65958022 0.64115783 0.45816188 0.53527023 0.51183142\n",
      " 0.45021    0.46285737 0.3988681  0.53417755 0.4835788  0.48490965\n",
      " 0.47589669 0.47339702 0.47092283 0.46849954 0.46616507 0.46392754\n",
      " 0.4617936  0.45975739 0.45780694 0.45594269 0.45415777 0.45244968\n",
      " 0.45081589 0.44924825 0.44774461 0.44630203 0.44491318 0.44357198\n",
      " 0.44227299 0.44101948 0.43980214 0.43861556 0.43745223 0.43629807\n",
      " 0.43516904 0.43412113 0.43311989 0.43216091 0.43122959 0.43033093\n",
      " 0.42946121 0.42861706 0.42779553 0.42699    0.42620996 0.42546004\n",
      " 0.4247413  0.42404732 0.42336577 0.42270637 0.42206603 0.42143905\n",
      " 0.42081901 0.42020324 0.419617   0.41903982 0.4184705  0.41791502\n",
      " 0.41736951 0.41685051 0.41635716 0.41588366]\n",
      "52 day output [[0.4154265]]\n",
      "53 day input [0.48931516 0.45919501 0.5028642  0.40577756 0.54067639 0.50694646\n",
      " 0.50398162 0.48761698 0.36675824 0.48366773 0.47927846 0.42270671\n",
      " 0.46112363 0.38295507 0.51554714 0.61055668 0.53880809 0.54804674\n",
      " 0.43666405 0.51826916 0.51700945 0.46007271 0.47419708 0.3820534\n",
      " 0.48709964 0.52795788 0.45976571 0.48902517 0.42739447 0.5001963\n",
      " 0.52659841 0.44696677 0.46790395 0.40539864 0.54093081 0.58018289\n",
      " 0.65958022 0.64115783 0.45816188 0.53527023 0.51183142 0.45021\n",
      " 0.46285737 0.3988681  0.53417755 0.4835788  0.48490965 0.47589669\n",
      " 0.47339702 0.47092283 0.46849954 0.46616507 0.46392754 0.4617936\n",
      " 0.45975739 0.45780694 0.45594269 0.45415777 0.45244968 0.45081589\n",
      " 0.44924825 0.44774461 0.44630203 0.44491318 0.44357198 0.44227299\n",
      " 0.44101948 0.43980214 0.43861556 0.43745223 0.43629807 0.43516904\n",
      " 0.43412113 0.43311989 0.43216091 0.43122959 0.43033093 0.42946121\n",
      " 0.42861706 0.42779553 0.42699    0.42620996 0.42546004 0.4247413\n",
      " 0.42404732 0.42336577 0.42270637 0.42206603 0.42143905 0.42081901\n",
      " 0.42020324 0.419617   0.41903982 0.4184705  0.41791502 0.41736951\n",
      " 0.41685051 0.41635716 0.41588366 0.41542649]\n",
      "53 day output [[0.41497645]]\n",
      "54 day input [0.45919501 0.5028642  0.40577756 0.54067639 0.50694646 0.50398162\n",
      " 0.48761698 0.36675824 0.48366773 0.47927846 0.42270671 0.46112363\n",
      " 0.38295507 0.51554714 0.61055668 0.53880809 0.54804674 0.43666405\n",
      " 0.51826916 0.51700945 0.46007271 0.47419708 0.3820534  0.48709964\n",
      " 0.52795788 0.45976571 0.48902517 0.42739447 0.5001963  0.52659841\n",
      " 0.44696677 0.46790395 0.40539864 0.54093081 0.58018289 0.65958022\n",
      " 0.64115783 0.45816188 0.53527023 0.51183142 0.45021    0.46285737\n",
      " 0.3988681  0.53417755 0.4835788  0.48490965 0.47589669 0.47339702\n",
      " 0.47092283 0.46849954 0.46616507 0.46392754 0.4617936  0.45975739\n",
      " 0.45780694 0.45594269 0.45415777 0.45244968 0.45081589 0.44924825\n",
      " 0.44774461 0.44630203 0.44491318 0.44357198 0.44227299 0.44101948\n",
      " 0.43980214 0.43861556 0.43745223 0.43629807 0.43516904 0.43412113\n",
      " 0.43311989 0.43216091 0.43122959 0.43033093 0.42946121 0.42861706\n",
      " 0.42779553 0.42699    0.42620996 0.42546004 0.4247413  0.42404732\n",
      " 0.42336577 0.42270637 0.42206603 0.42143905 0.42081901 0.42020324\n",
      " 0.419617   0.41903982 0.4184705  0.41791502 0.41736951 0.41685051\n",
      " 0.41635716 0.41588366 0.41542649 0.41497645]\n",
      "54 day output [[0.41454303]]\n",
      "55 day input [0.5028642  0.40577756 0.54067639 0.50694646 0.50398162 0.48761698\n",
      " 0.36675824 0.48366773 0.47927846 0.42270671 0.46112363 0.38295507\n",
      " 0.51554714 0.61055668 0.53880809 0.54804674 0.43666405 0.51826916\n",
      " 0.51700945 0.46007271 0.47419708 0.3820534  0.48709964 0.52795788\n",
      " 0.45976571 0.48902517 0.42739447 0.5001963  0.52659841 0.44696677\n",
      " 0.46790395 0.40539864 0.54093081 0.58018289 0.65958022 0.64115783\n",
      " 0.45816188 0.53527023 0.51183142 0.45021    0.46285737 0.3988681\n",
      " 0.53417755 0.4835788  0.48490965 0.47589669 0.47339702 0.47092283\n",
      " 0.46849954 0.46616507 0.46392754 0.4617936  0.45975739 0.45780694\n",
      " 0.45594269 0.45415777 0.45244968 0.45081589 0.44924825 0.44774461\n",
      " 0.44630203 0.44491318 0.44357198 0.44227299 0.44101948 0.43980214\n",
      " 0.43861556 0.43745223 0.43629807 0.43516904 0.43412113 0.43311989\n",
      " 0.43216091 0.43122959 0.43033093 0.42946121 0.42861706 0.42779553\n",
      " 0.42699    0.42620996 0.42546004 0.4247413  0.42404732 0.42336577\n",
      " 0.42270637 0.42206603 0.42143905 0.42081901 0.42020324 0.419617\n",
      " 0.41903982 0.4184705  0.41791502 0.41736951 0.41685051 0.41635716\n",
      " 0.41588366 0.41542649 0.41497645 0.41454303]\n",
      "55 day output [[0.4141223]]\n",
      "56 day input [0.40577756 0.54067639 0.50694646 0.50398162 0.48761698 0.36675824\n",
      " 0.48366773 0.47927846 0.42270671 0.46112363 0.38295507 0.51554714\n",
      " 0.61055668 0.53880809 0.54804674 0.43666405 0.51826916 0.51700945\n",
      " 0.46007271 0.47419708 0.3820534  0.48709964 0.52795788 0.45976571\n",
      " 0.48902517 0.42739447 0.5001963  0.52659841 0.44696677 0.46790395\n",
      " 0.40539864 0.54093081 0.58018289 0.65958022 0.64115783 0.45816188\n",
      " 0.53527023 0.51183142 0.45021    0.46285737 0.3988681  0.53417755\n",
      " 0.4835788  0.48490965 0.47589669 0.47339702 0.47092283 0.46849954\n",
      " 0.46616507 0.46392754 0.4617936  0.45975739 0.45780694 0.45594269\n",
      " 0.45415777 0.45244968 0.45081589 0.44924825 0.44774461 0.44630203\n",
      " 0.44491318 0.44357198 0.44227299 0.44101948 0.43980214 0.43861556\n",
      " 0.43745223 0.43629807 0.43516904 0.43412113 0.43311989 0.43216091\n",
      " 0.43122959 0.43033093 0.42946121 0.42861706 0.42779553 0.42699\n",
      " 0.42620996 0.42546004 0.4247413  0.42404732 0.42336577 0.42270637\n",
      " 0.42206603 0.42143905 0.42081901 0.42020324 0.419617   0.41903982\n",
      " 0.4184705  0.41791502 0.41736951 0.41685051 0.41635716 0.41588366\n",
      " 0.41542649 0.41497645 0.41454303 0.41412231]\n",
      "56 day output [[0.41371354]]\n",
      "57 day input [0.54067639 0.50694646 0.50398162 0.48761698 0.36675824 0.48366773\n",
      " 0.47927846 0.42270671 0.46112363 0.38295507 0.51554714 0.61055668\n",
      " 0.53880809 0.54804674 0.43666405 0.51826916 0.51700945 0.46007271\n",
      " 0.47419708 0.3820534  0.48709964 0.52795788 0.45976571 0.48902517\n",
      " 0.42739447 0.5001963  0.52659841 0.44696677 0.46790395 0.40539864\n",
      " 0.54093081 0.58018289 0.65958022 0.64115783 0.45816188 0.53527023\n",
      " 0.51183142 0.45021    0.46285737 0.3988681  0.53417755 0.4835788\n",
      " 0.48490965 0.47589669 0.47339702 0.47092283 0.46849954 0.46616507\n",
      " 0.46392754 0.4617936  0.45975739 0.45780694 0.45594269 0.45415777\n",
      " 0.45244968 0.45081589 0.44924825 0.44774461 0.44630203 0.44491318\n",
      " 0.44357198 0.44227299 0.44101948 0.43980214 0.43861556 0.43745223\n",
      " 0.43629807 0.43516904 0.43412113 0.43311989 0.43216091 0.43122959\n",
      " 0.43033093 0.42946121 0.42861706 0.42779553 0.42699    0.42620996\n",
      " 0.42546004 0.4247413  0.42404732 0.42336577 0.42270637 0.42206603\n",
      " 0.42143905 0.42081901 0.42020324 0.419617   0.41903982 0.4184705\n",
      " 0.41791502 0.41736951 0.41685051 0.41635716 0.41588366 0.41542649\n",
      " 0.41497645 0.41454303 0.41412231 0.41371354]\n",
      "57 day output [[0.41331547]]\n",
      "58 day input [0.50694646 0.50398162 0.48761698 0.36675824 0.48366773 0.47927846\n",
      " 0.42270671 0.46112363 0.38295507 0.51554714 0.61055668 0.53880809\n",
      " 0.54804674 0.43666405 0.51826916 0.51700945 0.46007271 0.47419708\n",
      " 0.3820534  0.48709964 0.52795788 0.45976571 0.48902517 0.42739447\n",
      " 0.5001963  0.52659841 0.44696677 0.46790395 0.40539864 0.54093081\n",
      " 0.58018289 0.65958022 0.64115783 0.45816188 0.53527023 0.51183142\n",
      " 0.45021    0.46285737 0.3988681  0.53417755 0.4835788  0.48490965\n",
      " 0.47589669 0.47339702 0.47092283 0.46849954 0.46616507 0.46392754\n",
      " 0.4617936  0.45975739 0.45780694 0.45594269 0.45415777 0.45244968\n",
      " 0.45081589 0.44924825 0.44774461 0.44630203 0.44491318 0.44357198\n",
      " 0.44227299 0.44101948 0.43980214 0.43861556 0.43745223 0.43629807\n",
      " 0.43516904 0.43412113 0.43311989 0.43216091 0.43122959 0.43033093\n",
      " 0.42946121 0.42861706 0.42779553 0.42699    0.42620996 0.42546004\n",
      " 0.4247413  0.42404732 0.42336577 0.42270637 0.42206603 0.42143905\n",
      " 0.42081901 0.42020324 0.419617   0.41903982 0.4184705  0.41791502\n",
      " 0.41736951 0.41685051 0.41635716 0.41588366 0.41542649 0.41497645\n",
      " 0.41454303 0.41412231 0.41371354 0.41331547]\n",
      "58 day output [[0.41292414]]\n",
      "59 day input [0.50398162 0.48761698 0.36675824 0.48366773 0.47927846 0.42270671\n",
      " 0.46112363 0.38295507 0.51554714 0.61055668 0.53880809 0.54804674\n",
      " 0.43666405 0.51826916 0.51700945 0.46007271 0.47419708 0.3820534\n",
      " 0.48709964 0.52795788 0.45976571 0.48902517 0.42739447 0.5001963\n",
      " 0.52659841 0.44696677 0.46790395 0.40539864 0.54093081 0.58018289\n",
      " 0.65958022 0.64115783 0.45816188 0.53527023 0.51183142 0.45021\n",
      " 0.46285737 0.3988681  0.53417755 0.4835788  0.48490965 0.47589669\n",
      " 0.47339702 0.47092283 0.46849954 0.46616507 0.46392754 0.4617936\n",
      " 0.45975739 0.45780694 0.45594269 0.45415777 0.45244968 0.45081589\n",
      " 0.44924825 0.44774461 0.44630203 0.44491318 0.44357198 0.44227299\n",
      " 0.44101948 0.43980214 0.43861556 0.43745223 0.43629807 0.43516904\n",
      " 0.43412113 0.43311989 0.43216091 0.43122959 0.43033093 0.42946121\n",
      " 0.42861706 0.42779553 0.42699    0.42620996 0.42546004 0.4247413\n",
      " 0.42404732 0.42336577 0.42270637 0.42206603 0.42143905 0.42081901\n",
      " 0.42020324 0.419617   0.41903982 0.4184705  0.41791502 0.41736951\n",
      " 0.41685051 0.41635716 0.41588366 0.41542649 0.41497645 0.41454303\n",
      " 0.41412231 0.41371354 0.41331547 0.41292414]\n",
      "59 day output [[0.41255364]]\n",
      "[[0.4758966863155365], [0.47339701652526855], [0.4709228277206421], [0.4684995412826538], [0.46616506576538086], [0.4639275372028351], [0.46179360151290894], [0.45975738763809204], [0.45780694484710693], [0.45594269037246704], [0.4541577696800232], [0.4524496793746948], [0.450815886259079], [0.4492482542991638], [0.44774460792541504], [0.44630202651023865], [0.44491317868232727], [0.4435719847679138], [0.44227299094200134], [0.4410194754600525], [0.4398021399974823], [0.4386155605316162], [0.4374522268772125], [0.43629807233810425], [0.4351690411567688], [0.43412113189697266], [0.43311989307403564], [0.4321609139442444], [0.4312295913696289], [0.43033093214035034], [0.42946121096611023], [0.42861706018447876], [0.42779552936553955], [0.42699000239372253], [0.426209956407547], [0.4254600405693054], [0.42474129796028137], [0.4240473210811615], [0.4233657717704773], [0.42270636558532715], [0.4220660328865051], [0.4214390516281128], [0.4208190143108368], [0.42020323872566223], [0.4196169972419739], [0.4190398156642914], [0.41847050189971924], [0.417915016412735], [0.4173695147037506], [0.4168505072593689], [0.416357159614563], [0.4158836603164673], [0.41542649269104004], [0.41497644782066345], [0.4145430326461792], [0.4141223132610321], [0.4137135446071625], [0.41331547498703003], [0.4129241406917572], [0.4125536382198334]]\n"
     ]
    }
   ],
   "source": [
    "# demonstrate prediction for next 10 days\n",
    "from numpy import array\n",
    "\n",
    "lst_output=[]\n",
    "n_steps=100\n",
    "i=0\n",
    "while(i<60):\n",
    "    \n",
    "    if(len(temp_input)>100):\n",
    "        #print(temp_input)\n",
    "        x_input=np.array(temp_input[1:])\n",
    "        print(\"{} day input {}\".format(i,x_input))\n",
    "        x_input=x_input.reshape(1,-1)\n",
    "        x_input = x_input.reshape((1, n_steps, 1))\n",
    "        #print(x_input)\n",
    "        yhat = model.predict(x_input, verbose=0)\n",
    "        print(\"{} day output {}\".format(i,yhat))\n",
    "        temp_input.extend(yhat[0].tolist())\n",
    "        temp_input=temp_input[1:]\n",
    "        #print(temp_input)\n",
    "        lst_output.extend(yhat.tolist())\n",
    "        i=i+1\n",
    "    else:\n",
    "        x_input = x_input.reshape((1, n_steps,1))\n",
    "        yhat = model.predict(x_input, verbose=0)\n",
    "        print(yhat[0])\n",
    "        temp_input.extend(yhat[0].tolist())\n",
    "        print(len(temp_input))\n",
    "        lst_output.extend(yhat.tolist())\n",
    "        i=i+1\n",
    "    \n",
    "\n",
    "print(lst_output)"
   ]
  },
  {
   "cell_type": "code",
   "execution_count": 79,
   "metadata": {
    "id": "0ZomEn5JCsfs"
   },
   "outputs": [],
   "source": [
    "day_new=np.arange(1,101)\n",
    "day_pred=np.arange(101,161)"
   ]
  },
  {
   "cell_type": "code",
   "execution_count": 80,
   "metadata": {
    "colab": {
     "base_uri": "https://localhost:8080/",
     "height": 286
    },
    "id": "gZcHpFDhCtYC",
    "outputId": "ae305151-bc77-4a2e-8038-aa8103503eee"
   },
   "outputs": [
    {
     "data": {
      "text/plain": [
       "[<matplotlib.lines.Line2D at 0x7fe10eb50b10>]"
      ]
     },
     "execution_count": 80,
     "metadata": {},
     "output_type": "execute_result"
    },
    {
     "data": {
      "image/png": "[encoded data removed]",
      "text/plain": [
       "<Figure size 432x288 with 1 Axes>"
      ]
     },
     "metadata": {
      "needs_background": "light"
     },
     "output_type": "display_data"
    }
   ],
   "source": [
    "plt.plot(day_new,scaler.inverse_transform(sales[1102:]))\n",
    "plt.plot(day_pred,scaler.inverse_transform(lst_output))"
   ]
  }
 ],
 "metadata": {
  "accelerator": "GPU",
  "colab": {
   "name": "Untitled3.ipynb",
   "provenance": []
  },
  "kernelspec": {
   "display_name": "Python 3 (ipykernel)",
   "language": "python",
   "name": "python3"
  },
  "language_info": {
   "codemirror_mode": {
    "name": "ipython",
    "version": 3
   },
   "file_extension": ".py",
   "mimetype": "text/x-python",
   "name": "python",
   "nbconvert_exporter": "python",
   "pygments_lexer": "ipython3",
   "version": "3.9.7"
  }
 },
 "nbformat": 4,
 "nbformat_minor": 1
}
